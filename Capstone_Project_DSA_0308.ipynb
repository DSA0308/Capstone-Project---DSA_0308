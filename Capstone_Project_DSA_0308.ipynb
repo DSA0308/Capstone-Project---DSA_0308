{
  "nbformat": 4,
  "nbformat_minor": 0,
  "metadata": {
    "colab": {
      "name": "Copy of Capstone Project - DSA_0308.ipynb",
      "provenance": [],
      "collapsed_sections": []
    },
    "kernelspec": {
      "name": "python3",
      "display_name": "Python 3"
    },
    "language_info": {
      "name": "python"
    }
  },
  "cells": [
    {
      "cell_type": "markdown",
      "source": [
        "### **Machine Learning Foundations**\n",
        "\n",
        "Capstone Project - Teaching Assistant Performance Evaluation\n",
        "\n",
        "Registration Number - DSA_0308\n"
      ],
      "metadata": {
        "id": "aHgz4WEHPlGL"
      }
    },
    {
      "cell_type": "code",
      "execution_count": null,
      "metadata": {
        "id": "JQNchrbWSmky"
      },
      "outputs": [],
      "source": [
        "import numpy as np\n",
        "import pandas as pd\n",
        "\n",
        "from matplotlib import pyplot\n",
        "import seaborn as sns\n",
        "\n",
        "import numpy as np\n",
        "import pandas as pd\n",
        "\n",
        "# Data visualization\n",
        "import matplotlib.pyplot as plt\n",
        "from matplotlib import cm # Colomaps\n",
        "import seaborn as sns\n",
        "\n",
        "# Classifier algorithms\n",
        "from sklearn.linear_model import LogisticRegression\n",
        "from sklearn.tree import DecisionTreeClassifier\n",
        "from sklearn.ensemble import RandomForestClassifier\n",
        "\n",
        "#train test split\n",
        "from sklearn.model_selection import train_test_split\n",
        "\n",
        "# Model evaluation\n",
        "from sklearn import metrics"
      ]
    },
    {
      "cell_type": "markdown",
      "source": [
        "Load Data"
      ],
      "metadata": {
        "id": "btpjoxDMQvYe"
      }
    },
    {
      "cell_type": "code",
      "source": [
        "file_name = 'https://archive.ics.uci.edu/ml/machine-learning-databases/tae/tae.data'\n",
        "\n",
        "data = pd.read_csv(file_name, header=None)\n",
        "data.head()"
      ],
      "metadata": {
        "colab": {
          "base_uri": "https://localhost:8080/",
          "height": 206
        },
        "id": "p4t4s8GBS1dc",
        "outputId": "cacb383f-cc10-4f76-e489-8bdb77909ed1"
      },
      "execution_count": null,
      "outputs": [
        {
          "output_type": "execute_result",
          "data": {
            "text/plain": [
              "   0   1   2  3   4  5\n",
              "0  1  23   3  1  19  3\n",
              "1  2  15   3  1  17  3\n",
              "2  1  23   3  2  49  3\n",
              "3  1   5   2  2  33  3\n",
              "4  2   7  11  2  55  3"
            ],
            "text/html": [
              "\n",
              "  <div id=\"df-06bed6f9-0507-4841-b556-edc4871dbe0f\">\n",
              "    <div class=\"colab-df-container\">\n",
              "      <div>\n",
              "<style scoped>\n",
              "    .dataframe tbody tr th:only-of-type {\n",
              "        vertical-align: middle;\n",
              "    }\n",
              "\n",
              "    .dataframe tbody tr th {\n",
              "        vertical-align: top;\n",
              "    }\n",
              "\n",
              "    .dataframe thead th {\n",
              "        text-align: right;\n",
              "    }\n",
              "</style>\n",
              "<table border=\"1\" class=\"dataframe\">\n",
              "  <thead>\n",
              "    <tr style=\"text-align: right;\">\n",
              "      <th></th>\n",
              "      <th>0</th>\n",
              "      <th>1</th>\n",
              "      <th>2</th>\n",
              "      <th>3</th>\n",
              "      <th>4</th>\n",
              "      <th>5</th>\n",
              "    </tr>\n",
              "  </thead>\n",
              "  <tbody>\n",
              "    <tr>\n",
              "      <th>0</th>\n",
              "      <td>1</td>\n",
              "      <td>23</td>\n",
              "      <td>3</td>\n",
              "      <td>1</td>\n",
              "      <td>19</td>\n",
              "      <td>3</td>\n",
              "    </tr>\n",
              "    <tr>\n",
              "      <th>1</th>\n",
              "      <td>2</td>\n",
              "      <td>15</td>\n",
              "      <td>3</td>\n",
              "      <td>1</td>\n",
              "      <td>17</td>\n",
              "      <td>3</td>\n",
              "    </tr>\n",
              "    <tr>\n",
              "      <th>2</th>\n",
              "      <td>1</td>\n",
              "      <td>23</td>\n",
              "      <td>3</td>\n",
              "      <td>2</td>\n",
              "      <td>49</td>\n",
              "      <td>3</td>\n",
              "    </tr>\n",
              "    <tr>\n",
              "      <th>3</th>\n",
              "      <td>1</td>\n",
              "      <td>5</td>\n",
              "      <td>2</td>\n",
              "      <td>2</td>\n",
              "      <td>33</td>\n",
              "      <td>3</td>\n",
              "    </tr>\n",
              "    <tr>\n",
              "      <th>4</th>\n",
              "      <td>2</td>\n",
              "      <td>7</td>\n",
              "      <td>11</td>\n",
              "      <td>2</td>\n",
              "      <td>55</td>\n",
              "      <td>3</td>\n",
              "    </tr>\n",
              "  </tbody>\n",
              "</table>\n",
              "</div>\n",
              "      <button class=\"colab-df-convert\" onclick=\"convertToInteractive('df-06bed6f9-0507-4841-b556-edc4871dbe0f')\"\n",
              "              title=\"Convert this dataframe to an interactive table.\"\n",
              "              style=\"display:none;\">\n",
              "        \n",
              "  <svg xmlns=\"http://www.w3.org/2000/svg\" height=\"24px\"viewBox=\"0 0 24 24\"\n",
              "       width=\"24px\">\n",
              "    <path d=\"M0 0h24v24H0V0z\" fill=\"none\"/>\n",
              "    <path d=\"M18.56 5.44l.94 2.06.94-2.06 2.06-.94-2.06-.94-.94-2.06-.94 2.06-2.06.94zm-11 1L8.5 8.5l.94-2.06 2.06-.94-2.06-.94L8.5 2.5l-.94 2.06-2.06.94zm10 10l.94 2.06.94-2.06 2.06-.94-2.06-.94-.94-2.06-.94 2.06-2.06.94z\"/><path d=\"M17.41 7.96l-1.37-1.37c-.4-.4-.92-.59-1.43-.59-.52 0-1.04.2-1.43.59L10.3 9.45l-7.72 7.72c-.78.78-.78 2.05 0 2.83L4 21.41c.39.39.9.59 1.41.59.51 0 1.02-.2 1.41-.59l7.78-7.78 2.81-2.81c.8-.78.8-2.07 0-2.86zM5.41 20L4 18.59l7.72-7.72 1.47 1.35L5.41 20z\"/>\n",
              "  </svg>\n",
              "      </button>\n",
              "      \n",
              "  <style>\n",
              "    .colab-df-container {\n",
              "      display:flex;\n",
              "      flex-wrap:wrap;\n",
              "      gap: 12px;\n",
              "    }\n",
              "\n",
              "    .colab-df-convert {\n",
              "      background-color: #E8F0FE;\n",
              "      border: none;\n",
              "      border-radius: 50%;\n",
              "      cursor: pointer;\n",
              "      display: none;\n",
              "      fill: #1967D2;\n",
              "      height: 32px;\n",
              "      padding: 0 0 0 0;\n",
              "      width: 32px;\n",
              "    }\n",
              "\n",
              "    .colab-df-convert:hover {\n",
              "      background-color: #E2EBFA;\n",
              "      box-shadow: 0px 1px 2px rgba(60, 64, 67, 0.3), 0px 1px 3px 1px rgba(60, 64, 67, 0.15);\n",
              "      fill: #174EA6;\n",
              "    }\n",
              "\n",
              "    [theme=dark] .colab-df-convert {\n",
              "      background-color: #3B4455;\n",
              "      fill: #D2E3FC;\n",
              "    }\n",
              "\n",
              "    [theme=dark] .colab-df-convert:hover {\n",
              "      background-color: #434B5C;\n",
              "      box-shadow: 0px 1px 3px 1px rgba(0, 0, 0, 0.15);\n",
              "      filter: drop-shadow(0px 1px 2px rgba(0, 0, 0, 0.3));\n",
              "      fill: #FFFFFF;\n",
              "    }\n",
              "  </style>\n",
              "\n",
              "      <script>\n",
              "        const buttonEl =\n",
              "          document.querySelector('#df-06bed6f9-0507-4841-b556-edc4871dbe0f button.colab-df-convert');\n",
              "        buttonEl.style.display =\n",
              "          google.colab.kernel.accessAllowed ? 'block' : 'none';\n",
              "\n",
              "        async function convertToInteractive(key) {\n",
              "          const element = document.querySelector('#df-06bed6f9-0507-4841-b556-edc4871dbe0f');\n",
              "          const dataTable =\n",
              "            await google.colab.kernel.invokeFunction('convertToInteractive',\n",
              "                                                     [key], {});\n",
              "          if (!dataTable) return;\n",
              "\n",
              "          const docLinkHtml = 'Like what you see? Visit the ' +\n",
              "            '<a target=\"_blank\" href=https://colab.research.google.com/notebooks/data_table.ipynb>data table notebook</a>'\n",
              "            + ' to learn more about interactive tables.';\n",
              "          element.innerHTML = '';\n",
              "          dataTable['output_type'] = 'display_data';\n",
              "          await google.colab.output.renderOutput(dataTable, element);\n",
              "          const docLink = document.createElement('div');\n",
              "          docLink.innerHTML = docLinkHtml;\n",
              "          element.appendChild(docLink);\n",
              "        }\n",
              "      </script>\n",
              "    </div>\n",
              "  </div>\n",
              "  "
            ]
          },
          "metadata": {},
          "execution_count": 46
        }
      ]
    },
    {
      "cell_type": "markdown",
      "source": [
        "Pre-process Data for Training"
      ],
      "metadata": {
        "id": "EzhlRfKqW1vV"
      }
    },
    {
      "cell_type": "code",
      "source": [
        "data.columns = ['English Speaking', \n",
        "                'Course instructor',\n",
        "                'Course',\n",
        "                'Semester',\n",
        "                'Class size',\n",
        "                'Performance']\n",
        "\n",
        "data.describe(include='all').transpose()"
      ],
      "metadata": {
        "colab": {
          "base_uri": "https://localhost:8080/",
          "height": 238
        },
        "id": "teU3k-gWTAux",
        "outputId": "07bc77dd-42c4-41b5-e8fd-44bf8cab9767"
      },
      "execution_count": null,
      "outputs": [
        {
          "output_type": "execute_result",
          "data": {
            "text/plain": [
              "                   count       mean        std  min   25%   50%   75%   max\n",
              "English Speaking   151.0   1.807947   0.395225  1.0   2.0   2.0   2.0   2.0\n",
              "Course instructor  151.0  13.642384   6.825779  1.0   8.0  13.0  20.0  25.0\n",
              "Course             151.0   8.105960   7.023914  1.0   3.0   4.0  15.0  26.0\n",
              "Semester           151.0   1.847682   0.360525  1.0   2.0   2.0   2.0   2.0\n",
              "Class size         151.0  27.867550  12.893758  3.0  19.0  27.0  37.0  66.0\n",
              "Performance        151.0   2.019868   0.820327  1.0   1.0   2.0   3.0   3.0"
            ],
            "text/html": [
              "\n",
              "  <div id=\"df-899da2c6-b268-44c0-94d2-63b53d0de4ea\">\n",
              "    <div class=\"colab-df-container\">\n",
              "      <div>\n",
              "<style scoped>\n",
              "    .dataframe tbody tr th:only-of-type {\n",
              "        vertical-align: middle;\n",
              "    }\n",
              "\n",
              "    .dataframe tbody tr th {\n",
              "        vertical-align: top;\n",
              "    }\n",
              "\n",
              "    .dataframe thead th {\n",
              "        text-align: right;\n",
              "    }\n",
              "</style>\n",
              "<table border=\"1\" class=\"dataframe\">\n",
              "  <thead>\n",
              "    <tr style=\"text-align: right;\">\n",
              "      <th></th>\n",
              "      <th>count</th>\n",
              "      <th>mean</th>\n",
              "      <th>std</th>\n",
              "      <th>min</th>\n",
              "      <th>25%</th>\n",
              "      <th>50%</th>\n",
              "      <th>75%</th>\n",
              "      <th>max</th>\n",
              "    </tr>\n",
              "  </thead>\n",
              "  <tbody>\n",
              "    <tr>\n",
              "      <th>English Speaking</th>\n",
              "      <td>151.0</td>\n",
              "      <td>1.807947</td>\n",
              "      <td>0.395225</td>\n",
              "      <td>1.0</td>\n",
              "      <td>2.0</td>\n",
              "      <td>2.0</td>\n",
              "      <td>2.0</td>\n",
              "      <td>2.0</td>\n",
              "    </tr>\n",
              "    <tr>\n",
              "      <th>Course instructor</th>\n",
              "      <td>151.0</td>\n",
              "      <td>13.642384</td>\n",
              "      <td>6.825779</td>\n",
              "      <td>1.0</td>\n",
              "      <td>8.0</td>\n",
              "      <td>13.0</td>\n",
              "      <td>20.0</td>\n",
              "      <td>25.0</td>\n",
              "    </tr>\n",
              "    <tr>\n",
              "      <th>Course</th>\n",
              "      <td>151.0</td>\n",
              "      <td>8.105960</td>\n",
              "      <td>7.023914</td>\n",
              "      <td>1.0</td>\n",
              "      <td>3.0</td>\n",
              "      <td>4.0</td>\n",
              "      <td>15.0</td>\n",
              "      <td>26.0</td>\n",
              "    </tr>\n",
              "    <tr>\n",
              "      <th>Semester</th>\n",
              "      <td>151.0</td>\n",
              "      <td>1.847682</td>\n",
              "      <td>0.360525</td>\n",
              "      <td>1.0</td>\n",
              "      <td>2.0</td>\n",
              "      <td>2.0</td>\n",
              "      <td>2.0</td>\n",
              "      <td>2.0</td>\n",
              "    </tr>\n",
              "    <tr>\n",
              "      <th>Class size</th>\n",
              "      <td>151.0</td>\n",
              "      <td>27.867550</td>\n",
              "      <td>12.893758</td>\n",
              "      <td>3.0</td>\n",
              "      <td>19.0</td>\n",
              "      <td>27.0</td>\n",
              "      <td>37.0</td>\n",
              "      <td>66.0</td>\n",
              "    </tr>\n",
              "    <tr>\n",
              "      <th>Performance</th>\n",
              "      <td>151.0</td>\n",
              "      <td>2.019868</td>\n",
              "      <td>0.820327</td>\n",
              "      <td>1.0</td>\n",
              "      <td>1.0</td>\n",
              "      <td>2.0</td>\n",
              "      <td>3.0</td>\n",
              "      <td>3.0</td>\n",
              "    </tr>\n",
              "  </tbody>\n",
              "</table>\n",
              "</div>\n",
              "      <button class=\"colab-df-convert\" onclick=\"convertToInteractive('df-899da2c6-b268-44c0-94d2-63b53d0de4ea')\"\n",
              "              title=\"Convert this dataframe to an interactive table.\"\n",
              "              style=\"display:none;\">\n",
              "        \n",
              "  <svg xmlns=\"http://www.w3.org/2000/svg\" height=\"24px\"viewBox=\"0 0 24 24\"\n",
              "       width=\"24px\">\n",
              "    <path d=\"M0 0h24v24H0V0z\" fill=\"none\"/>\n",
              "    <path d=\"M18.56 5.44l.94 2.06.94-2.06 2.06-.94-2.06-.94-.94-2.06-.94 2.06-2.06.94zm-11 1L8.5 8.5l.94-2.06 2.06-.94-2.06-.94L8.5 2.5l-.94 2.06-2.06.94zm10 10l.94 2.06.94-2.06 2.06-.94-2.06-.94-.94-2.06-.94 2.06-2.06.94z\"/><path d=\"M17.41 7.96l-1.37-1.37c-.4-.4-.92-.59-1.43-.59-.52 0-1.04.2-1.43.59L10.3 9.45l-7.72 7.72c-.78.78-.78 2.05 0 2.83L4 21.41c.39.39.9.59 1.41.59.51 0 1.02-.2 1.41-.59l7.78-7.78 2.81-2.81c.8-.78.8-2.07 0-2.86zM5.41 20L4 18.59l7.72-7.72 1.47 1.35L5.41 20z\"/>\n",
              "  </svg>\n",
              "      </button>\n",
              "      \n",
              "  <style>\n",
              "    .colab-df-container {\n",
              "      display:flex;\n",
              "      flex-wrap:wrap;\n",
              "      gap: 12px;\n",
              "    }\n",
              "\n",
              "    .colab-df-convert {\n",
              "      background-color: #E8F0FE;\n",
              "      border: none;\n",
              "      border-radius: 50%;\n",
              "      cursor: pointer;\n",
              "      display: none;\n",
              "      fill: #1967D2;\n",
              "      height: 32px;\n",
              "      padding: 0 0 0 0;\n",
              "      width: 32px;\n",
              "    }\n",
              "\n",
              "    .colab-df-convert:hover {\n",
              "      background-color: #E2EBFA;\n",
              "      box-shadow: 0px 1px 2px rgba(60, 64, 67, 0.3), 0px 1px 3px 1px rgba(60, 64, 67, 0.15);\n",
              "      fill: #174EA6;\n",
              "    }\n",
              "\n",
              "    [theme=dark] .colab-df-convert {\n",
              "      background-color: #3B4455;\n",
              "      fill: #D2E3FC;\n",
              "    }\n",
              "\n",
              "    [theme=dark] .colab-df-convert:hover {\n",
              "      background-color: #434B5C;\n",
              "      box-shadow: 0px 1px 3px 1px rgba(0, 0, 0, 0.15);\n",
              "      filter: drop-shadow(0px 1px 2px rgba(0, 0, 0, 0.3));\n",
              "      fill: #FFFFFF;\n",
              "    }\n",
              "  </style>\n",
              "\n",
              "      <script>\n",
              "        const buttonEl =\n",
              "          document.querySelector('#df-899da2c6-b268-44c0-94d2-63b53d0de4ea button.colab-df-convert');\n",
              "        buttonEl.style.display =\n",
              "          google.colab.kernel.accessAllowed ? 'block' : 'none';\n",
              "\n",
              "        async function convertToInteractive(key) {\n",
              "          const element = document.querySelector('#df-899da2c6-b268-44c0-94d2-63b53d0de4ea');\n",
              "          const dataTable =\n",
              "            await google.colab.kernel.invokeFunction('convertToInteractive',\n",
              "                                                     [key], {});\n",
              "          if (!dataTable) return;\n",
              "\n",
              "          const docLinkHtml = 'Like what you see? Visit the ' +\n",
              "            '<a target=\"_blank\" href=https://colab.research.google.com/notebooks/data_table.ipynb>data table notebook</a>'\n",
              "            + ' to learn more about interactive tables.';\n",
              "          element.innerHTML = '';\n",
              "          dataTable['output_type'] = 'display_data';\n",
              "          await google.colab.output.renderOutput(dataTable, element);\n",
              "          const docLink = document.createElement('div');\n",
              "          docLink.innerHTML = docLinkHtml;\n",
              "          element.appendChild(docLink);\n",
              "        }\n",
              "      </script>\n",
              "    </div>\n",
              "  </div>\n",
              "  "
            ]
          },
          "metadata": {},
          "execution_count": 47
        }
      ]
    },
    {
      "cell_type": "code",
      "source": [
        "data.info()"
      ],
      "metadata": {
        "colab": {
          "base_uri": "https://localhost:8080/"
        },
        "id": "djb3CbugTEm3",
        "outputId": "63dadd86-b6c8-4773-fad8-752c17a05c3f"
      },
      "execution_count": null,
      "outputs": [
        {
          "output_type": "stream",
          "name": "stdout",
          "text": [
            "<class 'pandas.core.frame.DataFrame'>\n",
            "RangeIndex: 151 entries, 0 to 150\n",
            "Data columns (total 6 columns):\n",
            " #   Column             Non-Null Count  Dtype\n",
            "---  ------             --------------  -----\n",
            " 0   English Speaking   151 non-null    int64\n",
            " 1   Course instructor  151 non-null    int64\n",
            " 2   Course             151 non-null    int64\n",
            " 3   Semester           151 non-null    int64\n",
            " 4   Class size         151 non-null    int64\n",
            " 5   Performance        151 non-null    int64\n",
            "dtypes: int64(6)\n",
            "memory usage: 7.2 KB\n"
          ]
        }
      ]
    },
    {
      "cell_type": "code",
      "source": [
        "data['id'] = data.index+1\n",
        "data"
      ],
      "metadata": {
        "colab": {
          "base_uri": "https://localhost:8080/",
          "height": 424
        },
        "id": "ekmEG7nyUyEh",
        "outputId": "a65ad461-405c-4f83-e260-ff409d07e17e"
      },
      "execution_count": null,
      "outputs": [
        {
          "output_type": "execute_result",
          "data": {
            "text/plain": [
              "     English Speaking  Course instructor  Course  Semester  Class size  \\\n",
              "0                   1                 23       3         1          19   \n",
              "1                   2                 15       3         1          17   \n",
              "2                   1                 23       3         2          49   \n",
              "3                   1                  5       2         2          33   \n",
              "4                   2                  7      11         2          55   \n",
              "..                ...                ...     ...       ...         ...   \n",
              "146                 2                  3       2         2          26   \n",
              "147                 2                 10       3         2          12   \n",
              "148                 1                 18       7         2          48   \n",
              "149                 2                 22       1         2          51   \n",
              "150                 2                  2      10         2          27   \n",
              "\n",
              "     Performance   id  \n",
              "0              3    1  \n",
              "1              3    2  \n",
              "2              3    3  \n",
              "3              3    4  \n",
              "4              3    5  \n",
              "..           ...  ...  \n",
              "146            1  147  \n",
              "147            1  148  \n",
              "148            1  149  \n",
              "149            1  150  \n",
              "150            1  151  \n",
              "\n",
              "[151 rows x 7 columns]"
            ],
            "text/html": [
              "\n",
              "  <div id=\"df-6aed7b1d-2e73-4ace-bf44-942681a2dfa2\">\n",
              "    <div class=\"colab-df-container\">\n",
              "      <div>\n",
              "<style scoped>\n",
              "    .dataframe tbody tr th:only-of-type {\n",
              "        vertical-align: middle;\n",
              "    }\n",
              "\n",
              "    .dataframe tbody tr th {\n",
              "        vertical-align: top;\n",
              "    }\n",
              "\n",
              "    .dataframe thead th {\n",
              "        text-align: right;\n",
              "    }\n",
              "</style>\n",
              "<table border=\"1\" class=\"dataframe\">\n",
              "  <thead>\n",
              "    <tr style=\"text-align: right;\">\n",
              "      <th></th>\n",
              "      <th>English Speaking</th>\n",
              "      <th>Course instructor</th>\n",
              "      <th>Course</th>\n",
              "      <th>Semester</th>\n",
              "      <th>Class size</th>\n",
              "      <th>Performance</th>\n",
              "      <th>id</th>\n",
              "    </tr>\n",
              "  </thead>\n",
              "  <tbody>\n",
              "    <tr>\n",
              "      <th>0</th>\n",
              "      <td>1</td>\n",
              "      <td>23</td>\n",
              "      <td>3</td>\n",
              "      <td>1</td>\n",
              "      <td>19</td>\n",
              "      <td>3</td>\n",
              "      <td>1</td>\n",
              "    </tr>\n",
              "    <tr>\n",
              "      <th>1</th>\n",
              "      <td>2</td>\n",
              "      <td>15</td>\n",
              "      <td>3</td>\n",
              "      <td>1</td>\n",
              "      <td>17</td>\n",
              "      <td>3</td>\n",
              "      <td>2</td>\n",
              "    </tr>\n",
              "    <tr>\n",
              "      <th>2</th>\n",
              "      <td>1</td>\n",
              "      <td>23</td>\n",
              "      <td>3</td>\n",
              "      <td>2</td>\n",
              "      <td>49</td>\n",
              "      <td>3</td>\n",
              "      <td>3</td>\n",
              "    </tr>\n",
              "    <tr>\n",
              "      <th>3</th>\n",
              "      <td>1</td>\n",
              "      <td>5</td>\n",
              "      <td>2</td>\n",
              "      <td>2</td>\n",
              "      <td>33</td>\n",
              "      <td>3</td>\n",
              "      <td>4</td>\n",
              "    </tr>\n",
              "    <tr>\n",
              "      <th>4</th>\n",
              "      <td>2</td>\n",
              "      <td>7</td>\n",
              "      <td>11</td>\n",
              "      <td>2</td>\n",
              "      <td>55</td>\n",
              "      <td>3</td>\n",
              "      <td>5</td>\n",
              "    </tr>\n",
              "    <tr>\n",
              "      <th>...</th>\n",
              "      <td>...</td>\n",
              "      <td>...</td>\n",
              "      <td>...</td>\n",
              "      <td>...</td>\n",
              "      <td>...</td>\n",
              "      <td>...</td>\n",
              "      <td>...</td>\n",
              "    </tr>\n",
              "    <tr>\n",
              "      <th>146</th>\n",
              "      <td>2</td>\n",
              "      <td>3</td>\n",
              "      <td>2</td>\n",
              "      <td>2</td>\n",
              "      <td>26</td>\n",
              "      <td>1</td>\n",
              "      <td>147</td>\n",
              "    </tr>\n",
              "    <tr>\n",
              "      <th>147</th>\n",
              "      <td>2</td>\n",
              "      <td>10</td>\n",
              "      <td>3</td>\n",
              "      <td>2</td>\n",
              "      <td>12</td>\n",
              "      <td>1</td>\n",
              "      <td>148</td>\n",
              "    </tr>\n",
              "    <tr>\n",
              "      <th>148</th>\n",
              "      <td>1</td>\n",
              "      <td>18</td>\n",
              "      <td>7</td>\n",
              "      <td>2</td>\n",
              "      <td>48</td>\n",
              "      <td>1</td>\n",
              "      <td>149</td>\n",
              "    </tr>\n",
              "    <tr>\n",
              "      <th>149</th>\n",
              "      <td>2</td>\n",
              "      <td>22</td>\n",
              "      <td>1</td>\n",
              "      <td>2</td>\n",
              "      <td>51</td>\n",
              "      <td>1</td>\n",
              "      <td>150</td>\n",
              "    </tr>\n",
              "    <tr>\n",
              "      <th>150</th>\n",
              "      <td>2</td>\n",
              "      <td>2</td>\n",
              "      <td>10</td>\n",
              "      <td>2</td>\n",
              "      <td>27</td>\n",
              "      <td>1</td>\n",
              "      <td>151</td>\n",
              "    </tr>\n",
              "  </tbody>\n",
              "</table>\n",
              "<p>151 rows × 7 columns</p>\n",
              "</div>\n",
              "      <button class=\"colab-df-convert\" onclick=\"convertToInteractive('df-6aed7b1d-2e73-4ace-bf44-942681a2dfa2')\"\n",
              "              title=\"Convert this dataframe to an interactive table.\"\n",
              "              style=\"display:none;\">\n",
              "        \n",
              "  <svg xmlns=\"http://www.w3.org/2000/svg\" height=\"24px\"viewBox=\"0 0 24 24\"\n",
              "       width=\"24px\">\n",
              "    <path d=\"M0 0h24v24H0V0z\" fill=\"none\"/>\n",
              "    <path d=\"M18.56 5.44l.94 2.06.94-2.06 2.06-.94-2.06-.94-.94-2.06-.94 2.06-2.06.94zm-11 1L8.5 8.5l.94-2.06 2.06-.94-2.06-.94L8.5 2.5l-.94 2.06-2.06.94zm10 10l.94 2.06.94-2.06 2.06-.94-2.06-.94-.94-2.06-.94 2.06-2.06.94z\"/><path d=\"M17.41 7.96l-1.37-1.37c-.4-.4-.92-.59-1.43-.59-.52 0-1.04.2-1.43.59L10.3 9.45l-7.72 7.72c-.78.78-.78 2.05 0 2.83L4 21.41c.39.39.9.59 1.41.59.51 0 1.02-.2 1.41-.59l7.78-7.78 2.81-2.81c.8-.78.8-2.07 0-2.86zM5.41 20L4 18.59l7.72-7.72 1.47 1.35L5.41 20z\"/>\n",
              "  </svg>\n",
              "      </button>\n",
              "      \n",
              "  <style>\n",
              "    .colab-df-container {\n",
              "      display:flex;\n",
              "      flex-wrap:wrap;\n",
              "      gap: 12px;\n",
              "    }\n",
              "\n",
              "    .colab-df-convert {\n",
              "      background-color: #E8F0FE;\n",
              "      border: none;\n",
              "      border-radius: 50%;\n",
              "      cursor: pointer;\n",
              "      display: none;\n",
              "      fill: #1967D2;\n",
              "      height: 32px;\n",
              "      padding: 0 0 0 0;\n",
              "      width: 32px;\n",
              "    }\n",
              "\n",
              "    .colab-df-convert:hover {\n",
              "      background-color: #E2EBFA;\n",
              "      box-shadow: 0px 1px 2px rgba(60, 64, 67, 0.3), 0px 1px 3px 1px rgba(60, 64, 67, 0.15);\n",
              "      fill: #174EA6;\n",
              "    }\n",
              "\n",
              "    [theme=dark] .colab-df-convert {\n",
              "      background-color: #3B4455;\n",
              "      fill: #D2E3FC;\n",
              "    }\n",
              "\n",
              "    [theme=dark] .colab-df-convert:hover {\n",
              "      background-color: #434B5C;\n",
              "      box-shadow: 0px 1px 3px 1px rgba(0, 0, 0, 0.15);\n",
              "      filter: drop-shadow(0px 1px 2px rgba(0, 0, 0, 0.3));\n",
              "      fill: #FFFFFF;\n",
              "    }\n",
              "  </style>\n",
              "\n",
              "      <script>\n",
              "        const buttonEl =\n",
              "          document.querySelector('#df-6aed7b1d-2e73-4ace-bf44-942681a2dfa2 button.colab-df-convert');\n",
              "        buttonEl.style.display =\n",
              "          google.colab.kernel.accessAllowed ? 'block' : 'none';\n",
              "\n",
              "        async function convertToInteractive(key) {\n",
              "          const element = document.querySelector('#df-6aed7b1d-2e73-4ace-bf44-942681a2dfa2');\n",
              "          const dataTable =\n",
              "            await google.colab.kernel.invokeFunction('convertToInteractive',\n",
              "                                                     [key], {});\n",
              "          if (!dataTable) return;\n",
              "\n",
              "          const docLinkHtml = 'Like what you see? Visit the ' +\n",
              "            '<a target=\"_blank\" href=https://colab.research.google.com/notebooks/data_table.ipynb>data table notebook</a>'\n",
              "            + ' to learn more about interactive tables.';\n",
              "          element.innerHTML = '';\n",
              "          dataTable['output_type'] = 'display_data';\n",
              "          await google.colab.output.renderOutput(dataTable, element);\n",
              "          const docLink = document.createElement('div');\n",
              "          docLink.innerHTML = docLinkHtml;\n",
              "          element.appendChild(docLink);\n",
              "        }\n",
              "      </script>\n",
              "    </div>\n",
              "  </div>\n",
              "  "
            ]
          },
          "metadata": {},
          "execution_count": 49
        }
      ]
    },
    {
      "cell_type": "code",
      "source": [
        "data.columns"
      ],
      "metadata": {
        "colab": {
          "base_uri": "https://localhost:8080/"
        },
        "id": "o8g0Hwe4TeRK",
        "outputId": "0fd66adc-169a-4846-ccc1-8ec24cd9cdda"
      },
      "execution_count": null,
      "outputs": [
        {
          "output_type": "execute_result",
          "data": {
            "text/plain": [
              "Index(['English Speaking', 'Course instructor', 'Course', 'Semester',\n",
              "       'Class size', 'Performance', 'id'],\n",
              "      dtype='object')"
            ]
          },
          "metadata": {},
          "execution_count": 50
        }
      ]
    },
    {
      "cell_type": "code",
      "source": [
        "data['Performance'].value_counts()"
      ],
      "metadata": {
        "colab": {
          "base_uri": "https://localhost:8080/"
        },
        "id": "lvuciMo1UT2V",
        "outputId": "ce62797a-a867-4e23-95a3-b74745cacdb3"
      },
      "execution_count": null,
      "outputs": [
        {
          "output_type": "execute_result",
          "data": {
            "text/plain": [
              "3    52\n",
              "2    50\n",
              "1    49\n",
              "Name: Performance, dtype: int64"
            ]
          },
          "metadata": {},
          "execution_count": 51
        }
      ]
    },
    {
      "cell_type": "code",
      "source": [
        "correlation_matrix = data[['English Speaking','Course instructor','Course','Semester','Class size','Performance']].corr()\n",
        "\n",
        "sns.heatmap(correlation_matrix)\n",
        "correlation_matrix"
      ],
      "metadata": {
        "colab": {
          "base_uri": "https://localhost:8080/",
          "height": 567
        },
        "id": "3RuuRQS8VK5f",
        "outputId": "1399f73d-48a9-43ad-f540-817e5eff7512"
      },
      "execution_count": null,
      "outputs": [
        {
          "output_type": "execute_result",
          "data": {
            "text/plain": [
              "                   English Speaking  Course instructor    Course  Semester  \\\n",
              "English Speaking           1.000000          -0.250510  0.134660  0.214417   \n",
              "Course instructor         -0.250510           1.000000 -0.236010 -0.168573   \n",
              "Course                     0.134660          -0.236010  1.000000  0.224927   \n",
              "Semester                   0.214417          -0.168573  0.224927  1.000000   \n",
              "Class size                -0.151547          -0.035765 -0.033485  0.269554   \n",
              "Performance               -0.255466           0.075095  0.143103 -0.282742   \n",
              "\n",
              "                   Class size  Performance  \n",
              "English Speaking    -0.151547    -0.255466  \n",
              "Course instructor   -0.035765     0.075095  \n",
              "Course              -0.033485     0.143103  \n",
              "Semester             0.269554    -0.282742  \n",
              "Class size           1.000000    -0.035676  \n",
              "Performance         -0.035676     1.000000  "
            ],
            "text/html": [
              "\n",
              "  <div id=\"df-9a27afec-3f05-428f-bd1e-4b11af36e293\">\n",
              "    <div class=\"colab-df-container\">\n",
              "      <div>\n",
              "<style scoped>\n",
              "    .dataframe tbody tr th:only-of-type {\n",
              "        vertical-align: middle;\n",
              "    }\n",
              "\n",
              "    .dataframe tbody tr th {\n",
              "        vertical-align: top;\n",
              "    }\n",
              "\n",
              "    .dataframe thead th {\n",
              "        text-align: right;\n",
              "    }\n",
              "</style>\n",
              "<table border=\"1\" class=\"dataframe\">\n",
              "  <thead>\n",
              "    <tr style=\"text-align: right;\">\n",
              "      <th></th>\n",
              "      <th>English Speaking</th>\n",
              "      <th>Course instructor</th>\n",
              "      <th>Course</th>\n",
              "      <th>Semester</th>\n",
              "      <th>Class size</th>\n",
              "      <th>Performance</th>\n",
              "    </tr>\n",
              "  </thead>\n",
              "  <tbody>\n",
              "    <tr>\n",
              "      <th>English Speaking</th>\n",
              "      <td>1.000000</td>\n",
              "      <td>-0.250510</td>\n",
              "      <td>0.134660</td>\n",
              "      <td>0.214417</td>\n",
              "      <td>-0.151547</td>\n",
              "      <td>-0.255466</td>\n",
              "    </tr>\n",
              "    <tr>\n",
              "      <th>Course instructor</th>\n",
              "      <td>-0.250510</td>\n",
              "      <td>1.000000</td>\n",
              "      <td>-0.236010</td>\n",
              "      <td>-0.168573</td>\n",
              "      <td>-0.035765</td>\n",
              "      <td>0.075095</td>\n",
              "    </tr>\n",
              "    <tr>\n",
              "      <th>Course</th>\n",
              "      <td>0.134660</td>\n",
              "      <td>-0.236010</td>\n",
              "      <td>1.000000</td>\n",
              "      <td>0.224927</td>\n",
              "      <td>-0.033485</td>\n",
              "      <td>0.143103</td>\n",
              "    </tr>\n",
              "    <tr>\n",
              "      <th>Semester</th>\n",
              "      <td>0.214417</td>\n",
              "      <td>-0.168573</td>\n",
              "      <td>0.224927</td>\n",
              "      <td>1.000000</td>\n",
              "      <td>0.269554</td>\n",
              "      <td>-0.282742</td>\n",
              "    </tr>\n",
              "    <tr>\n",
              "      <th>Class size</th>\n",
              "      <td>-0.151547</td>\n",
              "      <td>-0.035765</td>\n",
              "      <td>-0.033485</td>\n",
              "      <td>0.269554</td>\n",
              "      <td>1.000000</td>\n",
              "      <td>-0.035676</td>\n",
              "    </tr>\n",
              "    <tr>\n",
              "      <th>Performance</th>\n",
              "      <td>-0.255466</td>\n",
              "      <td>0.075095</td>\n",
              "      <td>0.143103</td>\n",
              "      <td>-0.282742</td>\n",
              "      <td>-0.035676</td>\n",
              "      <td>1.000000</td>\n",
              "    </tr>\n",
              "  </tbody>\n",
              "</table>\n",
              "</div>\n",
              "      <button class=\"colab-df-convert\" onclick=\"convertToInteractive('df-9a27afec-3f05-428f-bd1e-4b11af36e293')\"\n",
              "              title=\"Convert this dataframe to an interactive table.\"\n",
              "              style=\"display:none;\">\n",
              "        \n",
              "  <svg xmlns=\"http://www.w3.org/2000/svg\" height=\"24px\"viewBox=\"0 0 24 24\"\n",
              "       width=\"24px\">\n",
              "    <path d=\"M0 0h24v24H0V0z\" fill=\"none\"/>\n",
              "    <path d=\"M18.56 5.44l.94 2.06.94-2.06 2.06-.94-2.06-.94-.94-2.06-.94 2.06-2.06.94zm-11 1L8.5 8.5l.94-2.06 2.06-.94-2.06-.94L8.5 2.5l-.94 2.06-2.06.94zm10 10l.94 2.06.94-2.06 2.06-.94-2.06-.94-.94-2.06-.94 2.06-2.06.94z\"/><path d=\"M17.41 7.96l-1.37-1.37c-.4-.4-.92-.59-1.43-.59-.52 0-1.04.2-1.43.59L10.3 9.45l-7.72 7.72c-.78.78-.78 2.05 0 2.83L4 21.41c.39.39.9.59 1.41.59.51 0 1.02-.2 1.41-.59l7.78-7.78 2.81-2.81c.8-.78.8-2.07 0-2.86zM5.41 20L4 18.59l7.72-7.72 1.47 1.35L5.41 20z\"/>\n",
              "  </svg>\n",
              "      </button>\n",
              "      \n",
              "  <style>\n",
              "    .colab-df-container {\n",
              "      display:flex;\n",
              "      flex-wrap:wrap;\n",
              "      gap: 12px;\n",
              "    }\n",
              "\n",
              "    .colab-df-convert {\n",
              "      background-color: #E8F0FE;\n",
              "      border: none;\n",
              "      border-radius: 50%;\n",
              "      cursor: pointer;\n",
              "      display: none;\n",
              "      fill: #1967D2;\n",
              "      height: 32px;\n",
              "      padding: 0 0 0 0;\n",
              "      width: 32px;\n",
              "    }\n",
              "\n",
              "    .colab-df-convert:hover {\n",
              "      background-color: #E2EBFA;\n",
              "      box-shadow: 0px 1px 2px rgba(60, 64, 67, 0.3), 0px 1px 3px 1px rgba(60, 64, 67, 0.15);\n",
              "      fill: #174EA6;\n",
              "    }\n",
              "\n",
              "    [theme=dark] .colab-df-convert {\n",
              "      background-color: #3B4455;\n",
              "      fill: #D2E3FC;\n",
              "    }\n",
              "\n",
              "    [theme=dark] .colab-df-convert:hover {\n",
              "      background-color: #434B5C;\n",
              "      box-shadow: 0px 1px 3px 1px rgba(0, 0, 0, 0.15);\n",
              "      filter: drop-shadow(0px 1px 2px rgba(0, 0, 0, 0.3));\n",
              "      fill: #FFFFFF;\n",
              "    }\n",
              "  </style>\n",
              "\n",
              "      <script>\n",
              "        const buttonEl =\n",
              "          document.querySelector('#df-9a27afec-3f05-428f-bd1e-4b11af36e293 button.colab-df-convert');\n",
              "        buttonEl.style.display =\n",
              "          google.colab.kernel.accessAllowed ? 'block' : 'none';\n",
              "\n",
              "        async function convertToInteractive(key) {\n",
              "          const element = document.querySelector('#df-9a27afec-3f05-428f-bd1e-4b11af36e293');\n",
              "          const dataTable =\n",
              "            await google.colab.kernel.invokeFunction('convertToInteractive',\n",
              "                                                     [key], {});\n",
              "          if (!dataTable) return;\n",
              "\n",
              "          const docLinkHtml = 'Like what you see? Visit the ' +\n",
              "            '<a target=\"_blank\" href=https://colab.research.google.com/notebooks/data_table.ipynb>data table notebook</a>'\n",
              "            + ' to learn more about interactive tables.';\n",
              "          element.innerHTML = '';\n",
              "          dataTable['output_type'] = 'display_data';\n",
              "          await google.colab.output.renderOutput(dataTable, element);\n",
              "          const docLink = document.createElement('div');\n",
              "          docLink.innerHTML = docLinkHtml;\n",
              "          element.appendChild(docLink);\n",
              "        }\n",
              "      </script>\n",
              "    </div>\n",
              "  </div>\n",
              "  "
            ]
          },
          "metadata": {},
          "execution_count": 52
        },
        {
          "output_type": "display_data",
          "data": {
            "text/plain": [
              "<Figure size 432x288 with 2 Axes>"
            ],
            "image/png": "[encoded data removed]"
          },
          "metadata": {
            "needs_background": "light"
          }
        }
      ]
    },
    {
      "cell_type": "code",
      "source": [
        "X_variables = ['English Speaking','Course instructor','Course','Semester','Class size']\n",
        "data[X_variables].head()"
      ],
      "metadata": {
        "colab": {
          "base_uri": "https://localhost:8080/",
          "height": 206
        },
        "id": "TNRsHOF0VOx-",
        "outputId": "79085b94-4c20-4f78-8338-d4f4d8de84fc"
      },
      "execution_count": null,
      "outputs": [
        {
          "output_type": "execute_result",
          "data": {
            "text/plain": [
              "   English Speaking  Course instructor  Course  Semester  Class size\n",
              "0                 1                 23       3         1          19\n",
              "1                 2                 15       3         1          17\n",
              "2                 1                 23       3         2          49\n",
              "3                 1                  5       2         2          33\n",
              "4                 2                  7      11         2          55"
            ],
            "text/html": [
              "\n",
              "  <div id=\"df-5d1f5df9-f8e5-4b21-8fda-535c516d01e3\">\n",
              "    <div class=\"colab-df-container\">\n",
              "      <div>\n",
              "<style scoped>\n",
              "    .dataframe tbody tr th:only-of-type {\n",
              "        vertical-align: middle;\n",
              "    }\n",
              "\n",
              "    .dataframe tbody tr th {\n",
              "        vertical-align: top;\n",
              "    }\n",
              "\n",
              "    .dataframe thead th {\n",
              "        text-align: right;\n",
              "    }\n",
              "</style>\n",
              "<table border=\"1\" class=\"dataframe\">\n",
              "  <thead>\n",
              "    <tr style=\"text-align: right;\">\n",
              "      <th></th>\n",
              "      <th>English Speaking</th>\n",
              "      <th>Course instructor</th>\n",
              "      <th>Course</th>\n",
              "      <th>Semester</th>\n",
              "      <th>Class size</th>\n",
              "    </tr>\n",
              "  </thead>\n",
              "  <tbody>\n",
              "    <tr>\n",
              "      <th>0</th>\n",
              "      <td>1</td>\n",
              "      <td>23</td>\n",
              "      <td>3</td>\n",
              "      <td>1</td>\n",
              "      <td>19</td>\n",
              "    </tr>\n",
              "    <tr>\n",
              "      <th>1</th>\n",
              "      <td>2</td>\n",
              "      <td>15</td>\n",
              "      <td>3</td>\n",
              "      <td>1</td>\n",
              "      <td>17</td>\n",
              "    </tr>\n",
              "    <tr>\n",
              "      <th>2</th>\n",
              "      <td>1</td>\n",
              "      <td>23</td>\n",
              "      <td>3</td>\n",
              "      <td>2</td>\n",
              "      <td>49</td>\n",
              "    </tr>\n",
              "    <tr>\n",
              "      <th>3</th>\n",
              "      <td>1</td>\n",
              "      <td>5</td>\n",
              "      <td>2</td>\n",
              "      <td>2</td>\n",
              "      <td>33</td>\n",
              "    </tr>\n",
              "    <tr>\n",
              "      <th>4</th>\n",
              "      <td>2</td>\n",
              "      <td>7</td>\n",
              "      <td>11</td>\n",
              "      <td>2</td>\n",
              "      <td>55</td>\n",
              "    </tr>\n",
              "  </tbody>\n",
              "</table>\n",
              "</div>\n",
              "      <button class=\"colab-df-convert\" onclick=\"convertToInteractive('df-5d1f5df9-f8e5-4b21-8fda-535c516d01e3')\"\n",
              "              title=\"Convert this dataframe to an interactive table.\"\n",
              "              style=\"display:none;\">\n",
              "        \n",
              "  <svg xmlns=\"http://www.w3.org/2000/svg\" height=\"24px\"viewBox=\"0 0 24 24\"\n",
              "       width=\"24px\">\n",
              "    <path d=\"M0 0h24v24H0V0z\" fill=\"none\"/>\n",
              "    <path d=\"M18.56 5.44l.94 2.06.94-2.06 2.06-.94-2.06-.94-.94-2.06-.94 2.06-2.06.94zm-11 1L8.5 8.5l.94-2.06 2.06-.94-2.06-.94L8.5 2.5l-.94 2.06-2.06.94zm10 10l.94 2.06.94-2.06 2.06-.94-2.06-.94-.94-2.06-.94 2.06-2.06.94z\"/><path d=\"M17.41 7.96l-1.37-1.37c-.4-.4-.92-.59-1.43-.59-.52 0-1.04.2-1.43.59L10.3 9.45l-7.72 7.72c-.78.78-.78 2.05 0 2.83L4 21.41c.39.39.9.59 1.41.59.51 0 1.02-.2 1.41-.59l7.78-7.78 2.81-2.81c.8-.78.8-2.07 0-2.86zM5.41 20L4 18.59l7.72-7.72 1.47 1.35L5.41 20z\"/>\n",
              "  </svg>\n",
              "      </button>\n",
              "      \n",
              "  <style>\n",
              "    .colab-df-container {\n",
              "      display:flex;\n",
              "      flex-wrap:wrap;\n",
              "      gap: 12px;\n",
              "    }\n",
              "\n",
              "    .colab-df-convert {\n",
              "      background-color: #E8F0FE;\n",
              "      border: none;\n",
              "      border-radius: 50%;\n",
              "      cursor: pointer;\n",
              "      display: none;\n",
              "      fill: #1967D2;\n",
              "      height: 32px;\n",
              "      padding: 0 0 0 0;\n",
              "      width: 32px;\n",
              "    }\n",
              "\n",
              "    .colab-df-convert:hover {\n",
              "      background-color: #E2EBFA;\n",
              "      box-shadow: 0px 1px 2px rgba(60, 64, 67, 0.3), 0px 1px 3px 1px rgba(60, 64, 67, 0.15);\n",
              "      fill: #174EA6;\n",
              "    }\n",
              "\n",
              "    [theme=dark] .colab-df-convert {\n",
              "      background-color: #3B4455;\n",
              "      fill: #D2E3FC;\n",
              "    }\n",
              "\n",
              "    [theme=dark] .colab-df-convert:hover {\n",
              "      background-color: #434B5C;\n",
              "      box-shadow: 0px 1px 3px 1px rgba(0, 0, 0, 0.15);\n",
              "      filter: drop-shadow(0px 1px 2px rgba(0, 0, 0, 0.3));\n",
              "      fill: #FFFFFF;\n",
              "    }\n",
              "  </style>\n",
              "\n",
              "      <script>\n",
              "        const buttonEl =\n",
              "          document.querySelector('#df-5d1f5df9-f8e5-4b21-8fda-535c516d01e3 button.colab-df-convert');\n",
              "        buttonEl.style.display =\n",
              "          google.colab.kernel.accessAllowed ? 'block' : 'none';\n",
              "\n",
              "        async function convertToInteractive(key) {\n",
              "          const element = document.querySelector('#df-5d1f5df9-f8e5-4b21-8fda-535c516d01e3');\n",
              "          const dataTable =\n",
              "            await google.colab.kernel.invokeFunction('convertToInteractive',\n",
              "                                                     [key], {});\n",
              "          if (!dataTable) return;\n",
              "\n",
              "          const docLinkHtml = 'Like what you see? Visit the ' +\n",
              "            '<a target=\"_blank\" href=https://colab.research.google.com/notebooks/data_table.ipynb>data table notebook</a>'\n",
              "            + ' to learn more about interactive tables.';\n",
              "          element.innerHTML = '';\n",
              "          dataTable['output_type'] = 'display_data';\n",
              "          await google.colab.output.renderOutput(dataTable, element);\n",
              "          const docLink = document.createElement('div');\n",
              "          docLink.innerHTML = docLinkHtml;\n",
              "          element.appendChild(docLink);\n",
              "        }\n",
              "      </script>\n",
              "    </div>\n",
              "  </div>\n",
              "  "
            ]
          },
          "metadata": {},
          "execution_count": 53
        }
      ]
    },
    {
      "cell_type": "code",
      "source": [
        "y_varibale = 'Performance'\n",
        "data[y_varibale].head()"
      ],
      "metadata": {
        "colab": {
          "base_uri": "https://localhost:8080/"
        },
        "id": "AL5KCLY3VZas",
        "outputId": "7fce8336-f482-4bab-b3d5-99d2ba575c92"
      },
      "execution_count": null,
      "outputs": [
        {
          "output_type": "execute_result",
          "data": {
            "text/plain": [
              "0    3\n",
              "1    3\n",
              "2    3\n",
              "3    3\n",
              "4    3\n",
              "Name: Performance, dtype: int64"
            ]
          },
          "metadata": {},
          "execution_count": 54
        }
      ]
    },
    {
      "cell_type": "code",
      "source": [
        "X = data[X_variables].values\n",
        "X"
      ],
      "metadata": {
        "colab": {
          "base_uri": "https://localhost:8080/"
        },
        "id": "lUY47_GnWZEP",
        "outputId": "4400c39c-a637-40fd-8440-ac0ec30fa5b5"
      },
      "execution_count": null,
      "outputs": [
        {
          "output_type": "execute_result",
          "data": {
            "text/plain": [
              "array([[ 1, 23,  3,  1, 19],\n",
              "       [ 2, 15,  3,  1, 17],\n",
              "       [ 1, 23,  3,  2, 49],\n",
              "       [ 1,  5,  2,  2, 33],\n",
              "       [ 2,  7, 11,  2, 55],\n",
              "       [ 2, 23,  3,  1, 20],\n",
              "       [ 2,  9,  5,  2, 19],\n",
              "       [ 2, 10,  3,  2, 27],\n",
              "       [ 1, 22,  3,  1, 58],\n",
              "       [ 2, 15,  3,  1, 20],\n",
              "       [ 2, 10, 22,  2,  9],\n",
              "       [ 2, 13,  1,  2, 30],\n",
              "       [ 2, 18, 21,  2, 29],\n",
              "       [ 2,  6, 17,  2, 39],\n",
              "       [ 2,  6, 17,  2, 42],\n",
              "       [ 2,  6, 17,  2, 43],\n",
              "       [ 2,  7, 11,  2, 10],\n",
              "       [ 2, 22,  3,  2, 46],\n",
              "       [ 2, 13,  3,  1, 10],\n",
              "       [ 2,  7, 25,  2, 42],\n",
              "       [ 2, 25,  7,  2, 27],\n",
              "       [ 2, 25,  7,  2, 23],\n",
              "       [ 2,  2,  9,  2, 31],\n",
              "       [ 2,  1, 15,  1, 22],\n",
              "       [ 2, 15, 13,  2, 37],\n",
              "       [ 2,  7, 11,  2, 13],\n",
              "       [ 2,  8,  3,  2, 24],\n",
              "       [ 2, 14, 15,  2, 38],\n",
              "       [ 2, 21,  2,  2, 42],\n",
              "       [ 2, 22,  3,  2, 28],\n",
              "       [ 2, 11,  1,  2, 51],\n",
              "       [ 2, 18,  5,  2, 19],\n",
              "       [ 2, 13,  1,  2, 31],\n",
              "       [ 1, 13,  3,  1, 13],\n",
              "       [ 2,  5,  2,  2, 37],\n",
              "       [ 2, 16,  8,  2, 36],\n",
              "       [ 2,  4, 16,  2, 21],\n",
              "       [ 2,  5,  2,  2, 48],\n",
              "       [ 2, 14, 15,  2, 38],\n",
              "       [ 1, 23,  3,  1, 19],\n",
              "       [ 2, 15,  3,  1, 17],\n",
              "       [ 1, 23,  3,  2, 49],\n",
              "       [ 1,  5,  2,  2, 33],\n",
              "       [ 2,  7, 11,  2, 55],\n",
              "       [ 2, 23,  3,  1, 20],\n",
              "       [ 2,  9,  5,  2, 19],\n",
              "       [ 2, 10,  3,  2, 27],\n",
              "       [ 1, 22,  3,  2, 58],\n",
              "       [ 2, 15,  3,  1, 20],\n",
              "       [ 2, 10, 22,  2,  9],\n",
              "       [ 2, 13,  1,  2, 30],\n",
              "       [ 2, 18, 21,  2, 29],\n",
              "       [ 2,  6, 17,  2, 39],\n",
              "       [ 2,  6, 17,  2, 42],\n",
              "       [ 2,  6, 17,  2, 43],\n",
              "       [ 2,  7, 11,  2, 10],\n",
              "       [ 2, 22,  3,  2, 46],\n",
              "       [ 2, 13,  3,  1, 10],\n",
              "       [ 2,  7, 25,  2, 42],\n",
              "       [ 2, 25,  7,  2, 27],\n",
              "       [ 2, 25,  7,  2, 23],\n",
              "       [ 2,  2,  9,  2, 31],\n",
              "       [ 2,  1, 15,  1, 22],\n",
              "       [ 2, 15, 13,  2, 37],\n",
              "       [ 2,  7, 11,  2, 13],\n",
              "       [ 2,  8,  3,  2, 24],\n",
              "       [ 2, 14, 15,  2, 38],\n",
              "       [ 2, 21,  2,  2, 42],\n",
              "       [ 2, 22,  3,  2, 28],\n",
              "       [ 2, 11,  1,  2, 51],\n",
              "       [ 2, 18,  5,  2, 19],\n",
              "       [ 2, 13,  1,  2, 31],\n",
              "       [ 1, 13,  3,  1, 13],\n",
              "       [ 2,  5,  2,  2, 37],\n",
              "       [ 2, 16,  8,  2, 36],\n",
              "       [ 2,  4, 16,  2, 21],\n",
              "       [ 2,  5,  2,  2, 48],\n",
              "       [ 2, 14, 15,  2, 38],\n",
              "       [ 1, 23,  3,  1, 25],\n",
              "       [ 1, 13,  3,  1, 17],\n",
              "       [ 2, 16, 19,  2, 11],\n",
              "       [ 2,  9,  2,  2, 39],\n",
              "       [ 2, 13,  3,  1, 11],\n",
              "       [ 2, 18, 21,  2, 19],\n",
              "       [ 1, 22,  3,  2, 45],\n",
              "       [ 2,  7, 11,  1, 20],\n",
              "       [ 2, 23,  3,  1, 20],\n",
              "       [ 1, 23,  3,  1, 20],\n",
              "       [ 1, 23,  3,  2, 38],\n",
              "       [ 2, 14, 22,  2, 17],\n",
              "       [ 1, 17, 17,  2, 19],\n",
              "       [ 2,  9,  5,  2, 24],\n",
              "       [ 2, 18, 25,  2, 25],\n",
              "       [ 1, 17, 17,  2, 31],\n",
              "       [ 2,  1, 15,  2, 31],\n",
              "       [ 2,  1,  8,  2, 18],\n",
              "       [ 1, 11, 16,  2, 22],\n",
              "       [ 1, 22, 13,  2, 27],\n",
              "       [ 2,  9,  2,  2, 14],\n",
              "       [ 2, 13,  1,  2, 20],\n",
              "       [ 1,  6, 17,  2, 35],\n",
              "       [ 2, 23,  3,  1, 20],\n",
              "       [ 1, 23,  3,  1, 20],\n",
              "       [ 2,  6, 17,  2, 37],\n",
              "       [ 1, 22,  3,  2, 15],\n",
              "       [ 2, 20,  2,  2, 25],\n",
              "       [ 2, 23,  3,  2, 10],\n",
              "       [ 2, 20,  2,  2, 14],\n",
              "       [ 1, 23,  3,  2, 38],\n",
              "       [ 2, 13,  1,  2, 29],\n",
              "       [ 2, 10,  3,  2, 19],\n",
              "       [ 2,  7, 11,  2, 30],\n",
              "       [ 1, 14, 15,  2, 32],\n",
              "       [ 2,  8,  3,  2, 27],\n",
              "       [ 2, 12,  7,  2, 34],\n",
              "       [ 2,  8,  7,  2, 23],\n",
              "       [ 2, 15,  1,  2, 66],\n",
              "       [ 2, 23,  3,  2, 12],\n",
              "       [ 2,  2,  9,  2, 29],\n",
              "       [ 2, 15,  1,  2, 19],\n",
              "       [ 2, 20,  2,  2,  3],\n",
              "       [ 2, 13, 14,  2, 17],\n",
              "       [ 2,  9,  6,  2,  7],\n",
              "       [ 1, 10,  3,  2, 21],\n",
              "       [ 2, 14, 15,  2, 36],\n",
              "       [ 1, 13,  1,  2, 54],\n",
              "       [ 1,  8,  3,  2, 29],\n",
              "       [ 2, 20,  2,  2, 45],\n",
              "       [ 2, 22,  1,  2, 11],\n",
              "       [ 2, 18, 12,  2, 16],\n",
              "       [ 2, 20, 15,  2, 18],\n",
              "       [ 1, 17, 18,  2, 44],\n",
              "       [ 2, 14, 23,  2, 17],\n",
              "       [ 2, 24, 26,  2, 21],\n",
              "       [ 2,  9, 24,  2, 20],\n",
              "       [ 2, 12,  8,  2, 24],\n",
              "       [ 2,  9,  6,  2,  5],\n",
              "       [ 2, 22,  1,  2, 42],\n",
              "       [ 2,  7, 11,  2, 30],\n",
              "       [ 2, 10,  3,  2, 19],\n",
              "       [ 2, 23,  3,  2, 11],\n",
              "       [ 2, 17, 18,  2, 29],\n",
              "       [ 2, 16, 20,  2, 15],\n",
              "       [ 2,  3,  2,  2, 37],\n",
              "       [ 2, 19,  4,  2, 10],\n",
              "       [ 2, 23,  3,  2, 24],\n",
              "       [ 2,  3,  2,  2, 26],\n",
              "       [ 2, 10,  3,  2, 12],\n",
              "       [ 1, 18,  7,  2, 48],\n",
              "       [ 2, 22,  1,  2, 51],\n",
              "       [ 2,  2, 10,  2, 27]])"
            ]
          },
          "metadata": {},
          "execution_count": 55
        }
      ]
    },
    {
      "cell_type": "code",
      "source": [
        "y = data[y_varibale].values\n",
        "y"
      ],
      "metadata": {
        "colab": {
          "base_uri": "https://localhost:8080/"
        },
        "id": "1_RDR8J9WRcm",
        "outputId": "755efe5f-73da-4e10-f064-e55f97a41088"
      },
      "execution_count": null,
      "outputs": [
        {
          "output_type": "execute_result",
          "data": {
            "text/plain": [
              "array([3, 3, 3, 3, 3, 3, 3, 3, 3, 3, 3, 3, 3, 3, 2, 2, 2, 2, 2, 2, 2, 2,\n",
              "       2, 2, 2, 2, 2, 2, 1, 1, 1, 1, 1, 1, 1, 1, 1, 1, 1, 3, 3, 3, 3, 3,\n",
              "       3, 3, 3, 3, 3, 3, 3, 3, 3, 2, 2, 2, 2, 2, 2, 2, 2, 2, 2, 2, 2, 2,\n",
              "       2, 1, 1, 1, 1, 1, 1, 1, 1, 1, 1, 1, 3, 3, 3, 3, 3, 3, 3, 3, 3, 3,\n",
              "       3, 3, 3, 3, 3, 3, 3, 2, 2, 2, 2, 2, 2, 2, 2, 2, 2, 2, 2, 1, 1, 1,\n",
              "       1, 1, 1, 1, 1, 1, 1, 1, 1, 1, 1, 3, 3, 3, 3, 3, 3, 3, 2, 2, 2, 2,\n",
              "       2, 2, 2, 2, 2, 2, 1, 1, 1, 1, 1, 1, 1, 1, 1, 1, 1, 1, 1])"
            ]
          },
          "metadata": {},
          "execution_count": 56
        }
      ]
    },
    {
      "cell_type": "markdown",
      "source": [
        "Data Pre-processing"
      ],
      "metadata": {
        "id": "-CkAMcpLWhrM"
      }
    },
    {
      "cell_type": "code",
      "source": [
        "def pre_processing(data):    \n",
        "    data['id'] = data.index+1\n",
        "\n",
        "    X_variables = ['English Speaking','Course instructor','Course','Semester','Class size']\n",
        "    \n",
        "    for x in list(set(X_variables) - set(data.columns)):\n",
        "        data[x] = 0\n",
        "        \n",
        "    return data[X_variables]"
      ],
      "metadata": {
        "id": "l3TMzcDGWUzM"
      },
      "execution_count": null,
      "outputs": []
    },
    {
      "cell_type": "markdown",
      "source": [
        "Train Test Split"
      ],
      "metadata": {
        "id": "kAlBu6cWQ_0V"
      }
    },
    {
      "cell_type": "code",
      "source": [
        "X_train, X_test, y_train, y_test = train_test_split(X, y, test_size=0.3, random_state=42)\n",
        "\n",
        "print(F\"Train sample size = {len(X_train)}\")\n",
        "print(F\"Test sample size  = {len(X_test)}\")"
      ],
      "metadata": {
        "colab": {
          "base_uri": "https://localhost:8080/"
        },
        "id": "rmOmGLtaYpQj",
        "outputId": "73a30b69-9966-4e6a-eb4c-f9191ca10777"
      },
      "execution_count": null,
      "outputs": [
        {
          "output_type": "stream",
          "name": "stdout",
          "text": [
            "Train sample size = 105\n",
            "Test sample size  = 46\n"
          ]
        }
      ]
    },
    {
      "cell_type": "markdown",
      "source": [
        "Model Training Function"
      ],
      "metadata": {
        "id": "_zgcksnsYyvF"
      }
    },
    {
      "cell_type": "code",
      "source": [
        "def model_train(model, model_name, X_train, y_train, X_test, y_test):\n",
        "    model.fit(X_train, y_train)\n",
        "\n",
        "    y_pred = model.predict(X_test)\n",
        "    y_pred_prob = model.predict_proba(X_test)[:, 1]\n",
        "    test_result = pd.DataFrame(data={'y_act':y_test, 'y_pred':y_pred, 'y_pred_prob':y_pred_prob})\n",
        "\n",
        "    accuracy = metrics.accuracy_score(test_result['y_act'], test_result['y_pred']) \n",
        "    precision = metrics.precision_score(test_result['y_act'], test_result['y_pred'], average='weighted', pos_label=1)\n",
        "    f1_score = metrics.f1_score(test_result['y_act'], test_result['y_pred'], average='weighted') \n",
        "  \n",
        "    return ({'model_name':model_name, \n",
        "                   'model':model, \n",
        "                   'accuracy':accuracy, \n",
        "                   'precision':precision,\n",
        "                  'f1_score':f1_score,\n",
        "                  })"
      ],
      "metadata": {
        "id": "7B2YJYyJY3f6"
      },
      "execution_count": null,
      "outputs": []
    },
    {
      "cell_type": "code",
      "source": [
        "model0 = model_train(RandomForestClassifier(n_estimators=500, max_depth=10, n_jobs=3, verbose=1), 'rf_new', X_train, y_train, X_test, y_test)"
      ],
      "metadata": {
        "colab": {
          "base_uri": "https://localhost:8080/"
        },
        "id": "j7UzhITRZZvd",
        "outputId": "ebc35908-12bc-4de4-ac96-ac0e4b253362"
      },
      "execution_count": null,
      "outputs": [
        {
          "output_type": "stream",
          "name": "stderr",
          "text": [
            "[Parallel(n_jobs=3)]: Using backend ThreadingBackend with 3 concurrent workers.\n",
            "[Parallel(n_jobs=3)]: Done  44 tasks      | elapsed:    0.1s\n",
            "[Parallel(n_jobs=3)]: Done 194 tasks      | elapsed:    0.3s\n",
            "[Parallel(n_jobs=3)]: Done 444 tasks      | elapsed:    0.7s\n",
            "[Parallel(n_jobs=3)]: Done 500 out of 500 | elapsed:    0.8s finished\n",
            "[Parallel(n_jobs=3)]: Using backend ThreadingBackend with 3 concurrent workers.\n",
            "[Parallel(n_jobs=3)]: Done  44 tasks      | elapsed:    0.0s\n",
            "[Parallel(n_jobs=3)]: Done 194 tasks      | elapsed:    0.0s\n",
            "[Parallel(n_jobs=3)]: Done 444 tasks      | elapsed:    0.1s\n",
            "[Parallel(n_jobs=3)]: Done 500 out of 500 | elapsed:    0.1s finished\n",
            "[Parallel(n_jobs=3)]: Using backend ThreadingBackend with 3 concurrent workers.\n",
            "[Parallel(n_jobs=3)]: Done  44 tasks      | elapsed:    0.0s\n",
            "[Parallel(n_jobs=3)]: Done 194 tasks      | elapsed:    0.0s\n",
            "[Parallel(n_jobs=3)]: Done 444 tasks      | elapsed:    0.1s\n",
            "[Parallel(n_jobs=3)]: Done 500 out of 500 | elapsed:    0.1s finished\n"
          ]
        }
      ]
    },
    {
      "cell_type": "code",
      "source": [
        "model0"
      ],
      "metadata": {
        "colab": {
          "base_uri": "https://localhost:8080/"
        },
        "id": "M69vTOc7dWmX",
        "outputId": "93c8473b-0275-45ce-bd3d-8bd2323155e8"
      },
      "execution_count": null,
      "outputs": [
        {
          "output_type": "execute_result",
          "data": {
            "text/plain": [
              "{'accuracy': 0.717391304347826,\n",
              " 'f1_score': 0.7130434782608697,\n",
              " 'model': RandomForestClassifier(max_depth=10, n_estimators=500, n_jobs=3, verbose=1),\n",
              " 'model_name': 'rf_new',\n",
              " 'precision': 0.7462827028044419}"
            ]
          },
          "metadata": {},
          "execution_count": 61
        }
      ]
    },
    {
      "cell_type": "code",
      "source": [
        "models = []\n",
        "models.append(model_train(LogisticRegression(n_jobs=3, verbose=1), 'lgr1', X_train, y_train, X_test, y_test))\n",
        "models.append(model_train(RandomForestClassifier(n_estimators=100, max_depth=None, n_jobs=3, verbose=1), 'rf1', X_train, y_train, X_test, y_test))\n",
        "models.append(model_train(RandomForestClassifier(n_estimators=500, max_depth=None, n_jobs=3, verbose=1), 'rf2', X_train, y_train, X_test, y_test))\n",
        "models.append(model_train(RandomForestClassifier(n_estimators=500, max_depth=10, n_jobs=3, verbose=1), 'rf3', X_train, y_train, X_test, y_test))\n",
        "models.append(model_train(RandomForestClassifier(n_estimators=500, max_depth=20, n_jobs=3, verbose=1), 'rf4', X_train, y_train, X_test, y_test))\n",
        "models = pd.DataFrame(models)\n",
        "models"
      ],
      "metadata": {
        "colab": {
          "base_uri": "https://localhost:8080/",
          "height": 1000
        },
        "id": "-s3_Rb_BdhUL",
        "outputId": "59a41aff-d790-4f85-c5af-cadfb5143299"
      },
      "execution_count": null,
      "outputs": [
        {
          "output_type": "stream",
          "name": "stderr",
          "text": [
            "[Parallel(n_jobs=3)]: Using backend LokyBackend with 3 concurrent workers.\n",
            "[Parallel(n_jobs=3)]: Done   1 out of   1 | elapsed:    0.8s finished\n",
            "[Parallel(n_jobs=3)]: Using backend ThreadingBackend with 3 concurrent workers.\n",
            "[Parallel(n_jobs=3)]: Done  44 tasks      | elapsed:    0.1s\n",
            "[Parallel(n_jobs=3)]: Done 100 out of 100 | elapsed:    0.2s finished\n",
            "[Parallel(n_jobs=3)]: Using backend ThreadingBackend with 3 concurrent workers.\n",
            "[Parallel(n_jobs=3)]: Done  44 tasks      | elapsed:    0.0s\n",
            "[Parallel(n_jobs=3)]: Done 100 out of 100 | elapsed:    0.0s finished\n",
            "[Parallel(n_jobs=3)]: Using backend ThreadingBackend with 3 concurrent workers.\n",
            "[Parallel(n_jobs=3)]: Done  44 tasks      | elapsed:    0.0s\n",
            "[Parallel(n_jobs=3)]: Done 100 out of 100 | elapsed:    0.0s finished\n",
            "[Parallel(n_jobs=3)]: Using backend ThreadingBackend with 3 concurrent workers.\n",
            "[Parallel(n_jobs=3)]: Done  44 tasks      | elapsed:    0.1s\n",
            "[Parallel(n_jobs=3)]: Done 194 tasks      | elapsed:    0.3s\n",
            "[Parallel(n_jobs=3)]: Done 444 tasks      | elapsed:    0.7s\n",
            "[Parallel(n_jobs=3)]: Done 500 out of 500 | elapsed:    0.8s finished\n",
            "[Parallel(n_jobs=3)]: Using backend ThreadingBackend with 3 concurrent workers.\n",
            "[Parallel(n_jobs=3)]: Done  44 tasks      | elapsed:    0.0s\n",
            "[Parallel(n_jobs=3)]: Done 194 tasks      | elapsed:    0.1s\n",
            "[Parallel(n_jobs=3)]: Done 444 tasks      | elapsed:    0.1s\n",
            "[Parallel(n_jobs=3)]: Done 500 out of 500 | elapsed:    0.1s finished\n",
            "[Parallel(n_jobs=3)]: Using backend ThreadingBackend with 3 concurrent workers.\n",
            "[Parallel(n_jobs=3)]: Done  44 tasks      | elapsed:    0.0s\n",
            "[Parallel(n_jobs=3)]: Done 194 tasks      | elapsed:    0.0s\n",
            "[Parallel(n_jobs=3)]: Done 444 tasks      | elapsed:    0.1s\n",
            "[Parallel(n_jobs=3)]: Done 500 out of 500 | elapsed:    0.1s finished\n",
            "[Parallel(n_jobs=3)]: Using backend ThreadingBackend with 3 concurrent workers.\n",
            "[Parallel(n_jobs=3)]: Done  44 tasks      | elapsed:    0.1s\n",
            "[Parallel(n_jobs=3)]: Done 194 tasks      | elapsed:    0.3s\n",
            "[Parallel(n_jobs=3)]: Done 444 tasks      | elapsed:    0.7s\n",
            "[Parallel(n_jobs=3)]: Done 500 out of 500 | elapsed:    0.8s finished\n",
            "[Parallel(n_jobs=3)]: Using backend ThreadingBackend with 3 concurrent workers.\n",
            "[Parallel(n_jobs=3)]: Done  44 tasks      | elapsed:    0.0s\n",
            "[Parallel(n_jobs=3)]: Done 194 tasks      | elapsed:    0.0s\n",
            "[Parallel(n_jobs=3)]: Done 444 tasks      | elapsed:    0.1s\n",
            "[Parallel(n_jobs=3)]: Done 500 out of 500 | elapsed:    0.1s finished\n",
            "[Parallel(n_jobs=3)]: Using backend ThreadingBackend with 3 concurrent workers.\n",
            "[Parallel(n_jobs=3)]: Done  44 tasks      | elapsed:    0.0s\n",
            "[Parallel(n_jobs=3)]: Done 194 tasks      | elapsed:    0.0s\n",
            "[Parallel(n_jobs=3)]: Done 444 tasks      | elapsed:    0.1s\n",
            "[Parallel(n_jobs=3)]: Done 500 out of 500 | elapsed:    0.1s finished\n",
            "[Parallel(n_jobs=3)]: Using backend ThreadingBackend with 3 concurrent workers.\n",
            "[Parallel(n_jobs=3)]: Done  44 tasks      | elapsed:    0.1s\n",
            "[Parallel(n_jobs=3)]: Done 194 tasks      | elapsed:    0.3s\n",
            "[Parallel(n_jobs=3)]: Done 444 tasks      | elapsed:    0.7s\n",
            "[Parallel(n_jobs=3)]: Done 500 out of 500 | elapsed:    0.8s finished\n",
            "[Parallel(n_jobs=3)]: Using backend ThreadingBackend with 3 concurrent workers.\n",
            "[Parallel(n_jobs=3)]: Done  44 tasks      | elapsed:    0.0s\n",
            "[Parallel(n_jobs=3)]: Done 194 tasks      | elapsed:    0.1s\n",
            "[Parallel(n_jobs=3)]: Done 444 tasks      | elapsed:    0.1s\n",
            "[Parallel(n_jobs=3)]: Done 500 out of 500 | elapsed:    0.1s finished\n",
            "[Parallel(n_jobs=3)]: Using backend ThreadingBackend with 3 concurrent workers.\n",
            "[Parallel(n_jobs=3)]: Done  44 tasks      | elapsed:    0.0s\n",
            "[Parallel(n_jobs=3)]: Done 194 tasks      | elapsed:    0.0s\n",
            "[Parallel(n_jobs=3)]: Done 444 tasks      | elapsed:    0.1s\n",
            "[Parallel(n_jobs=3)]: Done 500 out of 500 | elapsed:    0.1s finished\n"
          ]
        },
        {
          "output_type": "execute_result",
          "data": {
            "text/plain": [
              "  model_name                                              model  accuracy  \\\n",
              "0       lgr1            LogisticRegression(n_jobs=3, verbose=1)  0.543478   \n",
              "1        rf1  (DecisionTreeClassifier(max_features='auto', r...  0.717391   \n",
              "2        rf2  (DecisionTreeClassifier(max_features='auto', r...  0.717391   \n",
              "3        rf3  (DecisionTreeClassifier(max_depth=10, max_feat...  0.717391   \n",
              "4        rf4  (DecisionTreeClassifier(max_depth=20, max_feat...  0.717391   \n",
              "\n",
              "   precision  f1_score  \n",
              "0   0.625000  0.529956  \n",
              "1   0.746283  0.713043  \n",
              "2   0.746283  0.713043  \n",
              "3   0.746283  0.713043  \n",
              "4   0.746283  0.713043  "
            ],
            "text/html": [
              "\n",
              "  <div id=\"df-2f454df2-317b-4b35-afbb-def250e97d3b\">\n",
              "    <div class=\"colab-df-container\">\n",
              "      <div>\n",
              "<style scoped>\n",
              "    .dataframe tbody tr th:only-of-type {\n",
              "        vertical-align: middle;\n",
              "    }\n",
              "\n",
              "    .dataframe tbody tr th {\n",
              "        vertical-align: top;\n",
              "    }\n",
              "\n",
              "    .dataframe thead th {\n",
              "        text-align: right;\n",
              "    }\n",
              "</style>\n",
              "<table border=\"1\" class=\"dataframe\">\n",
              "  <thead>\n",
              "    <tr style=\"text-align: right;\">\n",
              "      <th></th>\n",
              "      <th>model_name</th>\n",
              "      <th>model</th>\n",
              "      <th>accuracy</th>\n",
              "      <th>precision</th>\n",
              "      <th>f1_score</th>\n",
              "    </tr>\n",
              "  </thead>\n",
              "  <tbody>\n",
              "    <tr>\n",
              "      <th>0</th>\n",
              "      <td>lgr1</td>\n",
              "      <td>LogisticRegression(n_jobs=3, verbose=1)</td>\n",
              "      <td>0.543478</td>\n",
              "      <td>0.625000</td>\n",
              "      <td>0.529956</td>\n",
              "    </tr>\n",
              "    <tr>\n",
              "      <th>1</th>\n",
              "      <td>rf1</td>\n",
              "      <td>(DecisionTreeClassifier(max_features='auto', r...</td>\n",
              "      <td>0.717391</td>\n",
              "      <td>0.746283</td>\n",
              "      <td>0.713043</td>\n",
              "    </tr>\n",
              "    <tr>\n",
              "      <th>2</th>\n",
              "      <td>rf2</td>\n",
              "      <td>(DecisionTreeClassifier(max_features='auto', r...</td>\n",
              "      <td>0.717391</td>\n",
              "      <td>0.746283</td>\n",
              "      <td>0.713043</td>\n",
              "    </tr>\n",
              "    <tr>\n",
              "      <th>3</th>\n",
              "      <td>rf3</td>\n",
              "      <td>(DecisionTreeClassifier(max_depth=10, max_feat...</td>\n",
              "      <td>0.717391</td>\n",
              "      <td>0.746283</td>\n",
              "      <td>0.713043</td>\n",
              "    </tr>\n",
              "    <tr>\n",
              "      <th>4</th>\n",
              "      <td>rf4</td>\n",
              "      <td>(DecisionTreeClassifier(max_depth=20, max_feat...</td>\n",
              "      <td>0.717391</td>\n",
              "      <td>0.746283</td>\n",
              "      <td>0.713043</td>\n",
              "    </tr>\n",
              "  </tbody>\n",
              "</table>\n",
              "</div>\n",
              "      <button class=\"colab-df-convert\" onclick=\"convertToInteractive('df-2f454df2-317b-4b35-afbb-def250e97d3b')\"\n",
              "              title=\"Convert this dataframe to an interactive table.\"\n",
              "              style=\"display:none;\">\n",
              "        \n",
              "  <svg xmlns=\"http://www.w3.org/2000/svg\" height=\"24px\"viewBox=\"0 0 24 24\"\n",
              "       width=\"24px\">\n",
              "    <path d=\"M0 0h24v24H0V0z\" fill=\"none\"/>\n",
              "    <path d=\"M18.56 5.44l.94 2.06.94-2.06 2.06-.94-2.06-.94-.94-2.06-.94 2.06-2.06.94zm-11 1L8.5 8.5l.94-2.06 2.06-.94-2.06-.94L8.5 2.5l-.94 2.06-2.06.94zm10 10l.94 2.06.94-2.06 2.06-.94-2.06-.94-.94-2.06-.94 2.06-2.06.94z\"/><path d=\"M17.41 7.96l-1.37-1.37c-.4-.4-.92-.59-1.43-.59-.52 0-1.04.2-1.43.59L10.3 9.45l-7.72 7.72c-.78.78-.78 2.05 0 2.83L4 21.41c.39.39.9.59 1.41.59.51 0 1.02-.2 1.41-.59l7.78-7.78 2.81-2.81c.8-.78.8-2.07 0-2.86zM5.41 20L4 18.59l7.72-7.72 1.47 1.35L5.41 20z\"/>\n",
              "  </svg>\n",
              "      </button>\n",
              "      \n",
              "  <style>\n",
              "    .colab-df-container {\n",
              "      display:flex;\n",
              "      flex-wrap:wrap;\n",
              "      gap: 12px;\n",
              "    }\n",
              "\n",
              "    .colab-df-convert {\n",
              "      background-color: #E8F0FE;\n",
              "      border: none;\n",
              "      border-radius: 50%;\n",
              "      cursor: pointer;\n",
              "      display: none;\n",
              "      fill: #1967D2;\n",
              "      height: 32px;\n",
              "      padding: 0 0 0 0;\n",
              "      width: 32px;\n",
              "    }\n",
              "\n",
              "    .colab-df-convert:hover {\n",
              "      background-color: #E2EBFA;\n",
              "      box-shadow: 0px 1px 2px rgba(60, 64, 67, 0.3), 0px 1px 3px 1px rgba(60, 64, 67, 0.15);\n",
              "      fill: #174EA6;\n",
              "    }\n",
              "\n",
              "    [theme=dark] .colab-df-convert {\n",
              "      background-color: #3B4455;\n",
              "      fill: #D2E3FC;\n",
              "    }\n",
              "\n",
              "    [theme=dark] .colab-df-convert:hover {\n",
              "      background-color: #434B5C;\n",
              "      box-shadow: 0px 1px 3px 1px rgba(0, 0, 0, 0.15);\n",
              "      filter: drop-shadow(0px 1px 2px rgba(0, 0, 0, 0.3));\n",
              "      fill: #FFFFFF;\n",
              "    }\n",
              "  </style>\n",
              "\n",
              "      <script>\n",
              "        const buttonEl =\n",
              "          document.querySelector('#df-2f454df2-317b-4b35-afbb-def250e97d3b button.colab-df-convert');\n",
              "        buttonEl.style.display =\n",
              "          google.colab.kernel.accessAllowed ? 'block' : 'none';\n",
              "\n",
              "        async function convertToInteractive(key) {\n",
              "          const element = document.querySelector('#df-2f454df2-317b-4b35-afbb-def250e97d3b');\n",
              "          const dataTable =\n",
              "            await google.colab.kernel.invokeFunction('convertToInteractive',\n",
              "                                                     [key], {});\n",
              "          if (!dataTable) return;\n",
              "\n",
              "          const docLinkHtml = 'Like what you see? Visit the ' +\n",
              "            '<a target=\"_blank\" href=https://colab.research.google.com/notebooks/data_table.ipynb>data table notebook</a>'\n",
              "            + ' to learn more about interactive tables.';\n",
              "          element.innerHTML = '';\n",
              "          dataTable['output_type'] = 'display_data';\n",
              "          await google.colab.output.renderOutput(dataTable, element);\n",
              "          const docLink = document.createElement('div');\n",
              "          docLink.innerHTML = docLinkHtml;\n",
              "          element.appendChild(docLink);\n",
              "        }\n",
              "      </script>\n",
              "    </div>\n",
              "  </div>\n",
              "  "
            ]
          },
          "metadata": {},
          "execution_count": 62
        }
      ]
    },
    {
      "cell_type": "code",
      "source": [
        "from sklearn.model_selection import GridSearchCV\n",
        "\n",
        "parameters = {'n_estimators': [100,500], 'max_depth': [None, 10, 20]}\n",
        "gs_model = GridSearchCV(RandomForestClassifier(), parameters, n_jobs=2, verbose=3, pre_dispatch=2)\n",
        "gs_model.fit(X_train, y_train) "
      ],
      "metadata": {
        "colab": {
          "base_uri": "https://localhost:8080/"
        },
        "id": "lsCbkTlRdyS7",
        "outputId": "78ed599b-cb64-4fd0-9fde-cd462285da8b"
      },
      "execution_count": null,
      "outputs": [
        {
          "output_type": "stream",
          "name": "stdout",
          "text": [
            "Fitting 5 folds for each of 6 candidates, totalling 30 fits\n"
          ]
        },
        {
          "output_type": "execute_result",
          "data": {
            "text/plain": [
              "GridSearchCV(estimator=RandomForestClassifier(), n_jobs=2,\n",
              "             param_grid={'max_depth': [None, 10, 20],\n",
              "                         'n_estimators': [100, 500]},\n",
              "             pre_dispatch=2, verbose=3)"
            ]
          },
          "metadata": {},
          "execution_count": 63
        }
      ]
    },
    {
      "cell_type": "code",
      "source": [
        "print(gs_model.best_params_) "
      ],
      "metadata": {
        "colab": {
          "base_uri": "https://localhost:8080/"
        },
        "id": "kXcP280reGTR",
        "outputId": "f97d369e-bd29-471a-eb2a-5a170ddf12be"
      },
      "execution_count": null,
      "outputs": [
        {
          "output_type": "stream",
          "name": "stdout",
          "text": [
            "{'max_depth': None, 'n_estimators': 100}\n"
          ]
        }
      ]
    },
    {
      "cell_type": "code",
      "source": [
        "from sklearn.metrics import classification_report, confusion_matrix \n",
        "\n",
        "y_pred = gs_model.predict(X_test) \n",
        "\n",
        "print(classification_report(y_test, y_pred)) \n",
        "print(confusion_matrix(y_test, y_pred)) "
      ],
      "metadata": {
        "colab": {
          "base_uri": "https://localhost:8080/"
        },
        "id": "T9-MM5lfeWCF",
        "outputId": "b9fb4fb1-8773-41b0-839f-4d7274555ec4"
      },
      "execution_count": null,
      "outputs": [
        {
          "output_type": "stream",
          "name": "stdout",
          "text": [
            "              precision    recall  f1-score   support\n",
            "\n",
            "           1       0.62      0.93      0.74        14\n",
            "           2       0.82      0.56      0.67        16\n",
            "           3       0.79      0.69      0.73        16\n",
            "\n",
            "    accuracy                           0.72        46\n",
            "   macro avg       0.74      0.73      0.71        46\n",
            "weighted avg       0.75      0.72      0.71        46\n",
            "\n",
            "[[13  0  1]\n",
            " [ 5  9  2]\n",
            " [ 3  2 11]]\n"
          ]
        }
      ]
    },
    {
      "cell_type": "code",
      "source": [
        "model = models.query(\"model_name=='rf2'\")\n",
        "model "
      ],
      "metadata": {
        "colab": {
          "base_uri": "https://localhost:8080/",
          "height": 81
        },
        "id": "KrNp5WpvfpDN",
        "outputId": "61bbd297-4b21-47ef-864d-291b42ceab7e"
      },
      "execution_count": null,
      "outputs": [
        {
          "output_type": "execute_result",
          "data": {
            "text/plain": [
              "  model_name                                              model  accuracy  \\\n",
              "2        rf2  (DecisionTreeClassifier(max_features='auto', r...  0.717391   \n",
              "\n",
              "   precision  f1_score  \n",
              "2   0.746283  0.713043  "
            ],
            "text/html": [
              "\n",
              "  <div id=\"df-0d275a1e-40e2-420f-994a-b59bcfe1230d\">\n",
              "    <div class=\"colab-df-container\">\n",
              "      <div>\n",
              "<style scoped>\n",
              "    .dataframe tbody tr th:only-of-type {\n",
              "        vertical-align: middle;\n",
              "    }\n",
              "\n",
              "    .dataframe tbody tr th {\n",
              "        vertical-align: top;\n",
              "    }\n",
              "\n",
              "    .dataframe thead th {\n",
              "        text-align: right;\n",
              "    }\n",
              "</style>\n",
              "<table border=\"1\" class=\"dataframe\">\n",
              "  <thead>\n",
              "    <tr style=\"text-align: right;\">\n",
              "      <th></th>\n",
              "      <th>model_name</th>\n",
              "      <th>model</th>\n",
              "      <th>accuracy</th>\n",
              "      <th>precision</th>\n",
              "      <th>f1_score</th>\n",
              "    </tr>\n",
              "  </thead>\n",
              "  <tbody>\n",
              "    <tr>\n",
              "      <th>2</th>\n",
              "      <td>rf2</td>\n",
              "      <td>(DecisionTreeClassifier(max_features='auto', r...</td>\n",
              "      <td>0.717391</td>\n",
              "      <td>0.746283</td>\n",
              "      <td>0.713043</td>\n",
              "    </tr>\n",
              "  </tbody>\n",
              "</table>\n",
              "</div>\n",
              "      <button class=\"colab-df-convert\" onclick=\"convertToInteractive('df-0d275a1e-40e2-420f-994a-b59bcfe1230d')\"\n",
              "              title=\"Convert this dataframe to an interactive table.\"\n",
              "              style=\"display:none;\">\n",
              "        \n",
              "  <svg xmlns=\"http://www.w3.org/2000/svg\" height=\"24px\"viewBox=\"0 0 24 24\"\n",
              "       width=\"24px\">\n",
              "    <path d=\"M0 0h24v24H0V0z\" fill=\"none\"/>\n",
              "    <path d=\"M18.56 5.44l.94 2.06.94-2.06 2.06-.94-2.06-.94-.94-2.06-.94 2.06-2.06.94zm-11 1L8.5 8.5l.94-2.06 2.06-.94-2.06-.94L8.5 2.5l-.94 2.06-2.06.94zm10 10l.94 2.06.94-2.06 2.06-.94-2.06-.94-.94-2.06-.94 2.06-2.06.94z\"/><path d=\"M17.41 7.96l-1.37-1.37c-.4-.4-.92-.59-1.43-.59-.52 0-1.04.2-1.43.59L10.3 9.45l-7.72 7.72c-.78.78-.78 2.05 0 2.83L4 21.41c.39.39.9.59 1.41.59.51 0 1.02-.2 1.41-.59l7.78-7.78 2.81-2.81c.8-.78.8-2.07 0-2.86zM5.41 20L4 18.59l7.72-7.72 1.47 1.35L5.41 20z\"/>\n",
              "  </svg>\n",
              "      </button>\n",
              "      \n",
              "  <style>\n",
              "    .colab-df-container {\n",
              "      display:flex;\n",
              "      flex-wrap:wrap;\n",
              "      gap: 12px;\n",
              "    }\n",
              "\n",
              "    .colab-df-convert {\n",
              "      background-color: #E8F0FE;\n",
              "      border: none;\n",
              "      border-radius: 50%;\n",
              "      cursor: pointer;\n",
              "      display: none;\n",
              "      fill: #1967D2;\n",
              "      height: 32px;\n",
              "      padding: 0 0 0 0;\n",
              "      width: 32px;\n",
              "    }\n",
              "\n",
              "    .colab-df-convert:hover {\n",
              "      background-color: #E2EBFA;\n",
              "      box-shadow: 0px 1px 2px rgba(60, 64, 67, 0.3), 0px 1px 3px 1px rgba(60, 64, 67, 0.15);\n",
              "      fill: #174EA6;\n",
              "    }\n",
              "\n",
              "    [theme=dark] .colab-df-convert {\n",
              "      background-color: #3B4455;\n",
              "      fill: #D2E3FC;\n",
              "    }\n",
              "\n",
              "    [theme=dark] .colab-df-convert:hover {\n",
              "      background-color: #434B5C;\n",
              "      box-shadow: 0px 1px 3px 1px rgba(0, 0, 0, 0.15);\n",
              "      filter: drop-shadow(0px 1px 2px rgba(0, 0, 0, 0.3));\n",
              "      fill: #FFFFFF;\n",
              "    }\n",
              "  </style>\n",
              "\n",
              "      <script>\n",
              "        const buttonEl =\n",
              "          document.querySelector('#df-0d275a1e-40e2-420f-994a-b59bcfe1230d button.colab-df-convert');\n",
              "        buttonEl.style.display =\n",
              "          google.colab.kernel.accessAllowed ? 'block' : 'none';\n",
              "\n",
              "        async function convertToInteractive(key) {\n",
              "          const element = document.querySelector('#df-0d275a1e-40e2-420f-994a-b59bcfe1230d');\n",
              "          const dataTable =\n",
              "            await google.colab.kernel.invokeFunction('convertToInteractive',\n",
              "                                                     [key], {});\n",
              "          if (!dataTable) return;\n",
              "\n",
              "          const docLinkHtml = 'Like what you see? Visit the ' +\n",
              "            '<a target=\"_blank\" href=https://colab.research.google.com/notebooks/data_table.ipynb>data table notebook</a>'\n",
              "            + ' to learn more about interactive tables.';\n",
              "          element.innerHTML = '';\n",
              "          dataTable['output_type'] = 'display_data';\n",
              "          await google.colab.output.renderOutput(dataTable, element);\n",
              "          const docLink = document.createElement('div');\n",
              "          docLink.innerHTML = docLinkHtml;\n",
              "          element.appendChild(docLink);\n",
              "        }\n",
              "      </script>\n",
              "    </div>\n",
              "  </div>\n",
              "  "
            ]
          },
          "metadata": {},
          "execution_count": 66
        }
      ]
    },
    {
      "cell_type": "code",
      "source": [
        "model = model['model'].values[0]\n",
        "model"
      ],
      "metadata": {
        "colab": {
          "base_uri": "https://localhost:8080/"
        },
        "id": "BXgl6WCGfw6X",
        "outputId": "9544883b-df07-4a30-9a05-2ed57aaad7ed"
      },
      "execution_count": null,
      "outputs": [
        {
          "output_type": "execute_result",
          "data": {
            "text/plain": [
              "RandomForestClassifier(n_estimators=500, n_jobs=3, verbose=1)"
            ]
          },
          "metadata": {},
          "execution_count": 67
        }
      ]
    },
    {
      "cell_type": "markdown",
      "source": [
        "Saving Best Model"
      ],
      "metadata": {
        "id": "t9FlX27vR8V3"
      }
    },
    {
      "cell_type": "code",
      "source": [
        "import pickle\n",
        "\n",
        "save_file = 'model_rf2_test.pickle'\n",
        "pickle.dump(model, open(save_file, 'wb'))"
      ],
      "metadata": {
        "id": "5WmOiHkCf37p"
      },
      "execution_count": null,
      "outputs": []
    },
    {
      "cell_type": "code",
      "source": [
        "model_ = pickle.load(open(save_file, 'rb'))\n",
        "model_"
      ],
      "metadata": {
        "colab": {
          "base_uri": "https://localhost:8080/"
        },
        "id": "swmXGKbKgBoc",
        "outputId": "b5af63d6-1445-42a9-92e2-68f3334a4752"
      },
      "execution_count": null,
      "outputs": [
        {
          "output_type": "execute_result",
          "data": {
            "text/plain": [
              "RandomForestClassifier(n_estimators=500, n_jobs=3, verbose=1)"
            ]
          },
          "metadata": {},
          "execution_count": 69
        }
      ]
    },
    {
      "cell_type": "code",
      "source": [
        "import joblib\n",
        "\n",
        "save_file = 'model_rf2_test.joblib'\n",
        "joblib.dump(model, open(save_file, 'wb'))"
      ],
      "metadata": {
        "id": "ySu_7TXdgGLy"
      },
      "execution_count": null,
      "outputs": []
    },
    {
      "cell_type": "code",
      "source": [
        "model_ = joblib.load(save_file)\n",
        "model_"
      ],
      "metadata": {
        "colab": {
          "base_uri": "https://localhost:8080/"
        },
        "id": "rrs0zZm-gMKk",
        "outputId": "d32da7c1-81fe-4e29-cac0-b00d7d9b7113"
      },
      "execution_count": null,
      "outputs": [
        {
          "output_type": "execute_result",
          "data": {
            "text/plain": [
              "RandomForestClassifier(n_estimators=500, n_jobs=3, verbose=1)"
            ]
          },
          "metadata": {},
          "execution_count": 71
        }
      ]
    },
    {
      "cell_type": "markdown",
      "source": [
        "Predict on a Sample Data"
      ],
      "metadata": {
        "id": "cgrM1ClySGdo"
      }
    },
    {
      "cell_type": "code",
      "source": [
        "sample_input = data[['English Speaking','Course instructor','Course','Semester','Class size']].sample(10)\n",
        "sample_input"
      ],
      "metadata": {
        "colab": {
          "base_uri": "https://localhost:8080/",
          "height": 363
        },
        "id": "a5Ck3eNmgjnn",
        "outputId": "07fe91e1-8ab3-481b-9abb-f1944c016887"
      },
      "execution_count": null,
      "outputs": [
        {
          "output_type": "execute_result",
          "data": {
            "text/plain": [
              "     English Speaking  Course instructor  Course  Semester  Class size\n",
              "123                 1                 10       3         2          21\n",
              "95                  2                  1       8         2          18\n",
              "1                   2                 15       3         1          17\n",
              "32                  2                 13       1         2          31\n",
              "4                   2                  7      11         2          55\n",
              "38                  2                 14      15         2          38\n",
              "105                 2                 20       2         2          25\n",
              "6                   2                  9       5         2          19\n",
              "94                  2                  1      15         2          31\n",
              "76                  2                  5       2         2          48"
            ],
            "text/html": [
              "\n",
              "  <div id=\"df-97d68dea-5bde-4e48-ab31-4c97d4bef259\">\n",
              "    <div class=\"colab-df-container\">\n",
              "      <div>\n",
              "<style scoped>\n",
              "    .dataframe tbody tr th:only-of-type {\n",
              "        vertical-align: middle;\n",
              "    }\n",
              "\n",
              "    .dataframe tbody tr th {\n",
              "        vertical-align: top;\n",
              "    }\n",
              "\n",
              "    .dataframe thead th {\n",
              "        text-align: right;\n",
              "    }\n",
              "</style>\n",
              "<table border=\"1\" class=\"dataframe\">\n",
              "  <thead>\n",
              "    <tr style=\"text-align: right;\">\n",
              "      <th></th>\n",
              "      <th>English Speaking</th>\n",
              "      <th>Course instructor</th>\n",
              "      <th>Course</th>\n",
              "      <th>Semester</th>\n",
              "      <th>Class size</th>\n",
              "    </tr>\n",
              "  </thead>\n",
              "  <tbody>\n",
              "    <tr>\n",
              "      <th>123</th>\n",
              "      <td>1</td>\n",
              "      <td>10</td>\n",
              "      <td>3</td>\n",
              "      <td>2</td>\n",
              "      <td>21</td>\n",
              "    </tr>\n",
              "    <tr>\n",
              "      <th>95</th>\n",
              "      <td>2</td>\n",
              "      <td>1</td>\n",
              "      <td>8</td>\n",
              "      <td>2</td>\n",
              "      <td>18</td>\n",
              "    </tr>\n",
              "    <tr>\n",
              "      <th>1</th>\n",
              "      <td>2</td>\n",
              "      <td>15</td>\n",
              "      <td>3</td>\n",
              "      <td>1</td>\n",
              "      <td>17</td>\n",
              "    </tr>\n",
              "    <tr>\n",
              "      <th>32</th>\n",
              "      <td>2</td>\n",
              "      <td>13</td>\n",
              "      <td>1</td>\n",
              "      <td>2</td>\n",
              "      <td>31</td>\n",
              "    </tr>\n",
              "    <tr>\n",
              "      <th>4</th>\n",
              "      <td>2</td>\n",
              "      <td>7</td>\n",
              "      <td>11</td>\n",
              "      <td>2</td>\n",
              "      <td>55</td>\n",
              "    </tr>\n",
              "    <tr>\n",
              "      <th>38</th>\n",
              "      <td>2</td>\n",
              "      <td>14</td>\n",
              "      <td>15</td>\n",
              "      <td>2</td>\n",
              "      <td>38</td>\n",
              "    </tr>\n",
              "    <tr>\n",
              "      <th>105</th>\n",
              "      <td>2</td>\n",
              "      <td>20</td>\n",
              "      <td>2</td>\n",
              "      <td>2</td>\n",
              "      <td>25</td>\n",
              "    </tr>\n",
              "    <tr>\n",
              "      <th>6</th>\n",
              "      <td>2</td>\n",
              "      <td>9</td>\n",
              "      <td>5</td>\n",
              "      <td>2</td>\n",
              "      <td>19</td>\n",
              "    </tr>\n",
              "    <tr>\n",
              "      <th>94</th>\n",
              "      <td>2</td>\n",
              "      <td>1</td>\n",
              "      <td>15</td>\n",
              "      <td>2</td>\n",
              "      <td>31</td>\n",
              "    </tr>\n",
              "    <tr>\n",
              "      <th>76</th>\n",
              "      <td>2</td>\n",
              "      <td>5</td>\n",
              "      <td>2</td>\n",
              "      <td>2</td>\n",
              "      <td>48</td>\n",
              "    </tr>\n",
              "  </tbody>\n",
              "</table>\n",
              "</div>\n",
              "      <button class=\"colab-df-convert\" onclick=\"convertToInteractive('df-97d68dea-5bde-4e48-ab31-4c97d4bef259')\"\n",
              "              title=\"Convert this dataframe to an interactive table.\"\n",
              "              style=\"display:none;\">\n",
              "        \n",
              "  <svg xmlns=\"http://www.w3.org/2000/svg\" height=\"24px\"viewBox=\"0 0 24 24\"\n",
              "       width=\"24px\">\n",
              "    <path d=\"M0 0h24v24H0V0z\" fill=\"none\"/>\n",
              "    <path d=\"M18.56 5.44l.94 2.06.94-2.06 2.06-.94-2.06-.94-.94-2.06-.94 2.06-2.06.94zm-11 1L8.5 8.5l.94-2.06 2.06-.94-2.06-.94L8.5 2.5l-.94 2.06-2.06.94zm10 10l.94 2.06.94-2.06 2.06-.94-2.06-.94-.94-2.06-.94 2.06-2.06.94z\"/><path d=\"M17.41 7.96l-1.37-1.37c-.4-.4-.92-.59-1.43-.59-.52 0-1.04.2-1.43.59L10.3 9.45l-7.72 7.72c-.78.78-.78 2.05 0 2.83L4 21.41c.39.39.9.59 1.41.59.51 0 1.02-.2 1.41-.59l7.78-7.78 2.81-2.81c.8-.78.8-2.07 0-2.86zM5.41 20L4 18.59l7.72-7.72 1.47 1.35L5.41 20z\"/>\n",
              "  </svg>\n",
              "      </button>\n",
              "      \n",
              "  <style>\n",
              "    .colab-df-container {\n",
              "      display:flex;\n",
              "      flex-wrap:wrap;\n",
              "      gap: 12px;\n",
              "    }\n",
              "\n",
              "    .colab-df-convert {\n",
              "      background-color: #E8F0FE;\n",
              "      border: none;\n",
              "      border-radius: 50%;\n",
              "      cursor: pointer;\n",
              "      display: none;\n",
              "      fill: #1967D2;\n",
              "      height: 32px;\n",
              "      padding: 0 0 0 0;\n",
              "      width: 32px;\n",
              "    }\n",
              "\n",
              "    .colab-df-convert:hover {\n",
              "      background-color: #E2EBFA;\n",
              "      box-shadow: 0px 1px 2px rgba(60, 64, 67, 0.3), 0px 1px 3px 1px rgba(60, 64, 67, 0.15);\n",
              "      fill: #174EA6;\n",
              "    }\n",
              "\n",
              "    [theme=dark] .colab-df-convert {\n",
              "      background-color: #3B4455;\n",
              "      fill: #D2E3FC;\n",
              "    }\n",
              "\n",
              "    [theme=dark] .colab-df-convert:hover {\n",
              "      background-color: #434B5C;\n",
              "      box-shadow: 0px 1px 3px 1px rgba(0, 0, 0, 0.15);\n",
              "      filter: drop-shadow(0px 1px 2px rgba(0, 0, 0, 0.3));\n",
              "      fill: #FFFFFF;\n",
              "    }\n",
              "  </style>\n",
              "\n",
              "      <script>\n",
              "        const buttonEl =\n",
              "          document.querySelector('#df-97d68dea-5bde-4e48-ab31-4c97d4bef259 button.colab-df-convert');\n",
              "        buttonEl.style.display =\n",
              "          google.colab.kernel.accessAllowed ? 'block' : 'none';\n",
              "\n",
              "        async function convertToInteractive(key) {\n",
              "          const element = document.querySelector('#df-97d68dea-5bde-4e48-ab31-4c97d4bef259');\n",
              "          const dataTable =\n",
              "            await google.colab.kernel.invokeFunction('convertToInteractive',\n",
              "                                                     [key], {});\n",
              "          if (!dataTable) return;\n",
              "\n",
              "          const docLinkHtml = 'Like what you see? Visit the ' +\n",
              "            '<a target=\"_blank\" href=https://colab.research.google.com/notebooks/data_table.ipynb>data table notebook</a>'\n",
              "            + ' to learn more about interactive tables.';\n",
              "          element.innerHTML = '';\n",
              "          dataTable['output_type'] = 'display_data';\n",
              "          await google.colab.output.renderOutput(dataTable, element);\n",
              "          const docLink = document.createElement('div');\n",
              "          docLink.innerHTML = docLinkHtml;\n",
              "          element.appendChild(docLink);\n",
              "        }\n",
              "      </script>\n",
              "    </div>\n",
              "  </div>\n",
              "  "
            ]
          },
          "metadata": {},
          "execution_count": 72
        }
      ]
    },
    {
      "cell_type": "code",
      "source": [
        "pre_processing(sample_input)"
      ],
      "metadata": {
        "colab": {
          "base_uri": "https://localhost:8080/",
          "height": 363
        },
        "id": "9jOfbkicgwU-",
        "outputId": "4b0141d0-fa35-4357-f569-74034ccecf53"
      },
      "execution_count": null,
      "outputs": [
        {
          "output_type": "execute_result",
          "data": {
            "text/plain": [
              "     English Speaking  Course instructor  Course  Semester  Class size\n",
              "123                 1                 10       3         2          21\n",
              "95                  2                  1       8         2          18\n",
              "1                   2                 15       3         1          17\n",
              "32                  2                 13       1         2          31\n",
              "4                   2                  7      11         2          55\n",
              "38                  2                 14      15         2          38\n",
              "105                 2                 20       2         2          25\n",
              "6                   2                  9       5         2          19\n",
              "94                  2                  1      15         2          31\n",
              "76                  2                  5       2         2          48"
            ],
            "text/html": [
              "\n",
              "  <div id=\"df-7b9ce3ad-a341-4e45-a879-41dc29cdd8d3\">\n",
              "    <div class=\"colab-df-container\">\n",
              "      <div>\n",
              "<style scoped>\n",
              "    .dataframe tbody tr th:only-of-type {\n",
              "        vertical-align: middle;\n",
              "    }\n",
              "\n",
              "    .dataframe tbody tr th {\n",
              "        vertical-align: top;\n",
              "    }\n",
              "\n",
              "    .dataframe thead th {\n",
              "        text-align: right;\n",
              "    }\n",
              "</style>\n",
              "<table border=\"1\" class=\"dataframe\">\n",
              "  <thead>\n",
              "    <tr style=\"text-align: right;\">\n",
              "      <th></th>\n",
              "      <th>English Speaking</th>\n",
              "      <th>Course instructor</th>\n",
              "      <th>Course</th>\n",
              "      <th>Semester</th>\n",
              "      <th>Class size</th>\n",
              "    </tr>\n",
              "  </thead>\n",
              "  <tbody>\n",
              "    <tr>\n",
              "      <th>123</th>\n",
              "      <td>1</td>\n",
              "      <td>10</td>\n",
              "      <td>3</td>\n",
              "      <td>2</td>\n",
              "      <td>21</td>\n",
              "    </tr>\n",
              "    <tr>\n",
              "      <th>95</th>\n",
              "      <td>2</td>\n",
              "      <td>1</td>\n",
              "      <td>8</td>\n",
              "      <td>2</td>\n",
              "      <td>18</td>\n",
              "    </tr>\n",
              "    <tr>\n",
              "      <th>1</th>\n",
              "      <td>2</td>\n",
              "      <td>15</td>\n",
              "      <td>3</td>\n",
              "      <td>1</td>\n",
              "      <td>17</td>\n",
              "    </tr>\n",
              "    <tr>\n",
              "      <th>32</th>\n",
              "      <td>2</td>\n",
              "      <td>13</td>\n",
              "      <td>1</td>\n",
              "      <td>2</td>\n",
              "      <td>31</td>\n",
              "    </tr>\n",
              "    <tr>\n",
              "      <th>4</th>\n",
              "      <td>2</td>\n",
              "      <td>7</td>\n",
              "      <td>11</td>\n",
              "      <td>2</td>\n",
              "      <td>55</td>\n",
              "    </tr>\n",
              "    <tr>\n",
              "      <th>38</th>\n",
              "      <td>2</td>\n",
              "      <td>14</td>\n",
              "      <td>15</td>\n",
              "      <td>2</td>\n",
              "      <td>38</td>\n",
              "    </tr>\n",
              "    <tr>\n",
              "      <th>105</th>\n",
              "      <td>2</td>\n",
              "      <td>20</td>\n",
              "      <td>2</td>\n",
              "      <td>2</td>\n",
              "      <td>25</td>\n",
              "    </tr>\n",
              "    <tr>\n",
              "      <th>6</th>\n",
              "      <td>2</td>\n",
              "      <td>9</td>\n",
              "      <td>5</td>\n",
              "      <td>2</td>\n",
              "      <td>19</td>\n",
              "    </tr>\n",
              "    <tr>\n",
              "      <th>94</th>\n",
              "      <td>2</td>\n",
              "      <td>1</td>\n",
              "      <td>15</td>\n",
              "      <td>2</td>\n",
              "      <td>31</td>\n",
              "    </tr>\n",
              "    <tr>\n",
              "      <th>76</th>\n",
              "      <td>2</td>\n",
              "      <td>5</td>\n",
              "      <td>2</td>\n",
              "      <td>2</td>\n",
              "      <td>48</td>\n",
              "    </tr>\n",
              "  </tbody>\n",
              "</table>\n",
              "</div>\n",
              "      <button class=\"colab-df-convert\" onclick=\"convertToInteractive('df-7b9ce3ad-a341-4e45-a879-41dc29cdd8d3')\"\n",
              "              title=\"Convert this dataframe to an interactive table.\"\n",
              "              style=\"display:none;\">\n",
              "        \n",
              "  <svg xmlns=\"http://www.w3.org/2000/svg\" height=\"24px\"viewBox=\"0 0 24 24\"\n",
              "       width=\"24px\">\n",
              "    <path d=\"M0 0h24v24H0V0z\" fill=\"none\"/>\n",
              "    <path d=\"M18.56 5.44l.94 2.06.94-2.06 2.06-.94-2.06-.94-.94-2.06-.94 2.06-2.06.94zm-11 1L8.5 8.5l.94-2.06 2.06-.94-2.06-.94L8.5 2.5l-.94 2.06-2.06.94zm10 10l.94 2.06.94-2.06 2.06-.94-2.06-.94-.94-2.06-.94 2.06-2.06.94z\"/><path d=\"M17.41 7.96l-1.37-1.37c-.4-.4-.92-.59-1.43-.59-.52 0-1.04.2-1.43.59L10.3 9.45l-7.72 7.72c-.78.78-.78 2.05 0 2.83L4 21.41c.39.39.9.59 1.41.59.51 0 1.02-.2 1.41-.59l7.78-7.78 2.81-2.81c.8-.78.8-2.07 0-2.86zM5.41 20L4 18.59l7.72-7.72 1.47 1.35L5.41 20z\"/>\n",
              "  </svg>\n",
              "      </button>\n",
              "      \n",
              "  <style>\n",
              "    .colab-df-container {\n",
              "      display:flex;\n",
              "      flex-wrap:wrap;\n",
              "      gap: 12px;\n",
              "    }\n",
              "\n",
              "    .colab-df-convert {\n",
              "      background-color: #E8F0FE;\n",
              "      border: none;\n",
              "      border-radius: 50%;\n",
              "      cursor: pointer;\n",
              "      display: none;\n",
              "      fill: #1967D2;\n",
              "      height: 32px;\n",
              "      padding: 0 0 0 0;\n",
              "      width: 32px;\n",
              "    }\n",
              "\n",
              "    .colab-df-convert:hover {\n",
              "      background-color: #E2EBFA;\n",
              "      box-shadow: 0px 1px 2px rgba(60, 64, 67, 0.3), 0px 1px 3px 1px rgba(60, 64, 67, 0.15);\n",
              "      fill: #174EA6;\n",
              "    }\n",
              "\n",
              "    [theme=dark] .colab-df-convert {\n",
              "      background-color: #3B4455;\n",
              "      fill: #D2E3FC;\n",
              "    }\n",
              "\n",
              "    [theme=dark] .colab-df-convert:hover {\n",
              "      background-color: #434B5C;\n",
              "      box-shadow: 0px 1px 3px 1px rgba(0, 0, 0, 0.15);\n",
              "      filter: drop-shadow(0px 1px 2px rgba(0, 0, 0, 0.3));\n",
              "      fill: #FFFFFF;\n",
              "    }\n",
              "  </style>\n",
              "\n",
              "      <script>\n",
              "        const buttonEl =\n",
              "          document.querySelector('#df-7b9ce3ad-a341-4e45-a879-41dc29cdd8d3 button.colab-df-convert');\n",
              "        buttonEl.style.display =\n",
              "          google.colab.kernel.accessAllowed ? 'block' : 'none';\n",
              "\n",
              "        async function convertToInteractive(key) {\n",
              "          const element = document.querySelector('#df-7b9ce3ad-a341-4e45-a879-41dc29cdd8d3');\n",
              "          const dataTable =\n",
              "            await google.colab.kernel.invokeFunction('convertToInteractive',\n",
              "                                                     [key], {});\n",
              "          if (!dataTable) return;\n",
              "\n",
              "          const docLinkHtml = 'Like what you see? Visit the ' +\n",
              "            '<a target=\"_blank\" href=https://colab.research.google.com/notebooks/data_table.ipynb>data table notebook</a>'\n",
              "            + ' to learn more about interactive tables.';\n",
              "          element.innerHTML = '';\n",
              "          dataTable['output_type'] = 'display_data';\n",
              "          await google.colab.output.renderOutput(dataTable, element);\n",
              "          const docLink = document.createElement('div');\n",
              "          docLink.innerHTML = docLinkHtml;\n",
              "          element.appendChild(docLink);\n",
              "        }\n",
              "      </script>\n",
              "    </div>\n",
              "  </div>\n",
              "  "
            ]
          },
          "metadata": {},
          "execution_count": 73
        }
      ]
    },
    {
      "cell_type": "code",
      "source": [
        "model.predict_proba(pre_processing(sample_input))"
      ],
      "metadata": {
        "colab": {
          "base_uri": "https://localhost:8080/"
        },
        "id": "KR2Xaa9Eg8G2",
        "outputId": "f28d1c8c-16e7-403f-ed2d-ece74b9d4848"
      },
      "execution_count": null,
      "outputs": [
        {
          "output_type": "stream",
          "name": "stderr",
          "text": [
            "/usr/local/lib/python3.7/dist-packages/sklearn/base.py:444: UserWarning: X has feature names, but RandomForestClassifier was fitted without feature names\n",
            "  f\"X has feature names, but {self.__class__.__name__} was fitted without\"\n",
            "[Parallel(n_jobs=3)]: Using backend ThreadingBackend with 3 concurrent workers.\n",
            "[Parallel(n_jobs=3)]: Done  44 tasks      | elapsed:    0.0s\n",
            "[Parallel(n_jobs=3)]: Done 194 tasks      | elapsed:    0.0s\n",
            "[Parallel(n_jobs=3)]: Done 444 tasks      | elapsed:    0.1s\n",
            "[Parallel(n_jobs=3)]: Done 500 out of 500 | elapsed:    0.1s finished\n"
          ]
        },
        {
          "output_type": "execute_result",
          "data": {
            "text/plain": [
              "array([[0.09666667, 0.09733333, 0.806     ],\n",
              "       [0.174     , 0.754     , 0.072     ],\n",
              "       [0.028     , 0.02318571, 0.94881429],\n",
              "       [0.77      , 0.022     , 0.208     ],\n",
              "       [0.228     , 0.14      , 0.632     ],\n",
              "       [0.906     , 0.07      , 0.024     ],\n",
              "       [0.794     , 0.117     , 0.089     ],\n",
              "       [0.162     , 0.05      , 0.788     ],\n",
              "       [0.148     , 0.202     , 0.65      ],\n",
              "       [0.96      , 0.018     , 0.022     ]])"
            ]
          },
          "metadata": {},
          "execution_count": 74
        }
      ]
    },
    {
      "cell_type": "markdown",
      "source": [
        "Score Function"
      ],
      "metadata": {
        "id": "f-7XKMatSMlF"
      }
    },
    {
      "cell_type": "code",
      "source": [
        "def score(input_data, model):\n",
        "    return model.predict_proba(input_data)"
      ],
      "metadata": {
        "id": "NbAVyzv6hNHc"
      },
      "execution_count": null,
      "outputs": []
    },
    {
      "cell_type": "code",
      "source": [
        "prediction = score(input_data=pre_processing(sample_input), model=model)\n",
        "prediction"
      ],
      "metadata": {
        "colab": {
          "base_uri": "https://localhost:8080/"
        },
        "id": "rkGsI0yZhQQF",
        "outputId": "d7b41acd-8e2d-4e2c-8417-388c2a44eb5f"
      },
      "execution_count": null,
      "outputs": [
        {
          "output_type": "stream",
          "name": "stderr",
          "text": [
            "/usr/local/lib/python3.7/dist-packages/sklearn/base.py:444: UserWarning: X has feature names, but RandomForestClassifier was fitted without feature names\n",
            "  f\"X has feature names, but {self.__class__.__name__} was fitted without\"\n",
            "[Parallel(n_jobs=3)]: Using backend ThreadingBackend with 3 concurrent workers.\n",
            "[Parallel(n_jobs=3)]: Done  44 tasks      | elapsed:    0.0s\n",
            "[Parallel(n_jobs=3)]: Done 194 tasks      | elapsed:    0.0s\n",
            "[Parallel(n_jobs=3)]: Done 444 tasks      | elapsed:    0.1s\n",
            "[Parallel(n_jobs=3)]: Done 500 out of 500 | elapsed:    0.1s finished\n"
          ]
        },
        {
          "output_type": "execute_result",
          "data": {
            "text/plain": [
              "array([[0.09666667, 0.09733333, 0.806     ],\n",
              "       [0.174     , 0.754     , 0.072     ],\n",
              "       [0.028     , 0.02318571, 0.94881429],\n",
              "       [0.77      , 0.022     , 0.208     ],\n",
              "       [0.228     , 0.14      , 0.632     ],\n",
              "       [0.906     , 0.07      , 0.024     ],\n",
              "       [0.794     , 0.117     , 0.089     ],\n",
              "       [0.162     , 0.05      , 0.788     ],\n",
              "       [0.148     , 0.202     , 0.65      ],\n",
              "       [0.96      , 0.018     , 0.022     ]])"
            ]
          },
          "metadata": {},
          "execution_count": 76
        }
      ]
    },
    {
      "cell_type": "markdown",
      "source": [
        "Post-processing"
      ],
      "metadata": {
        "id": "DQmzlx6wSRNH"
      }
    },
    {
      "cell_type": "code",
      "source": [
        "def post_processing(prediction):\n",
        "    if len(prediction)==1:\n",
        "        return prediction[:, 1][0]\n",
        "    else:\n",
        "        return prediction[:, 1]"
      ],
      "metadata": {
        "id": "6m0hFWRlhXEo"
      },
      "execution_count": null,
      "outputs": []
    },
    {
      "cell_type": "code",
      "source": [
        "output = post_processing(score(input_data=pre_processing(sample_input), model=model))\n",
        "output"
      ],
      "metadata": {
        "colab": {
          "base_uri": "https://localhost:8080/"
        },
        "id": "9si0NfHJhasE",
        "outputId": "577321c8-db62-4411-dcac-e8f18c1c434c"
      },
      "execution_count": null,
      "outputs": [
        {
          "output_type": "stream",
          "name": "stderr",
          "text": [
            "/usr/local/lib/python3.7/dist-packages/sklearn/base.py:444: UserWarning: X has feature names, but RandomForestClassifier was fitted without feature names\n",
            "  f\"X has feature names, but {self.__class__.__name__} was fitted without\"\n",
            "[Parallel(n_jobs=3)]: Using backend ThreadingBackend with 3 concurrent workers.\n",
            "[Parallel(n_jobs=3)]: Done  44 tasks      | elapsed:    0.0s\n",
            "[Parallel(n_jobs=3)]: Done 194 tasks      | elapsed:    0.0s\n",
            "[Parallel(n_jobs=3)]: Done 444 tasks      | elapsed:    0.1s\n",
            "[Parallel(n_jobs=3)]: Done 500 out of 500 | elapsed:    0.1s finished\n"
          ]
        },
        {
          "output_type": "execute_result",
          "data": {
            "text/plain": [
              "array([0.09733333, 0.754     , 0.02318571, 0.022     , 0.14      ,\n",
              "       0.07      , 0.117     , 0.05      , 0.202     , 0.018     ])"
            ]
          },
          "metadata": {},
          "execution_count": 78
        }
      ]
    },
    {
      "cell_type": "code",
      "source": [
        "sample_input['prediction'] = post_processing(model.predict_proba(pre_processing(sample_input)))\n",
        "sample_input"
      ],
      "metadata": {
        "colab": {
          "base_uri": "https://localhost:8080/",
          "height": 488
        },
        "id": "Z9wX_WMkhma4",
        "outputId": "ec3c488a-7ee8-42ea-9e2f-da7d8408ba0d"
      },
      "execution_count": null,
      "outputs": [
        {
          "output_type": "stream",
          "name": "stderr",
          "text": [
            "/usr/local/lib/python3.7/dist-packages/sklearn/base.py:444: UserWarning: X has feature names, but RandomForestClassifier was fitted without feature names\n",
            "  f\"X has feature names, but {self.__class__.__name__} was fitted without\"\n",
            "[Parallel(n_jobs=3)]: Using backend ThreadingBackend with 3 concurrent workers.\n",
            "[Parallel(n_jobs=3)]: Done  44 tasks      | elapsed:    0.0s\n",
            "[Parallel(n_jobs=3)]: Done 194 tasks      | elapsed:    0.1s\n",
            "[Parallel(n_jobs=3)]: Done 444 tasks      | elapsed:    0.1s\n",
            "[Parallel(n_jobs=3)]: Done 500 out of 500 | elapsed:    0.1s finished\n"
          ]
        },
        {
          "output_type": "execute_result",
          "data": {
            "text/plain": [
              "     English Speaking  Course instructor  Course  Semester  Class size   id  \\\n",
              "123                 1                 10       3         2          21  124   \n",
              "95                  2                  1       8         2          18   96   \n",
              "1                   2                 15       3         1          17    2   \n",
              "32                  2                 13       1         2          31   33   \n",
              "4                   2                  7      11         2          55    5   \n",
              "38                  2                 14      15         2          38   39   \n",
              "105                 2                 20       2         2          25  106   \n",
              "6                   2                  9       5         2          19    7   \n",
              "94                  2                  1      15         2          31   95   \n",
              "76                  2                  5       2         2          48   77   \n",
              "\n",
              "     prediction  \n",
              "123    0.097333  \n",
              "95     0.754000  \n",
              "1      0.023186  \n",
              "32     0.022000  \n",
              "4      0.140000  \n",
              "38     0.070000  \n",
              "105    0.117000  \n",
              "6      0.050000  \n",
              "94     0.202000  \n",
              "76     0.018000  "
            ],
            "text/html": [
              "\n",
              "  <div id=\"df-10f4fa45-8969-4a02-8ed5-86554b3a0155\">\n",
              "    <div class=\"colab-df-container\">\n",
              "      <div>\n",
              "<style scoped>\n",
              "    .dataframe tbody tr th:only-of-type {\n",
              "        vertical-align: middle;\n",
              "    }\n",
              "\n",
              "    .dataframe tbody tr th {\n",
              "        vertical-align: top;\n",
              "    }\n",
              "\n",
              "    .dataframe thead th {\n",
              "        text-align: right;\n",
              "    }\n",
              "</style>\n",
              "<table border=\"1\" class=\"dataframe\">\n",
              "  <thead>\n",
              "    <tr style=\"text-align: right;\">\n",
              "      <th></th>\n",
              "      <th>English Speaking</th>\n",
              "      <th>Course instructor</th>\n",
              "      <th>Course</th>\n",
              "      <th>Semester</th>\n",
              "      <th>Class size</th>\n",
              "      <th>id</th>\n",
              "      <th>prediction</th>\n",
              "    </tr>\n",
              "  </thead>\n",
              "  <tbody>\n",
              "    <tr>\n",
              "      <th>123</th>\n",
              "      <td>1</td>\n",
              "      <td>10</td>\n",
              "      <td>3</td>\n",
              "      <td>2</td>\n",
              "      <td>21</td>\n",
              "      <td>124</td>\n",
              "      <td>0.097333</td>\n",
              "    </tr>\n",
              "    <tr>\n",
              "      <th>95</th>\n",
              "      <td>2</td>\n",
              "      <td>1</td>\n",
              "      <td>8</td>\n",
              "      <td>2</td>\n",
              "      <td>18</td>\n",
              "      <td>96</td>\n",
              "      <td>0.754000</td>\n",
              "    </tr>\n",
              "    <tr>\n",
              "      <th>1</th>\n",
              "      <td>2</td>\n",
              "      <td>15</td>\n",
              "      <td>3</td>\n",
              "      <td>1</td>\n",
              "      <td>17</td>\n",
              "      <td>2</td>\n",
              "      <td>0.023186</td>\n",
              "    </tr>\n",
              "    <tr>\n",
              "      <th>32</th>\n",
              "      <td>2</td>\n",
              "      <td>13</td>\n",
              "      <td>1</td>\n",
              "      <td>2</td>\n",
              "      <td>31</td>\n",
              "      <td>33</td>\n",
              "      <td>0.022000</td>\n",
              "    </tr>\n",
              "    <tr>\n",
              "      <th>4</th>\n",
              "      <td>2</td>\n",
              "      <td>7</td>\n",
              "      <td>11</td>\n",
              "      <td>2</td>\n",
              "      <td>55</td>\n",
              "      <td>5</td>\n",
              "      <td>0.140000</td>\n",
              "    </tr>\n",
              "    <tr>\n",
              "      <th>38</th>\n",
              "      <td>2</td>\n",
              "      <td>14</td>\n",
              "      <td>15</td>\n",
              "      <td>2</td>\n",
              "      <td>38</td>\n",
              "      <td>39</td>\n",
              "      <td>0.070000</td>\n",
              "    </tr>\n",
              "    <tr>\n",
              "      <th>105</th>\n",
              "      <td>2</td>\n",
              "      <td>20</td>\n",
              "      <td>2</td>\n",
              "      <td>2</td>\n",
              "      <td>25</td>\n",
              "      <td>106</td>\n",
              "      <td>0.117000</td>\n",
              "    </tr>\n",
              "    <tr>\n",
              "      <th>6</th>\n",
              "      <td>2</td>\n",
              "      <td>9</td>\n",
              "      <td>5</td>\n",
              "      <td>2</td>\n",
              "      <td>19</td>\n",
              "      <td>7</td>\n",
              "      <td>0.050000</td>\n",
              "    </tr>\n",
              "    <tr>\n",
              "      <th>94</th>\n",
              "      <td>2</td>\n",
              "      <td>1</td>\n",
              "      <td>15</td>\n",
              "      <td>2</td>\n",
              "      <td>31</td>\n",
              "      <td>95</td>\n",
              "      <td>0.202000</td>\n",
              "    </tr>\n",
              "    <tr>\n",
              "      <th>76</th>\n",
              "      <td>2</td>\n",
              "      <td>5</td>\n",
              "      <td>2</td>\n",
              "      <td>2</td>\n",
              "      <td>48</td>\n",
              "      <td>77</td>\n",
              "      <td>0.018000</td>\n",
              "    </tr>\n",
              "  </tbody>\n",
              "</table>\n",
              "</div>\n",
              "      <button class=\"colab-df-convert\" onclick=\"convertToInteractive('df-10f4fa45-8969-4a02-8ed5-86554b3a0155')\"\n",
              "              title=\"Convert this dataframe to an interactive table.\"\n",
              "              style=\"display:none;\">\n",
              "        \n",
              "  <svg xmlns=\"http://www.w3.org/2000/svg\" height=\"24px\"viewBox=\"0 0 24 24\"\n",
              "       width=\"24px\">\n",
              "    <path d=\"M0 0h24v24H0V0z\" fill=\"none\"/>\n",
              "    <path d=\"M18.56 5.44l.94 2.06.94-2.06 2.06-.94-2.06-.94-.94-2.06-.94 2.06-2.06.94zm-11 1L8.5 8.5l.94-2.06 2.06-.94-2.06-.94L8.5 2.5l-.94 2.06-2.06.94zm10 10l.94 2.06.94-2.06 2.06-.94-2.06-.94-.94-2.06-.94 2.06-2.06.94z\"/><path d=\"M17.41 7.96l-1.37-1.37c-.4-.4-.92-.59-1.43-.59-.52 0-1.04.2-1.43.59L10.3 9.45l-7.72 7.72c-.78.78-.78 2.05 0 2.83L4 21.41c.39.39.9.59 1.41.59.51 0 1.02-.2 1.41-.59l7.78-7.78 2.81-2.81c.8-.78.8-2.07 0-2.86zM5.41 20L4 18.59l7.72-7.72 1.47 1.35L5.41 20z\"/>\n",
              "  </svg>\n",
              "      </button>\n",
              "      \n",
              "  <style>\n",
              "    .colab-df-container {\n",
              "      display:flex;\n",
              "      flex-wrap:wrap;\n",
              "      gap: 12px;\n",
              "    }\n",
              "\n",
              "    .colab-df-convert {\n",
              "      background-color: #E8F0FE;\n",
              "      border: none;\n",
              "      border-radius: 50%;\n",
              "      cursor: pointer;\n",
              "      display: none;\n",
              "      fill: #1967D2;\n",
              "      height: 32px;\n",
              "      padding: 0 0 0 0;\n",
              "      width: 32px;\n",
              "    }\n",
              "\n",
              "    .colab-df-convert:hover {\n",
              "      background-color: #E2EBFA;\n",
              "      box-shadow: 0px 1px 2px rgba(60, 64, 67, 0.3), 0px 1px 3px 1px rgba(60, 64, 67, 0.15);\n",
              "      fill: #174EA6;\n",
              "    }\n",
              "\n",
              "    [theme=dark] .colab-df-convert {\n",
              "      background-color: #3B4455;\n",
              "      fill: #D2E3FC;\n",
              "    }\n",
              "\n",
              "    [theme=dark] .colab-df-convert:hover {\n",
              "      background-color: #434B5C;\n",
              "      box-shadow: 0px 1px 3px 1px rgba(0, 0, 0, 0.15);\n",
              "      filter: drop-shadow(0px 1px 2px rgba(0, 0, 0, 0.3));\n",
              "      fill: #FFFFFF;\n",
              "    }\n",
              "  </style>\n",
              "\n",
              "      <script>\n",
              "        const buttonEl =\n",
              "          document.querySelector('#df-10f4fa45-8969-4a02-8ed5-86554b3a0155 button.colab-df-convert');\n",
              "        buttonEl.style.display =\n",
              "          google.colab.kernel.accessAllowed ? 'block' : 'none';\n",
              "\n",
              "        async function convertToInteractive(key) {\n",
              "          const element = document.querySelector('#df-10f4fa45-8969-4a02-8ed5-86554b3a0155');\n",
              "          const dataTable =\n",
              "            await google.colab.kernel.invokeFunction('convertToInteractive',\n",
              "                                                     [key], {});\n",
              "          if (!dataTable) return;\n",
              "\n",
              "          const docLinkHtml = 'Like what you see? Visit the ' +\n",
              "            '<a target=\"_blank\" href=https://colab.research.google.com/notebooks/data_table.ipynb>data table notebook</a>'\n",
              "            + ' to learn more about interactive tables.';\n",
              "          element.innerHTML = '';\n",
              "          dataTable['output_type'] = 'display_data';\n",
              "          await google.colab.output.renderOutput(dataTable, element);\n",
              "          const docLink = document.createElement('div');\n",
              "          docLink.innerHTML = docLinkHtml;\n",
              "          element.appendChild(docLink);\n",
              "        }\n",
              "      </script>\n",
              "    </div>\n",
              "  </div>\n",
              "  "
            ]
          },
          "metadata": {},
          "execution_count": 79
        }
      ]
    },
    {
      "cell_type": "code",
      "source": [
        "sample_output = post_processing(score(input_data=pre_processing(sample_input), model=model))\n",
        "sample_output"
      ],
      "metadata": {
        "colab": {
          "base_uri": "https://localhost:8080/"
        },
        "id": "spm-znGChroQ",
        "outputId": "b8686c5b-56bb-4bfb-9893-ae4a02c61409"
      },
      "execution_count": null,
      "outputs": [
        {
          "output_type": "stream",
          "name": "stderr",
          "text": [
            "/usr/local/lib/python3.7/dist-packages/sklearn/base.py:444: UserWarning: X has feature names, but RandomForestClassifier was fitted without feature names\n",
            "  f\"X has feature names, but {self.__class__.__name__} was fitted without\"\n",
            "[Parallel(n_jobs=3)]: Using backend ThreadingBackend with 3 concurrent workers.\n",
            "[Parallel(n_jobs=3)]: Done  44 tasks      | elapsed:    0.0s\n",
            "[Parallel(n_jobs=3)]: Done 194 tasks      | elapsed:    0.0s\n",
            "[Parallel(n_jobs=3)]: Done 444 tasks      | elapsed:    0.1s\n",
            "[Parallel(n_jobs=3)]: Done 500 out of 500 | elapsed:    0.1s finished\n"
          ]
        },
        {
          "output_type": "execute_result",
          "data": {
            "text/plain": [
              "array([0.09733333, 0.754     , 0.02318571, 0.022     , 0.14      ,\n",
              "       0.07      , 0.117     , 0.05      , 0.202     , 0.018     ])"
            ]
          },
          "metadata": {},
          "execution_count": 80
        }
      ]
    },
    {
      "cell_type": "markdown",
      "source": [
        "Inference Pipeline"
      ],
      "metadata": {
        "id": "Iy09VMPoSa1t"
      }
    },
    {
      "cell_type": "code",
      "source": [
        "def app_prediction_function(input_data, model):\n",
        "    return post_processing(score(input_data=pre_processing(input_data), model=model))"
      ],
      "metadata": {
        "id": "Bv_Gkaffh0aj"
      },
      "execution_count": null,
      "outputs": []
    },
    {
      "cell_type": "code",
      "source": [
        "input_data = data[['English Speaking','Course instructor','Course','Semester','Class size']].sample(1)\n",
        "print(input_data)\n",
        "app_prediction_function(input_data, model)"
      ],
      "metadata": {
        "colab": {
          "base_uri": "https://localhost:8080/"
        },
        "id": "uVxibv3Xh5qc",
        "outputId": "8170e230-3bf5-4f29-a2e6-76469c641852"
      },
      "execution_count": null,
      "outputs": [
        {
          "output_type": "stream",
          "name": "stderr",
          "text": [
            "/usr/local/lib/python3.7/dist-packages/sklearn/base.py:444: UserWarning: X has feature names, but RandomForestClassifier was fitted without feature names\n",
            "  f\"X has feature names, but {self.__class__.__name__} was fitted without\"\n",
            "[Parallel(n_jobs=3)]: Using backend ThreadingBackend with 3 concurrent workers.\n",
            "[Parallel(n_jobs=3)]: Done  44 tasks      | elapsed:    0.0s\n",
            "[Parallel(n_jobs=3)]: Done 194 tasks      | elapsed:    0.1s\n"
          ]
        },
        {
          "output_type": "stream",
          "name": "stdout",
          "text": [
            "     English Speaking  Course instructor  Course  Semester  Class size\n",
            "143                 2                  3       2         2          37\n"
          ]
        },
        {
          "output_type": "stream",
          "name": "stderr",
          "text": [
            "[Parallel(n_jobs=3)]: Done 444 tasks      | elapsed:    0.1s\n",
            "[Parallel(n_jobs=3)]: Done 500 out of 500 | elapsed:    0.1s finished\n"
          ]
        },
        {
          "output_type": "execute_result",
          "data": {
            "text/plain": [
              "0.104"
            ]
          },
          "metadata": {},
          "execution_count": 82
        }
      ]
    },
    {
      "cell_type": "code",
      "source": [
        "input_data = input_data.to_dict(orient='records')[0]\n",
        "input_data"
      ],
      "metadata": {
        "colab": {
          "base_uri": "https://localhost:8080/"
        },
        "id": "3yMqg9dgiEPi",
        "outputId": "7a6b4e67-5e60-4a6c-f3dd-a6baed73a747"
      },
      "execution_count": null,
      "outputs": [
        {
          "output_type": "execute_result",
          "data": {
            "text/plain": [
              "{'Class size': 37,\n",
              " 'Course': 2,\n",
              " 'Course instructor': 3,\n",
              " 'English Speaking': 2,\n",
              " 'Semester': 2,\n",
              " 'id': 144}"
            ]
          },
          "metadata": {},
          "execution_count": 83
        }
      ]
    },
    {
      "cell_type": "code",
      "source": [
        "input_data = pd.DataFrame([input_data])\n",
        "input_data"
      ],
      "metadata": {
        "colab": {
          "base_uri": "https://localhost:8080/",
          "height": 81
        },
        "id": "xRSw347qiHuv",
        "outputId": "b18fdf6f-a138-4a7e-9c29-a2c1522d7837"
      },
      "execution_count": null,
      "outputs": [
        {
          "output_type": "execute_result",
          "data": {
            "text/plain": [
              "   English Speaking  Course instructor  Course  Semester  Class size   id\n",
              "0                 2                  3       2         2          37  144"
            ],
            "text/html": [
              "\n",
              "  <div id=\"df-f63dbb17-9e82-46e3-a6e7-a6bdcd1dad91\">\n",
              "    <div class=\"colab-df-container\">\n",
              "      <div>\n",
              "<style scoped>\n",
              "    .dataframe tbody tr th:only-of-type {\n",
              "        vertical-align: middle;\n",
              "    }\n",
              "\n",
              "    .dataframe tbody tr th {\n",
              "        vertical-align: top;\n",
              "    }\n",
              "\n",
              "    .dataframe thead th {\n",
              "        text-align: right;\n",
              "    }\n",
              "</style>\n",
              "<table border=\"1\" class=\"dataframe\">\n",
              "  <thead>\n",
              "    <tr style=\"text-align: right;\">\n",
              "      <th></th>\n",
              "      <th>English Speaking</th>\n",
              "      <th>Course instructor</th>\n",
              "      <th>Course</th>\n",
              "      <th>Semester</th>\n",
              "      <th>Class size</th>\n",
              "      <th>id</th>\n",
              "    </tr>\n",
              "  </thead>\n",
              "  <tbody>\n",
              "    <tr>\n",
              "      <th>0</th>\n",
              "      <td>2</td>\n",
              "      <td>3</td>\n",
              "      <td>2</td>\n",
              "      <td>2</td>\n",
              "      <td>37</td>\n",
              "      <td>144</td>\n",
              "    </tr>\n",
              "  </tbody>\n",
              "</table>\n",
              "</div>\n",
              "      <button class=\"colab-df-convert\" onclick=\"convertToInteractive('df-f63dbb17-9e82-46e3-a6e7-a6bdcd1dad91')\"\n",
              "              title=\"Convert this dataframe to an interactive table.\"\n",
              "              style=\"display:none;\">\n",
              "        \n",
              "  <svg xmlns=\"http://www.w3.org/2000/svg\" height=\"24px\"viewBox=\"0 0 24 24\"\n",
              "       width=\"24px\">\n",
              "    <path d=\"M0 0h24v24H0V0z\" fill=\"none\"/>\n",
              "    <path d=\"M18.56 5.44l.94 2.06.94-2.06 2.06-.94-2.06-.94-.94-2.06-.94 2.06-2.06.94zm-11 1L8.5 8.5l.94-2.06 2.06-.94-2.06-.94L8.5 2.5l-.94 2.06-2.06.94zm10 10l.94 2.06.94-2.06 2.06-.94-2.06-.94-.94-2.06-.94 2.06-2.06.94z\"/><path d=\"M17.41 7.96l-1.37-1.37c-.4-.4-.92-.59-1.43-.59-.52 0-1.04.2-1.43.59L10.3 9.45l-7.72 7.72c-.78.78-.78 2.05 0 2.83L4 21.41c.39.39.9.59 1.41.59.51 0 1.02-.2 1.41-.59l7.78-7.78 2.81-2.81c.8-.78.8-2.07 0-2.86zM5.41 20L4 18.59l7.72-7.72 1.47 1.35L5.41 20z\"/>\n",
              "  </svg>\n",
              "      </button>\n",
              "      \n",
              "  <style>\n",
              "    .colab-df-container {\n",
              "      display:flex;\n",
              "      flex-wrap:wrap;\n",
              "      gap: 12px;\n",
              "    }\n",
              "\n",
              "    .colab-df-convert {\n",
              "      background-color: #E8F0FE;\n",
              "      border: none;\n",
              "      border-radius: 50%;\n",
              "      cursor: pointer;\n",
              "      display: none;\n",
              "      fill: #1967D2;\n",
              "      height: 32px;\n",
              "      padding: 0 0 0 0;\n",
              "      width: 32px;\n",
              "    }\n",
              "\n",
              "    .colab-df-convert:hover {\n",
              "      background-color: #E2EBFA;\n",
              "      box-shadow: 0px 1px 2px rgba(60, 64, 67, 0.3), 0px 1px 3px 1px rgba(60, 64, 67, 0.15);\n",
              "      fill: #174EA6;\n",
              "    }\n",
              "\n",
              "    [theme=dark] .colab-df-convert {\n",
              "      background-color: #3B4455;\n",
              "      fill: #D2E3FC;\n",
              "    }\n",
              "\n",
              "    [theme=dark] .colab-df-convert:hover {\n",
              "      background-color: #434B5C;\n",
              "      box-shadow: 0px 1px 3px 1px rgba(0, 0, 0, 0.15);\n",
              "      filter: drop-shadow(0px 1px 2px rgba(0, 0, 0, 0.3));\n",
              "      fill: #FFFFFF;\n",
              "    }\n",
              "  </style>\n",
              "\n",
              "      <script>\n",
              "        const buttonEl =\n",
              "          document.querySelector('#df-f63dbb17-9e82-46e3-a6e7-a6bdcd1dad91 button.colab-df-convert');\n",
              "        buttonEl.style.display =\n",
              "          google.colab.kernel.accessAllowed ? 'block' : 'none';\n",
              "\n",
              "        async function convertToInteractive(key) {\n",
              "          const element = document.querySelector('#df-f63dbb17-9e82-46e3-a6e7-a6bdcd1dad91');\n",
              "          const dataTable =\n",
              "            await google.colab.kernel.invokeFunction('convertToInteractive',\n",
              "                                                     [key], {});\n",
              "          if (!dataTable) return;\n",
              "\n",
              "          const docLinkHtml = 'Like what you see? Visit the ' +\n",
              "            '<a target=\"_blank\" href=https://colab.research.google.com/notebooks/data_table.ipynb>data table notebook</a>'\n",
              "            + ' to learn more about interactive tables.';\n",
              "          element.innerHTML = '';\n",
              "          dataTable['output_type'] = 'display_data';\n",
              "          await google.colab.output.renderOutput(dataTable, element);\n",
              "          const docLink = document.createElement('div');\n",
              "          docLink.innerHTML = docLinkHtml;\n",
              "          element.appendChild(docLink);\n",
              "        }\n",
              "      </script>\n",
              "    </div>\n",
              "  </div>\n",
              "  "
            ]
          },
          "metadata": {},
          "execution_count": 84
        }
      ]
    },
    {
      "cell_type": "markdown",
      "source": [
        "Get Prediction"
      ],
      "metadata": {
        "id": "quml5BZISg-p"
      }
    },
    {
      "cell_type": "code",
      "source": [
        "app_prediction_function(input_data, model)"
      ],
      "metadata": {
        "colab": {
          "base_uri": "https://localhost:8080/"
        },
        "id": "j2X5gONYiKxd",
        "outputId": "e13aefd3-d782-45a8-de23-c09939139ac2"
      },
      "execution_count": null,
      "outputs": [
        {
          "output_type": "stream",
          "name": "stderr",
          "text": [
            "/usr/local/lib/python3.7/dist-packages/sklearn/base.py:444: UserWarning: X has feature names, but RandomForestClassifier was fitted without feature names\n",
            "  f\"X has feature names, but {self.__class__.__name__} was fitted without\"\n",
            "[Parallel(n_jobs=3)]: Using backend ThreadingBackend with 3 concurrent workers.\n",
            "[Parallel(n_jobs=3)]: Done  44 tasks      | elapsed:    0.0s\n",
            "[Parallel(n_jobs=3)]: Done 194 tasks      | elapsed:    0.0s\n",
            "[Parallel(n_jobs=3)]: Done 444 tasks      | elapsed:    0.1s\n",
            "[Parallel(n_jobs=3)]: Done 500 out of 500 | elapsed:    0.1s finished\n"
          ]
        },
        {
          "output_type": "execute_result",
          "data": {
            "text/plain": [
              "0.104"
            ]
          },
          "metadata": {},
          "execution_count": 85
        }
      ]
    }
  ]
}