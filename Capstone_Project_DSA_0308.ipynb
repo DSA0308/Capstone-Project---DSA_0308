{
  "nbformat": 4,
  "nbformat_minor": 0,
  "metadata": {
    "colab": {
      "name": "Capstone Project - DSA_0308.ipynb",
      "provenance": [],
      "collapsed_sections": []
    },
    "kernelspec": {
      "name": "python3",
      "display_name": "Python 3"
    },
    "language_info": {
      "name": "python"
    }
  },
  "cells": [
    {
      "cell_type": "markdown",
      "source": [
        "### **Machine Learning Foundations**\n",
        "\n",
        "Capstone Project - Teaching Assistant Performance Evaluation\n",
        "\n",
        "Registration Number - DSA_0308\n"
      ],
      "metadata": {
        "id": "aHgz4WEHPlGL"
      }
    },
    {
      "cell_type": "code",
      "execution_count": 165,
      "metadata": {
        "id": "JQNchrbWSmky"
      },
      "outputs": [],
      "source": [
        "import numpy as np\n",
        "import pandas as pd\n",
        "\n",
        "# Data visualization\n",
        "from matplotlib import pyplot\n",
        "import matplotlib.pyplot as plt\n",
        "from matplotlib import cm # Colomaps\n",
        "import seaborn as sns\n",
        "\n",
        "# Classifier algorithms\n",
        "from sklearn.linear_model import LogisticRegression\n",
        "from sklearn.tree import DecisionTreeClassifier\n",
        "from sklearn.ensemble import RandomForestClassifier\n",
        "\n",
        "#train test split\n",
        "from sklearn.model_selection import train_test_split\n",
        "\n",
        "# Model evaluation\n",
        "from sklearn import metrics"
      ]
    },
    {
      "cell_type": "markdown",
      "source": [
        "Load Data"
      ],
      "metadata": {
        "id": "btpjoxDMQvYe"
      }
    },
    {
      "cell_type": "code",
      "source": [
        "file_name = 'https://archive.ics.uci.edu/ml/machine-learning-databases/tae/tae.data'\n",
        "\n",
        "data = pd.read_csv(file_name, header=None)\n",
        "data.head()"
      ],
      "metadata": {
        "colab": {
          "base_uri": "https://localhost:8080/",
          "height": 206
        },
        "id": "p4t4s8GBS1dc",
        "outputId": "faf83ec2-c5a9-4a6f-8de7-eb85615b83f0"
      },
      "execution_count": 166,
      "outputs": [
        {
          "output_type": "execute_result",
          "data": {
            "text/plain": [
              "   0   1   2  3   4  5\n",
              "0  1  23   3  1  19  3\n",
              "1  2  15   3  1  17  3\n",
              "2  1  23   3  2  49  3\n",
              "3  1   5   2  2  33  3\n",
              "4  2   7  11  2  55  3"
            ],
            "text/html": [
              "\n",
              "  <div id=\"df-bacdec1d-ae93-4bf9-9435-6825773bbd84\">\n",
              "    <div class=\"colab-df-container\">\n",
              "      <div>\n",
              "<style scoped>\n",
              "    .dataframe tbody tr th:only-of-type {\n",
              "        vertical-align: middle;\n",
              "    }\n",
              "\n",
              "    .dataframe tbody tr th {\n",
              "        vertical-align: top;\n",
              "    }\n",
              "\n",
              "    .dataframe thead th {\n",
              "        text-align: right;\n",
              "    }\n",
              "</style>\n",
              "<table border=\"1\" class=\"dataframe\">\n",
              "  <thead>\n",
              "    <tr style=\"text-align: right;\">\n",
              "      <th></th>\n",
              "      <th>0</th>\n",
              "      <th>1</th>\n",
              "      <th>2</th>\n",
              "      <th>3</th>\n",
              "      <th>4</th>\n",
              "      <th>5</th>\n",
              "    </tr>\n",
              "  </thead>\n",
              "  <tbody>\n",
              "    <tr>\n",
              "      <th>0</th>\n",
              "      <td>1</td>\n",
              "      <td>23</td>\n",
              "      <td>3</td>\n",
              "      <td>1</td>\n",
              "      <td>19</td>\n",
              "      <td>3</td>\n",
              "    </tr>\n",
              "    <tr>\n",
              "      <th>1</th>\n",
              "      <td>2</td>\n",
              "      <td>15</td>\n",
              "      <td>3</td>\n",
              "      <td>1</td>\n",
              "      <td>17</td>\n",
              "      <td>3</td>\n",
              "    </tr>\n",
              "    <tr>\n",
              "      <th>2</th>\n",
              "      <td>1</td>\n",
              "      <td>23</td>\n",
              "      <td>3</td>\n",
              "      <td>2</td>\n",
              "      <td>49</td>\n",
              "      <td>3</td>\n",
              "    </tr>\n",
              "    <tr>\n",
              "      <th>3</th>\n",
              "      <td>1</td>\n",
              "      <td>5</td>\n",
              "      <td>2</td>\n",
              "      <td>2</td>\n",
              "      <td>33</td>\n",
              "      <td>3</td>\n",
              "    </tr>\n",
              "    <tr>\n",
              "      <th>4</th>\n",
              "      <td>2</td>\n",
              "      <td>7</td>\n",
              "      <td>11</td>\n",
              "      <td>2</td>\n",
              "      <td>55</td>\n",
              "      <td>3</td>\n",
              "    </tr>\n",
              "  </tbody>\n",
              "</table>\n",
              "</div>\n",
              "      <button class=\"colab-df-convert\" onclick=\"convertToInteractive('df-bacdec1d-ae93-4bf9-9435-6825773bbd84')\"\n",
              "              title=\"Convert this dataframe to an interactive table.\"\n",
              "              style=\"display:none;\">\n",
              "        \n",
              "  <svg xmlns=\"http://www.w3.org/2000/svg\" height=\"24px\"viewBox=\"0 0 24 24\"\n",
              "       width=\"24px\">\n",
              "    <path d=\"M0 0h24v24H0V0z\" fill=\"none\"/>\n",
              "    <path d=\"M18.56 5.44l.94 2.06.94-2.06 2.06-.94-2.06-.94-.94-2.06-.94 2.06-2.06.94zm-11 1L8.5 8.5l.94-2.06 2.06-.94-2.06-.94L8.5 2.5l-.94 2.06-2.06.94zm10 10l.94 2.06.94-2.06 2.06-.94-2.06-.94-.94-2.06-.94 2.06-2.06.94z\"/><path d=\"M17.41 7.96l-1.37-1.37c-.4-.4-.92-.59-1.43-.59-.52 0-1.04.2-1.43.59L10.3 9.45l-7.72 7.72c-.78.78-.78 2.05 0 2.83L4 21.41c.39.39.9.59 1.41.59.51 0 1.02-.2 1.41-.59l7.78-7.78 2.81-2.81c.8-.78.8-2.07 0-2.86zM5.41 20L4 18.59l7.72-7.72 1.47 1.35L5.41 20z\"/>\n",
              "  </svg>\n",
              "      </button>\n",
              "      \n",
              "  <style>\n",
              "    .colab-df-container {\n",
              "      display:flex;\n",
              "      flex-wrap:wrap;\n",
              "      gap: 12px;\n",
              "    }\n",
              "\n",
              "    .colab-df-convert {\n",
              "      background-color: #E8F0FE;\n",
              "      border: none;\n",
              "      border-radius: 50%;\n",
              "      cursor: pointer;\n",
              "      display: none;\n",
              "      fill: #1967D2;\n",
              "      height: 32px;\n",
              "      padding: 0 0 0 0;\n",
              "      width: 32px;\n",
              "    }\n",
              "\n",
              "    .colab-df-convert:hover {\n",
              "      background-color: #E2EBFA;\n",
              "      box-shadow: 0px 1px 2px rgba(60, 64, 67, 0.3), 0px 1px 3px 1px rgba(60, 64, 67, 0.15);\n",
              "      fill: #174EA6;\n",
              "    }\n",
              "\n",
              "    [theme=dark] .colab-df-convert {\n",
              "      background-color: #3B4455;\n",
              "      fill: #D2E3FC;\n",
              "    }\n",
              "\n",
              "    [theme=dark] .colab-df-convert:hover {\n",
              "      background-color: #434B5C;\n",
              "      box-shadow: 0px 1px 3px 1px rgba(0, 0, 0, 0.15);\n",
              "      filter: drop-shadow(0px 1px 2px rgba(0, 0, 0, 0.3));\n",
              "      fill: #FFFFFF;\n",
              "    }\n",
              "  </style>\n",
              "\n",
              "      <script>\n",
              "        const buttonEl =\n",
              "          document.querySelector('#df-bacdec1d-ae93-4bf9-9435-6825773bbd84 button.colab-df-convert');\n",
              "        buttonEl.style.display =\n",
              "          google.colab.kernel.accessAllowed ? 'block' : 'none';\n",
              "\n",
              "        async function convertToInteractive(key) {\n",
              "          const element = document.querySelector('#df-bacdec1d-ae93-4bf9-9435-6825773bbd84');\n",
              "          const dataTable =\n",
              "            await google.colab.kernel.invokeFunction('convertToInteractive',\n",
              "                                                     [key], {});\n",
              "          if (!dataTable) return;\n",
              "\n",
              "          const docLinkHtml = 'Like what you see? Visit the ' +\n",
              "            '<a target=\"_blank\" href=https://colab.research.google.com/notebooks/data_table.ipynb>data table notebook</a>'\n",
              "            + ' to learn more about interactive tables.';\n",
              "          element.innerHTML = '';\n",
              "          dataTable['output_type'] = 'display_data';\n",
              "          await google.colab.output.renderOutput(dataTable, element);\n",
              "          const docLink = document.createElement('div');\n",
              "          docLink.innerHTML = docLinkHtml;\n",
              "          element.appendChild(docLink);\n",
              "        }\n",
              "      </script>\n",
              "    </div>\n",
              "  </div>\n",
              "  "
            ]
          },
          "metadata": {},
          "execution_count": 166
        }
      ]
    },
    {
      "cell_type": "markdown",
      "source": [
        "Pre-process Data for Training"
      ],
      "metadata": {
        "id": "EzhlRfKqW1vV"
      }
    },
    {
      "cell_type": "code",
      "source": [
        "data.columns = ['English Speaking', \n",
        "                'Course instructor',\n",
        "                'Course',\n",
        "                'Semester',\n",
        "                'Class size',\n",
        "                'Performance']\n",
        "\n",
        "data.describe(include='all').transpose()"
      ],
      "metadata": {
        "colab": {
          "base_uri": "https://localhost:8080/",
          "height": 238
        },
        "id": "teU3k-gWTAux",
        "outputId": "250c717f-115f-4174-ff73-855cd7eae7bd"
      },
      "execution_count": 167,
      "outputs": [
        {
          "output_type": "execute_result",
          "data": {
            "text/plain": [
              "                   count       mean        std  min   25%   50%   75%   max\n",
              "English Speaking   151.0   1.807947   0.395225  1.0   2.0   2.0   2.0   2.0\n",
              "Course instructor  151.0  13.642384   6.825779  1.0   8.0  13.0  20.0  25.0\n",
              "Course             151.0   8.105960   7.023914  1.0   3.0   4.0  15.0  26.0\n",
              "Semester           151.0   1.847682   0.360525  1.0   2.0   2.0   2.0   2.0\n",
              "Class size         151.0  27.867550  12.893758  3.0  19.0  27.0  37.0  66.0\n",
              "Performance        151.0   2.019868   0.820327  1.0   1.0   2.0   3.0   3.0"
            ],
            "text/html": [
              "\n",
              "  <div id=\"df-c495edca-215b-4973-ac46-d629578b6b1c\">\n",
              "    <div class=\"colab-df-container\">\n",
              "      <div>\n",
              "<style scoped>\n",
              "    .dataframe tbody tr th:only-of-type {\n",
              "        vertical-align: middle;\n",
              "    }\n",
              "\n",
              "    .dataframe tbody tr th {\n",
              "        vertical-align: top;\n",
              "    }\n",
              "\n",
              "    .dataframe thead th {\n",
              "        text-align: right;\n",
              "    }\n",
              "</style>\n",
              "<table border=\"1\" class=\"dataframe\">\n",
              "  <thead>\n",
              "    <tr style=\"text-align: right;\">\n",
              "      <th></th>\n",
              "      <th>count</th>\n",
              "      <th>mean</th>\n",
              "      <th>std</th>\n",
              "      <th>min</th>\n",
              "      <th>25%</th>\n",
              "      <th>50%</th>\n",
              "      <th>75%</th>\n",
              "      <th>max</th>\n",
              "    </tr>\n",
              "  </thead>\n",
              "  <tbody>\n",
              "    <tr>\n",
              "      <th>English Speaking</th>\n",
              "      <td>151.0</td>\n",
              "      <td>1.807947</td>\n",
              "      <td>0.395225</td>\n",
              "      <td>1.0</td>\n",
              "      <td>2.0</td>\n",
              "      <td>2.0</td>\n",
              "      <td>2.0</td>\n",
              "      <td>2.0</td>\n",
              "    </tr>\n",
              "    <tr>\n",
              "      <th>Course instructor</th>\n",
              "      <td>151.0</td>\n",
              "      <td>13.642384</td>\n",
              "      <td>6.825779</td>\n",
              "      <td>1.0</td>\n",
              "      <td>8.0</td>\n",
              "      <td>13.0</td>\n",
              "      <td>20.0</td>\n",
              "      <td>25.0</td>\n",
              "    </tr>\n",
              "    <tr>\n",
              "      <th>Course</th>\n",
              "      <td>151.0</td>\n",
              "      <td>8.105960</td>\n",
              "      <td>7.023914</td>\n",
              "      <td>1.0</td>\n",
              "      <td>3.0</td>\n",
              "      <td>4.0</td>\n",
              "      <td>15.0</td>\n",
              "      <td>26.0</td>\n",
              "    </tr>\n",
              "    <tr>\n",
              "      <th>Semester</th>\n",
              "      <td>151.0</td>\n",
              "      <td>1.847682</td>\n",
              "      <td>0.360525</td>\n",
              "      <td>1.0</td>\n",
              "      <td>2.0</td>\n",
              "      <td>2.0</td>\n",
              "      <td>2.0</td>\n",
              "      <td>2.0</td>\n",
              "    </tr>\n",
              "    <tr>\n",
              "      <th>Class size</th>\n",
              "      <td>151.0</td>\n",
              "      <td>27.867550</td>\n",
              "      <td>12.893758</td>\n",
              "      <td>3.0</td>\n",
              "      <td>19.0</td>\n",
              "      <td>27.0</td>\n",
              "      <td>37.0</td>\n",
              "      <td>66.0</td>\n",
              "    </tr>\n",
              "    <tr>\n",
              "      <th>Performance</th>\n",
              "      <td>151.0</td>\n",
              "      <td>2.019868</td>\n",
              "      <td>0.820327</td>\n",
              "      <td>1.0</td>\n",
              "      <td>1.0</td>\n",
              "      <td>2.0</td>\n",
              "      <td>3.0</td>\n",
              "      <td>3.0</td>\n",
              "    </tr>\n",
              "  </tbody>\n",
              "</table>\n",
              "</div>\n",
              "      <button class=\"colab-df-convert\" onclick=\"convertToInteractive('df-c495edca-215b-4973-ac46-d629578b6b1c')\"\n",
              "              title=\"Convert this dataframe to an interactive table.\"\n",
              "              style=\"display:none;\">\n",
              "        \n",
              "  <svg xmlns=\"http://www.w3.org/2000/svg\" height=\"24px\"viewBox=\"0 0 24 24\"\n",
              "       width=\"24px\">\n",
              "    <path d=\"M0 0h24v24H0V0z\" fill=\"none\"/>\n",
              "    <path d=\"M18.56 5.44l.94 2.06.94-2.06 2.06-.94-2.06-.94-.94-2.06-.94 2.06-2.06.94zm-11 1L8.5 8.5l.94-2.06 2.06-.94-2.06-.94L8.5 2.5l-.94 2.06-2.06.94zm10 10l.94 2.06.94-2.06 2.06-.94-2.06-.94-.94-2.06-.94 2.06-2.06.94z\"/><path d=\"M17.41 7.96l-1.37-1.37c-.4-.4-.92-.59-1.43-.59-.52 0-1.04.2-1.43.59L10.3 9.45l-7.72 7.72c-.78.78-.78 2.05 0 2.83L4 21.41c.39.39.9.59 1.41.59.51 0 1.02-.2 1.41-.59l7.78-7.78 2.81-2.81c.8-.78.8-2.07 0-2.86zM5.41 20L4 18.59l7.72-7.72 1.47 1.35L5.41 20z\"/>\n",
              "  </svg>\n",
              "      </button>\n",
              "      \n",
              "  <style>\n",
              "    .colab-df-container {\n",
              "      display:flex;\n",
              "      flex-wrap:wrap;\n",
              "      gap: 12px;\n",
              "    }\n",
              "\n",
              "    .colab-df-convert {\n",
              "      background-color: #E8F0FE;\n",
              "      border: none;\n",
              "      border-radius: 50%;\n",
              "      cursor: pointer;\n",
              "      display: none;\n",
              "      fill: #1967D2;\n",
              "      height: 32px;\n",
              "      padding: 0 0 0 0;\n",
              "      width: 32px;\n",
              "    }\n",
              "\n",
              "    .colab-df-convert:hover {\n",
              "      background-color: #E2EBFA;\n",
              "      box-shadow: 0px 1px 2px rgba(60, 64, 67, 0.3), 0px 1px 3px 1px rgba(60, 64, 67, 0.15);\n",
              "      fill: #174EA6;\n",
              "    }\n",
              "\n",
              "    [theme=dark] .colab-df-convert {\n",
              "      background-color: #3B4455;\n",
              "      fill: #D2E3FC;\n",
              "    }\n",
              "\n",
              "    [theme=dark] .colab-df-convert:hover {\n",
              "      background-color: #434B5C;\n",
              "      box-shadow: 0px 1px 3px 1px rgba(0, 0, 0, 0.15);\n",
              "      filter: drop-shadow(0px 1px 2px rgba(0, 0, 0, 0.3));\n",
              "      fill: #FFFFFF;\n",
              "    }\n",
              "  </style>\n",
              "\n",
              "      <script>\n",
              "        const buttonEl =\n",
              "          document.querySelector('#df-c495edca-215b-4973-ac46-d629578b6b1c button.colab-df-convert');\n",
              "        buttonEl.style.display =\n",
              "          google.colab.kernel.accessAllowed ? 'block' : 'none';\n",
              "\n",
              "        async function convertToInteractive(key) {\n",
              "          const element = document.querySelector('#df-c495edca-215b-4973-ac46-d629578b6b1c');\n",
              "          const dataTable =\n",
              "            await google.colab.kernel.invokeFunction('convertToInteractive',\n",
              "                                                     [key], {});\n",
              "          if (!dataTable) return;\n",
              "\n",
              "          const docLinkHtml = 'Like what you see? Visit the ' +\n",
              "            '<a target=\"_blank\" href=https://colab.research.google.com/notebooks/data_table.ipynb>data table notebook</a>'\n",
              "            + ' to learn more about interactive tables.';\n",
              "          element.innerHTML = '';\n",
              "          dataTable['output_type'] = 'display_data';\n",
              "          await google.colab.output.renderOutput(dataTable, element);\n",
              "          const docLink = document.createElement('div');\n",
              "          docLink.innerHTML = docLinkHtml;\n",
              "          element.appendChild(docLink);\n",
              "        }\n",
              "      </script>\n",
              "    </div>\n",
              "  </div>\n",
              "  "
            ]
          },
          "metadata": {},
          "execution_count": 167
        }
      ]
    },
    {
      "cell_type": "code",
      "source": [
        "data.info()"
      ],
      "metadata": {
        "colab": {
          "base_uri": "https://localhost:8080/"
        },
        "id": "djb3CbugTEm3",
        "outputId": "b6be9f1f-c360-4c54-83d8-797204476f25"
      },
      "execution_count": 168,
      "outputs": [
        {
          "output_type": "stream",
          "name": "stdout",
          "text": [
            "<class 'pandas.core.frame.DataFrame'>\n",
            "RangeIndex: 151 entries, 0 to 150\n",
            "Data columns (total 6 columns):\n",
            " #   Column             Non-Null Count  Dtype\n",
            "---  ------             --------------  -----\n",
            " 0   English Speaking   151 non-null    int64\n",
            " 1   Course instructor  151 non-null    int64\n",
            " 2   Course             151 non-null    int64\n",
            " 3   Semester           151 non-null    int64\n",
            " 4   Class size         151 non-null    int64\n",
            " 5   Performance        151 non-null    int64\n",
            "dtypes: int64(6)\n",
            "memory usage: 7.2 KB\n"
          ]
        }
      ]
    },
    {
      "cell_type": "code",
      "source": [
        "data['id'] = data.index+1\n",
        "data"
      ],
      "metadata": {
        "colab": {
          "base_uri": "https://localhost:8080/",
          "height": 424
        },
        "id": "ekmEG7nyUyEh",
        "outputId": "5672776b-cd45-4fa4-9de9-e46b4455bad5"
      },
      "execution_count": 169,
      "outputs": [
        {
          "output_type": "execute_result",
          "data": {
            "text/plain": [
              "     English Speaking  Course instructor  Course  Semester  Class size  \\\n",
              "0                   1                 23       3         1          19   \n",
              "1                   2                 15       3         1          17   \n",
              "2                   1                 23       3         2          49   \n",
              "3                   1                  5       2         2          33   \n",
              "4                   2                  7      11         2          55   \n",
              "..                ...                ...     ...       ...         ...   \n",
              "146                 2                  3       2         2          26   \n",
              "147                 2                 10       3         2          12   \n",
              "148                 1                 18       7         2          48   \n",
              "149                 2                 22       1         2          51   \n",
              "150                 2                  2      10         2          27   \n",
              "\n",
              "     Performance   id  \n",
              "0              3    1  \n",
              "1              3    2  \n",
              "2              3    3  \n",
              "3              3    4  \n",
              "4              3    5  \n",
              "..           ...  ...  \n",
              "146            1  147  \n",
              "147            1  148  \n",
              "148            1  149  \n",
              "149            1  150  \n",
              "150            1  151  \n",
              "\n",
              "[151 rows x 7 columns]"
            ],
            "text/html": [
              "\n",
              "  <div id=\"df-e26b90ea-88e0-4725-8d82-16e6115f5079\">\n",
              "    <div class=\"colab-df-container\">\n",
              "      <div>\n",
              "<style scoped>\n",
              "    .dataframe tbody tr th:only-of-type {\n",
              "        vertical-align: middle;\n",
              "    }\n",
              "\n",
              "    .dataframe tbody tr th {\n",
              "        vertical-align: top;\n",
              "    }\n",
              "\n",
              "    .dataframe thead th {\n",
              "        text-align: right;\n",
              "    }\n",
              "</style>\n",
              "<table border=\"1\" class=\"dataframe\">\n",
              "  <thead>\n",
              "    <tr style=\"text-align: right;\">\n",
              "      <th></th>\n",
              "      <th>English Speaking</th>\n",
              "      <th>Course instructor</th>\n",
              "      <th>Course</th>\n",
              "      <th>Semester</th>\n",
              "      <th>Class size</th>\n",
              "      <th>Performance</th>\n",
              "      <th>id</th>\n",
              "    </tr>\n",
              "  </thead>\n",
              "  <tbody>\n",
              "    <tr>\n",
              "      <th>0</th>\n",
              "      <td>1</td>\n",
              "      <td>23</td>\n",
              "      <td>3</td>\n",
              "      <td>1</td>\n",
              "      <td>19</td>\n",
              "      <td>3</td>\n",
              "      <td>1</td>\n",
              "    </tr>\n",
              "    <tr>\n",
              "      <th>1</th>\n",
              "      <td>2</td>\n",
              "      <td>15</td>\n",
              "      <td>3</td>\n",
              "      <td>1</td>\n",
              "      <td>17</td>\n",
              "      <td>3</td>\n",
              "      <td>2</td>\n",
              "    </tr>\n",
              "    <tr>\n",
              "      <th>2</th>\n",
              "      <td>1</td>\n",
              "      <td>23</td>\n",
              "      <td>3</td>\n",
              "      <td>2</td>\n",
              "      <td>49</td>\n",
              "      <td>3</td>\n",
              "      <td>3</td>\n",
              "    </tr>\n",
              "    <tr>\n",
              "      <th>3</th>\n",
              "      <td>1</td>\n",
              "      <td>5</td>\n",
              "      <td>2</td>\n",
              "      <td>2</td>\n",
              "      <td>33</td>\n",
              "      <td>3</td>\n",
              "      <td>4</td>\n",
              "    </tr>\n",
              "    <tr>\n",
              "      <th>4</th>\n",
              "      <td>2</td>\n",
              "      <td>7</td>\n",
              "      <td>11</td>\n",
              "      <td>2</td>\n",
              "      <td>55</td>\n",
              "      <td>3</td>\n",
              "      <td>5</td>\n",
              "    </tr>\n",
              "    <tr>\n",
              "      <th>...</th>\n",
              "      <td>...</td>\n",
              "      <td>...</td>\n",
              "      <td>...</td>\n",
              "      <td>...</td>\n",
              "      <td>...</td>\n",
              "      <td>...</td>\n",
              "      <td>...</td>\n",
              "    </tr>\n",
              "    <tr>\n",
              "      <th>146</th>\n",
              "      <td>2</td>\n",
              "      <td>3</td>\n",
              "      <td>2</td>\n",
              "      <td>2</td>\n",
              "      <td>26</td>\n",
              "      <td>1</td>\n",
              "      <td>147</td>\n",
              "    </tr>\n",
              "    <tr>\n",
              "      <th>147</th>\n",
              "      <td>2</td>\n",
              "      <td>10</td>\n",
              "      <td>3</td>\n",
              "      <td>2</td>\n",
              "      <td>12</td>\n",
              "      <td>1</td>\n",
              "      <td>148</td>\n",
              "    </tr>\n",
              "    <tr>\n",
              "      <th>148</th>\n",
              "      <td>1</td>\n",
              "      <td>18</td>\n",
              "      <td>7</td>\n",
              "      <td>2</td>\n",
              "      <td>48</td>\n",
              "      <td>1</td>\n",
              "      <td>149</td>\n",
              "    </tr>\n",
              "    <tr>\n",
              "      <th>149</th>\n",
              "      <td>2</td>\n",
              "      <td>22</td>\n",
              "      <td>1</td>\n",
              "      <td>2</td>\n",
              "      <td>51</td>\n",
              "      <td>1</td>\n",
              "      <td>150</td>\n",
              "    </tr>\n",
              "    <tr>\n",
              "      <th>150</th>\n",
              "      <td>2</td>\n",
              "      <td>2</td>\n",
              "      <td>10</td>\n",
              "      <td>2</td>\n",
              "      <td>27</td>\n",
              "      <td>1</td>\n",
              "      <td>151</td>\n",
              "    </tr>\n",
              "  </tbody>\n",
              "</table>\n",
              "<p>151 rows × 7 columns</p>\n",
              "</div>\n",
              "      <button class=\"colab-df-convert\" onclick=\"convertToInteractive('df-e26b90ea-88e0-4725-8d82-16e6115f5079')\"\n",
              "              title=\"Convert this dataframe to an interactive table.\"\n",
              "              style=\"display:none;\">\n",
              "        \n",
              "  <svg xmlns=\"http://www.w3.org/2000/svg\" height=\"24px\"viewBox=\"0 0 24 24\"\n",
              "       width=\"24px\">\n",
              "    <path d=\"M0 0h24v24H0V0z\" fill=\"none\"/>\n",
              "    <path d=\"M18.56 5.44l.94 2.06.94-2.06 2.06-.94-2.06-.94-.94-2.06-.94 2.06-2.06.94zm-11 1L8.5 8.5l.94-2.06 2.06-.94-2.06-.94L8.5 2.5l-.94 2.06-2.06.94zm10 10l.94 2.06.94-2.06 2.06-.94-2.06-.94-.94-2.06-.94 2.06-2.06.94z\"/><path d=\"M17.41 7.96l-1.37-1.37c-.4-.4-.92-.59-1.43-.59-.52 0-1.04.2-1.43.59L10.3 9.45l-7.72 7.72c-.78.78-.78 2.05 0 2.83L4 21.41c.39.39.9.59 1.41.59.51 0 1.02-.2 1.41-.59l7.78-7.78 2.81-2.81c.8-.78.8-2.07 0-2.86zM5.41 20L4 18.59l7.72-7.72 1.47 1.35L5.41 20z\"/>\n",
              "  </svg>\n",
              "      </button>\n",
              "      \n",
              "  <style>\n",
              "    .colab-df-container {\n",
              "      display:flex;\n",
              "      flex-wrap:wrap;\n",
              "      gap: 12px;\n",
              "    }\n",
              "\n",
              "    .colab-df-convert {\n",
              "      background-color: #E8F0FE;\n",
              "      border: none;\n",
              "      border-radius: 50%;\n",
              "      cursor: pointer;\n",
              "      display: none;\n",
              "      fill: #1967D2;\n",
              "      height: 32px;\n",
              "      padding: 0 0 0 0;\n",
              "      width: 32px;\n",
              "    }\n",
              "\n",
              "    .colab-df-convert:hover {\n",
              "      background-color: #E2EBFA;\n",
              "      box-shadow: 0px 1px 2px rgba(60, 64, 67, 0.3), 0px 1px 3px 1px rgba(60, 64, 67, 0.15);\n",
              "      fill: #174EA6;\n",
              "    }\n",
              "\n",
              "    [theme=dark] .colab-df-convert {\n",
              "      background-color: #3B4455;\n",
              "      fill: #D2E3FC;\n",
              "    }\n",
              "\n",
              "    [theme=dark] .colab-df-convert:hover {\n",
              "      background-color: #434B5C;\n",
              "      box-shadow: 0px 1px 3px 1px rgba(0, 0, 0, 0.15);\n",
              "      filter: drop-shadow(0px 1px 2px rgba(0, 0, 0, 0.3));\n",
              "      fill: #FFFFFF;\n",
              "    }\n",
              "  </style>\n",
              "\n",
              "      <script>\n",
              "        const buttonEl =\n",
              "          document.querySelector('#df-e26b90ea-88e0-4725-8d82-16e6115f5079 button.colab-df-convert');\n",
              "        buttonEl.style.display =\n",
              "          google.colab.kernel.accessAllowed ? 'block' : 'none';\n",
              "\n",
              "        async function convertToInteractive(key) {\n",
              "          const element = document.querySelector('#df-e26b90ea-88e0-4725-8d82-16e6115f5079');\n",
              "          const dataTable =\n",
              "            await google.colab.kernel.invokeFunction('convertToInteractive',\n",
              "                                                     [key], {});\n",
              "          if (!dataTable) return;\n",
              "\n",
              "          const docLinkHtml = 'Like what you see? Visit the ' +\n",
              "            '<a target=\"_blank\" href=https://colab.research.google.com/notebooks/data_table.ipynb>data table notebook</a>'\n",
              "            + ' to learn more about interactive tables.';\n",
              "          element.innerHTML = '';\n",
              "          dataTable['output_type'] = 'display_data';\n",
              "          await google.colab.output.renderOutput(dataTable, element);\n",
              "          const docLink = document.createElement('div');\n",
              "          docLink.innerHTML = docLinkHtml;\n",
              "          element.appendChild(docLink);\n",
              "        }\n",
              "      </script>\n",
              "    </div>\n",
              "  </div>\n",
              "  "
            ]
          },
          "metadata": {},
          "execution_count": 169
        }
      ]
    },
    {
      "cell_type": "code",
      "source": [
        "data.columns"
      ],
      "metadata": {
        "colab": {
          "base_uri": "https://localhost:8080/"
        },
        "id": "o8g0Hwe4TeRK",
        "outputId": "de772851-121a-46e8-d0f5-7c5fb6c51c10"
      },
      "execution_count": 170,
      "outputs": [
        {
          "output_type": "execute_result",
          "data": {
            "text/plain": [
              "Index(['English Speaking', 'Course instructor', 'Course', 'Semester',\n",
              "       'Class size', 'Performance', 'id'],\n",
              "      dtype='object')"
            ]
          },
          "metadata": {},
          "execution_count": 170
        }
      ]
    },
    {
      "cell_type": "code",
      "source": [
        "data['Performance'].value_counts()"
      ],
      "metadata": {
        "colab": {
          "base_uri": "https://localhost:8080/"
        },
        "id": "lvuciMo1UT2V",
        "outputId": "379bc19e-7351-4455-c233-600c6e2c450e"
      },
      "execution_count": 171,
      "outputs": [
        {
          "output_type": "execute_result",
          "data": {
            "text/plain": [
              "3    52\n",
              "2    50\n",
              "1    49\n",
              "Name: Performance, dtype: int64"
            ]
          },
          "metadata": {},
          "execution_count": 171
        }
      ]
    },
    {
      "cell_type": "code",
      "source": [
        "correlation_matrix = data[['English Speaking','Course instructor','Course','Semester','Class size','Performance']].corr()\n",
        "\n",
        "sns.heatmap(correlation_matrix)\n",
        "correlation_matrix"
      ],
      "metadata": {
        "colab": {
          "base_uri": "https://localhost:8080/",
          "height": 567
        },
        "id": "3RuuRQS8VK5f",
        "outputId": "48a45070-63f5-482a-b9e6-514243735e7a"
      },
      "execution_count": 172,
      "outputs": [
        {
          "output_type": "execute_result",
          "data": {
            "text/plain": [
              "                   English Speaking  Course instructor    Course  Semester  \\\n",
              "English Speaking           1.000000          -0.250510  0.134660  0.214417   \n",
              "Course instructor         -0.250510           1.000000 -0.236010 -0.168573   \n",
              "Course                     0.134660          -0.236010  1.000000  0.224927   \n",
              "Semester                   0.214417          -0.168573  0.224927  1.000000   \n",
              "Class size                -0.151547          -0.035765 -0.033485  0.269554   \n",
              "Performance               -0.255466           0.075095  0.143103 -0.282742   \n",
              "\n",
              "                   Class size  Performance  \n",
              "English Speaking    -0.151547    -0.255466  \n",
              "Course instructor   -0.035765     0.075095  \n",
              "Course              -0.033485     0.143103  \n",
              "Semester             0.269554    -0.282742  \n",
              "Class size           1.000000    -0.035676  \n",
              "Performance         -0.035676     1.000000  "
            ],
            "text/html": [
              "\n",
              "  <div id=\"df-193d916c-af26-4a55-98ba-ad88db03ba84\">\n",
              "    <div class=\"colab-df-container\">\n",
              "      <div>\n",
              "<style scoped>\n",
              "    .dataframe tbody tr th:only-of-type {\n",
              "        vertical-align: middle;\n",
              "    }\n",
              "\n",
              "    .dataframe tbody tr th {\n",
              "        vertical-align: top;\n",
              "    }\n",
              "\n",
              "    .dataframe thead th {\n",
              "        text-align: right;\n",
              "    }\n",
              "</style>\n",
              "<table border=\"1\" class=\"dataframe\">\n",
              "  <thead>\n",
              "    <tr style=\"text-align: right;\">\n",
              "      <th></th>\n",
              "      <th>English Speaking</th>\n",
              "      <th>Course instructor</th>\n",
              "      <th>Course</th>\n",
              "      <th>Semester</th>\n",
              "      <th>Class size</th>\n",
              "      <th>Performance</th>\n",
              "    </tr>\n",
              "  </thead>\n",
              "  <tbody>\n",
              "    <tr>\n",
              "      <th>English Speaking</th>\n",
              "      <td>1.000000</td>\n",
              "      <td>-0.250510</td>\n",
              "      <td>0.134660</td>\n",
              "      <td>0.214417</td>\n",
              "      <td>-0.151547</td>\n",
              "      <td>-0.255466</td>\n",
              "    </tr>\n",
              "    <tr>\n",
              "      <th>Course instructor</th>\n",
              "      <td>-0.250510</td>\n",
              "      <td>1.000000</td>\n",
              "      <td>-0.236010</td>\n",
              "      <td>-0.168573</td>\n",
              "      <td>-0.035765</td>\n",
              "      <td>0.075095</td>\n",
              "    </tr>\n",
              "    <tr>\n",
              "      <th>Course</th>\n",
              "      <td>0.134660</td>\n",
              "      <td>-0.236010</td>\n",
              "      <td>1.000000</td>\n",
              "      <td>0.224927</td>\n",
              "      <td>-0.033485</td>\n",
              "      <td>0.143103</td>\n",
              "    </tr>\n",
              "    <tr>\n",
              "      <th>Semester</th>\n",
              "      <td>0.214417</td>\n",
              "      <td>-0.168573</td>\n",
              "      <td>0.224927</td>\n",
              "      <td>1.000000</td>\n",
              "      <td>0.269554</td>\n",
              "      <td>-0.282742</td>\n",
              "    </tr>\n",
              "    <tr>\n",
              "      <th>Class size</th>\n",
              "      <td>-0.151547</td>\n",
              "      <td>-0.035765</td>\n",
              "      <td>-0.033485</td>\n",
              "      <td>0.269554</td>\n",
              "      <td>1.000000</td>\n",
              "      <td>-0.035676</td>\n",
              "    </tr>\n",
              "    <tr>\n",
              "      <th>Performance</th>\n",
              "      <td>-0.255466</td>\n",
              "      <td>0.075095</td>\n",
              "      <td>0.143103</td>\n",
              "      <td>-0.282742</td>\n",
              "      <td>-0.035676</td>\n",
              "      <td>1.000000</td>\n",
              "    </tr>\n",
              "  </tbody>\n",
              "</table>\n",
              "</div>\n",
              "      <button class=\"colab-df-convert\" onclick=\"convertToInteractive('df-193d916c-af26-4a55-98ba-ad88db03ba84')\"\n",
              "              title=\"Convert this dataframe to an interactive table.\"\n",
              "              style=\"display:none;\">\n",
              "        \n",
              "  <svg xmlns=\"http://www.w3.org/2000/svg\" height=\"24px\"viewBox=\"0 0 24 24\"\n",
              "       width=\"24px\">\n",
              "    <path d=\"M0 0h24v24H0V0z\" fill=\"none\"/>\n",
              "    <path d=\"M18.56 5.44l.94 2.06.94-2.06 2.06-.94-2.06-.94-.94-2.06-.94 2.06-2.06.94zm-11 1L8.5 8.5l.94-2.06 2.06-.94-2.06-.94L8.5 2.5l-.94 2.06-2.06.94zm10 10l.94 2.06.94-2.06 2.06-.94-2.06-.94-.94-2.06-.94 2.06-2.06.94z\"/><path d=\"M17.41 7.96l-1.37-1.37c-.4-.4-.92-.59-1.43-.59-.52 0-1.04.2-1.43.59L10.3 9.45l-7.72 7.72c-.78.78-.78 2.05 0 2.83L4 21.41c.39.39.9.59 1.41.59.51 0 1.02-.2 1.41-.59l7.78-7.78 2.81-2.81c.8-.78.8-2.07 0-2.86zM5.41 20L4 18.59l7.72-7.72 1.47 1.35L5.41 20z\"/>\n",
              "  </svg>\n",
              "      </button>\n",
              "      \n",
              "  <style>\n",
              "    .colab-df-container {\n",
              "      display:flex;\n",
              "      flex-wrap:wrap;\n",
              "      gap: 12px;\n",
              "    }\n",
              "\n",
              "    .colab-df-convert {\n",
              "      background-color: #E8F0FE;\n",
              "      border: none;\n",
              "      border-radius: 50%;\n",
              "      cursor: pointer;\n",
              "      display: none;\n",
              "      fill: #1967D2;\n",
              "      height: 32px;\n",
              "      padding: 0 0 0 0;\n",
              "      width: 32px;\n",
              "    }\n",
              "\n",
              "    .colab-df-convert:hover {\n",
              "      background-color: #E2EBFA;\n",
              "      box-shadow: 0px 1px 2px rgba(60, 64, 67, 0.3), 0px 1px 3px 1px rgba(60, 64, 67, 0.15);\n",
              "      fill: #174EA6;\n",
              "    }\n",
              "\n",
              "    [theme=dark] .colab-df-convert {\n",
              "      background-color: #3B4455;\n",
              "      fill: #D2E3FC;\n",
              "    }\n",
              "\n",
              "    [theme=dark] .colab-df-convert:hover {\n",
              "      background-color: #434B5C;\n",
              "      box-shadow: 0px 1px 3px 1px rgba(0, 0, 0, 0.15);\n",
              "      filter: drop-shadow(0px 1px 2px rgba(0, 0, 0, 0.3));\n",
              "      fill: #FFFFFF;\n",
              "    }\n",
              "  </style>\n",
              "\n",
              "      <script>\n",
              "        const buttonEl =\n",
              "          document.querySelector('#df-193d916c-af26-4a55-98ba-ad88db03ba84 button.colab-df-convert');\n",
              "        buttonEl.style.display =\n",
              "          google.colab.kernel.accessAllowed ? 'block' : 'none';\n",
              "\n",
              "        async function convertToInteractive(key) {\n",
              "          const element = document.querySelector('#df-193d916c-af26-4a55-98ba-ad88db03ba84');\n",
              "          const dataTable =\n",
              "            await google.colab.kernel.invokeFunction('convertToInteractive',\n",
              "                                                     [key], {});\n",
              "          if (!dataTable) return;\n",
              "\n",
              "          const docLinkHtml = 'Like what you see? Visit the ' +\n",
              "            '<a target=\"_blank\" href=https://colab.research.google.com/notebooks/data_table.ipynb>data table notebook</a>'\n",
              "            + ' to learn more about interactive tables.';\n",
              "          element.innerHTML = '';\n",
              "          dataTable['output_type'] = 'display_data';\n",
              "          await google.colab.output.renderOutput(dataTable, element);\n",
              "          const docLink = document.createElement('div');\n",
              "          docLink.innerHTML = docLinkHtml;\n",
              "          element.appendChild(docLink);\n",
              "        }\n",
              "      </script>\n",
              "    </div>\n",
              "  </div>\n",
              "  "
            ]
          },
          "metadata": {},
          "execution_count": 172
        },
        {
          "output_type": "display_data",
          "data": {
            "text/plain": [
              "<Figure size 432x288 with 2 Axes>"
            ],
            "image/png": "[encoded data removed]"
          },
          "metadata": {
            "needs_background": "light"
          }
        }
      ]
    },
    {
      "cell_type": "code",
      "source": [
        "X_variables = ['English Speaking','Course instructor','Course','Semester','Class size']\n",
        "data[X_variables].head()"
      ],
      "metadata": {
        "colab": {
          "base_uri": "https://localhost:8080/",
          "height": 206
        },
        "id": "TNRsHOF0VOx-",
        "outputId": "93685c99-0313-4919-8172-11b4edf6f71d"
      },
      "execution_count": 173,
      "outputs": [
        {
          "output_type": "execute_result",
          "data": {
            "text/plain": [
              "   English Speaking  Course instructor  Course  Semester  Class size\n",
              "0                 1                 23       3         1          19\n",
              "1                 2                 15       3         1          17\n",
              "2                 1                 23       3         2          49\n",
              "3                 1                  5       2         2          33\n",
              "4                 2                  7      11         2          55"
            ],
            "text/html": [
              "\n",
              "  <div id=\"df-63146dff-5b3d-4080-8713-759ab152b8eb\">\n",
              "    <div class=\"colab-df-container\">\n",
              "      <div>\n",
              "<style scoped>\n",
              "    .dataframe tbody tr th:only-of-type {\n",
              "        vertical-align: middle;\n",
              "    }\n",
              "\n",
              "    .dataframe tbody tr th {\n",
              "        vertical-align: top;\n",
              "    }\n",
              "\n",
              "    .dataframe thead th {\n",
              "        text-align: right;\n",
              "    }\n",
              "</style>\n",
              "<table border=\"1\" class=\"dataframe\">\n",
              "  <thead>\n",
              "    <tr style=\"text-align: right;\">\n",
              "      <th></th>\n",
              "      <th>English Speaking</th>\n",
              "      <th>Course instructor</th>\n",
              "      <th>Course</th>\n",
              "      <th>Semester</th>\n",
              "      <th>Class size</th>\n",
              "    </tr>\n",
              "  </thead>\n",
              "  <tbody>\n",
              "    <tr>\n",
              "      <th>0</th>\n",
              "      <td>1</td>\n",
              "      <td>23</td>\n",
              "      <td>3</td>\n",
              "      <td>1</td>\n",
              "      <td>19</td>\n",
              "    </tr>\n",
              "    <tr>\n",
              "      <th>1</th>\n",
              "      <td>2</td>\n",
              "      <td>15</td>\n",
              "      <td>3</td>\n",
              "      <td>1</td>\n",
              "      <td>17</td>\n",
              "    </tr>\n",
              "    <tr>\n",
              "      <th>2</th>\n",
              "      <td>1</td>\n",
              "      <td>23</td>\n",
              "      <td>3</td>\n",
              "      <td>2</td>\n",
              "      <td>49</td>\n",
              "    </tr>\n",
              "    <tr>\n",
              "      <th>3</th>\n",
              "      <td>1</td>\n",
              "      <td>5</td>\n",
              "      <td>2</td>\n",
              "      <td>2</td>\n",
              "      <td>33</td>\n",
              "    </tr>\n",
              "    <tr>\n",
              "      <th>4</th>\n",
              "      <td>2</td>\n",
              "      <td>7</td>\n",
              "      <td>11</td>\n",
              "      <td>2</td>\n",
              "      <td>55</td>\n",
              "    </tr>\n",
              "  </tbody>\n",
              "</table>\n",
              "</div>\n",
              "      <button class=\"colab-df-convert\" onclick=\"convertToInteractive('df-63146dff-5b3d-4080-8713-759ab152b8eb')\"\n",
              "              title=\"Convert this dataframe to an interactive table.\"\n",
              "              style=\"display:none;\">\n",
              "        \n",
              "  <svg xmlns=\"http://www.w3.org/2000/svg\" height=\"24px\"viewBox=\"0 0 24 24\"\n",
              "       width=\"24px\">\n",
              "    <path d=\"M0 0h24v24H0V0z\" fill=\"none\"/>\n",
              "    <path d=\"M18.56 5.44l.94 2.06.94-2.06 2.06-.94-2.06-.94-.94-2.06-.94 2.06-2.06.94zm-11 1L8.5 8.5l.94-2.06 2.06-.94-2.06-.94L8.5 2.5l-.94 2.06-2.06.94zm10 10l.94 2.06.94-2.06 2.06-.94-2.06-.94-.94-2.06-.94 2.06-2.06.94z\"/><path d=\"M17.41 7.96l-1.37-1.37c-.4-.4-.92-.59-1.43-.59-.52 0-1.04.2-1.43.59L10.3 9.45l-7.72 7.72c-.78.78-.78 2.05 0 2.83L4 21.41c.39.39.9.59 1.41.59.51 0 1.02-.2 1.41-.59l7.78-7.78 2.81-2.81c.8-.78.8-2.07 0-2.86zM5.41 20L4 18.59l7.72-7.72 1.47 1.35L5.41 20z\"/>\n",
              "  </svg>\n",
              "      </button>\n",
              "      \n",
              "  <style>\n",
              "    .colab-df-container {\n",
              "      display:flex;\n",
              "      flex-wrap:wrap;\n",
              "      gap: 12px;\n",
              "    }\n",
              "\n",
              "    .colab-df-convert {\n",
              "      background-color: #E8F0FE;\n",
              "      border: none;\n",
              "      border-radius: 50%;\n",
              "      cursor: pointer;\n",
              "      display: none;\n",
              "      fill: #1967D2;\n",
              "      height: 32px;\n",
              "      padding: 0 0 0 0;\n",
              "      width: 32px;\n",
              "    }\n",
              "\n",
              "    .colab-df-convert:hover {\n",
              "      background-color: #E2EBFA;\n",
              "      box-shadow: 0px 1px 2px rgba(60, 64, 67, 0.3), 0px 1px 3px 1px rgba(60, 64, 67, 0.15);\n",
              "      fill: #174EA6;\n",
              "    }\n",
              "\n",
              "    [theme=dark] .colab-df-convert {\n",
              "      background-color: #3B4455;\n",
              "      fill: #D2E3FC;\n",
              "    }\n",
              "\n",
              "    [theme=dark] .colab-df-convert:hover {\n",
              "      background-color: #434B5C;\n",
              "      box-shadow: 0px 1px 3px 1px rgba(0, 0, 0, 0.15);\n",
              "      filter: drop-shadow(0px 1px 2px rgba(0, 0, 0, 0.3));\n",
              "      fill: #FFFFFF;\n",
              "    }\n",
              "  </style>\n",
              "\n",
              "      <script>\n",
              "        const buttonEl =\n",
              "          document.querySelector('#df-63146dff-5b3d-4080-8713-759ab152b8eb button.colab-df-convert');\n",
              "        buttonEl.style.display =\n",
              "          google.colab.kernel.accessAllowed ? 'block' : 'none';\n",
              "\n",
              "        async function convertToInteractive(key) {\n",
              "          const element = document.querySelector('#df-63146dff-5b3d-4080-8713-759ab152b8eb');\n",
              "          const dataTable =\n",
              "            await google.colab.kernel.invokeFunction('convertToInteractive',\n",
              "                                                     [key], {});\n",
              "          if (!dataTable) return;\n",
              "\n",
              "          const docLinkHtml = 'Like what you see? Visit the ' +\n",
              "            '<a target=\"_blank\" href=https://colab.research.google.com/notebooks/data_table.ipynb>data table notebook</a>'\n",
              "            + ' to learn more about interactive tables.';\n",
              "          element.innerHTML = '';\n",
              "          dataTable['output_type'] = 'display_data';\n",
              "          await google.colab.output.renderOutput(dataTable, element);\n",
              "          const docLink = document.createElement('div');\n",
              "          docLink.innerHTML = docLinkHtml;\n",
              "          element.appendChild(docLink);\n",
              "        }\n",
              "      </script>\n",
              "    </div>\n",
              "  </div>\n",
              "  "
            ]
          },
          "metadata": {},
          "execution_count": 173
        }
      ]
    },
    {
      "cell_type": "code",
      "source": [
        "y_varibale = 'Performance'\n",
        "data[y_varibale].head()"
      ],
      "metadata": {
        "colab": {
          "base_uri": "https://localhost:8080/"
        },
        "id": "AL5KCLY3VZas",
        "outputId": "8d79b345-03dc-4d43-f0d1-49d0e8ee6187"
      },
      "execution_count": 174,
      "outputs": [
        {
          "output_type": "execute_result",
          "data": {
            "text/plain": [
              "0    3\n",
              "1    3\n",
              "2    3\n",
              "3    3\n",
              "4    3\n",
              "Name: Performance, dtype: int64"
            ]
          },
          "metadata": {},
          "execution_count": 174
        }
      ]
    },
    {
      "cell_type": "code",
      "source": [
        "X = data[X_variables].values\n",
        "X"
      ],
      "metadata": {
        "colab": {
          "base_uri": "https://localhost:8080/"
        },
        "id": "lUY47_GnWZEP",
        "outputId": "df9181df-8cf9-4e76-8d8b-947c25963694"
      },
      "execution_count": 175,
      "outputs": [
        {
          "output_type": "execute_result",
          "data": {
            "text/plain": [
              "array([[ 1, 23,  3,  1, 19],\n",
              "       [ 2, 15,  3,  1, 17],\n",
              "       [ 1, 23,  3,  2, 49],\n",
              "       [ 1,  5,  2,  2, 33],\n",
              "       [ 2,  7, 11,  2, 55],\n",
              "       [ 2, 23,  3,  1, 20],\n",
              "       [ 2,  9,  5,  2, 19],\n",
              "       [ 2, 10,  3,  2, 27],\n",
              "       [ 1, 22,  3,  1, 58],\n",
              "       [ 2, 15,  3,  1, 20],\n",
              "       [ 2, 10, 22,  2,  9],\n",
              "       [ 2, 13,  1,  2, 30],\n",
              "       [ 2, 18, 21,  2, 29],\n",
              "       [ 2,  6, 17,  2, 39],\n",
              "       [ 2,  6, 17,  2, 42],\n",
              "       [ 2,  6, 17,  2, 43],\n",
              "       [ 2,  7, 11,  2, 10],\n",
              "       [ 2, 22,  3,  2, 46],\n",
              "       [ 2, 13,  3,  1, 10],\n",
              "       [ 2,  7, 25,  2, 42],\n",
              "       [ 2, 25,  7,  2, 27],\n",
              "       [ 2, 25,  7,  2, 23],\n",
              "       [ 2,  2,  9,  2, 31],\n",
              "       [ 2,  1, 15,  1, 22],\n",
              "       [ 2, 15, 13,  2, 37],\n",
              "       [ 2,  7, 11,  2, 13],\n",
              "       [ 2,  8,  3,  2, 24],\n",
              "       [ 2, 14, 15,  2, 38],\n",
              "       [ 2, 21,  2,  2, 42],\n",
              "       [ 2, 22,  3,  2, 28],\n",
              "       [ 2, 11,  1,  2, 51],\n",
              "       [ 2, 18,  5,  2, 19],\n",
              "       [ 2, 13,  1,  2, 31],\n",
              "       [ 1, 13,  3,  1, 13],\n",
              "       [ 2,  5,  2,  2, 37],\n",
              "       [ 2, 16,  8,  2, 36],\n",
              "       [ 2,  4, 16,  2, 21],\n",
              "       [ 2,  5,  2,  2, 48],\n",
              "       [ 2, 14, 15,  2, 38],\n",
              "       [ 1, 23,  3,  1, 19],\n",
              "       [ 2, 15,  3,  1, 17],\n",
              "       [ 1, 23,  3,  2, 49],\n",
              "       [ 1,  5,  2,  2, 33],\n",
              "       [ 2,  7, 11,  2, 55],\n",
              "       [ 2, 23,  3,  1, 20],\n",
              "       [ 2,  9,  5,  2, 19],\n",
              "       [ 2, 10,  3,  2, 27],\n",
              "       [ 1, 22,  3,  2, 58],\n",
              "       [ 2, 15,  3,  1, 20],\n",
              "       [ 2, 10, 22,  2,  9],\n",
              "       [ 2, 13,  1,  2, 30],\n",
              "       [ 2, 18, 21,  2, 29],\n",
              "       [ 2,  6, 17,  2, 39],\n",
              "       [ 2,  6, 17,  2, 42],\n",
              "       [ 2,  6, 17,  2, 43],\n",
              "       [ 2,  7, 11,  2, 10],\n",
              "       [ 2, 22,  3,  2, 46],\n",
              "       [ 2, 13,  3,  1, 10],\n",
              "       [ 2,  7, 25,  2, 42],\n",
              "       [ 2, 25,  7,  2, 27],\n",
              "       [ 2, 25,  7,  2, 23],\n",
              "       [ 2,  2,  9,  2, 31],\n",
              "       [ 2,  1, 15,  1, 22],\n",
              "       [ 2, 15, 13,  2, 37],\n",
              "       [ 2,  7, 11,  2, 13],\n",
              "       [ 2,  8,  3,  2, 24],\n",
              "       [ 2, 14, 15,  2, 38],\n",
              "       [ 2, 21,  2,  2, 42],\n",
              "       [ 2, 22,  3,  2, 28],\n",
              "       [ 2, 11,  1,  2, 51],\n",
              "       [ 2, 18,  5,  2, 19],\n",
              "       [ 2, 13,  1,  2, 31],\n",
              "       [ 1, 13,  3,  1, 13],\n",
              "       [ 2,  5,  2,  2, 37],\n",
              "       [ 2, 16,  8,  2, 36],\n",
              "       [ 2,  4, 16,  2, 21],\n",
              "       [ 2,  5,  2,  2, 48],\n",
              "       [ 2, 14, 15,  2, 38],\n",
              "       [ 1, 23,  3,  1, 25],\n",
              "       [ 1, 13,  3,  1, 17],\n",
              "       [ 2, 16, 19,  2, 11],\n",
              "       [ 2,  9,  2,  2, 39],\n",
              "       [ 2, 13,  3,  1, 11],\n",
              "       [ 2, 18, 21,  2, 19],\n",
              "       [ 1, 22,  3,  2, 45],\n",
              "       [ 2,  7, 11,  1, 20],\n",
              "       [ 2, 23,  3,  1, 20],\n",
              "       [ 1, 23,  3,  1, 20],\n",
              "       [ 1, 23,  3,  2, 38],\n",
              "       [ 2, 14, 22,  2, 17],\n",
              "       [ 1, 17, 17,  2, 19],\n",
              "       [ 2,  9,  5,  2, 24],\n",
              "       [ 2, 18, 25,  2, 25],\n",
              "       [ 1, 17, 17,  2, 31],\n",
              "       [ 2,  1, 15,  2, 31],\n",
              "       [ 2,  1,  8,  2, 18],\n",
              "       [ 1, 11, 16,  2, 22],\n",
              "       [ 1, 22, 13,  2, 27],\n",
              "       [ 2,  9,  2,  2, 14],\n",
              "       [ 2, 13,  1,  2, 20],\n",
              "       [ 1,  6, 17,  2, 35],\n",
              "       [ 2, 23,  3,  1, 20],\n",
              "       [ 1, 23,  3,  1, 20],\n",
              "       [ 2,  6, 17,  2, 37],\n",
              "       [ 1, 22,  3,  2, 15],\n",
              "       [ 2, 20,  2,  2, 25],\n",
              "       [ 2, 23,  3,  2, 10],\n",
              "       [ 2, 20,  2,  2, 14],\n",
              "       [ 1, 23,  3,  2, 38],\n",
              "       [ 2, 13,  1,  2, 29],\n",
              "       [ 2, 10,  3,  2, 19],\n",
              "       [ 2,  7, 11,  2, 30],\n",
              "       [ 1, 14, 15,  2, 32],\n",
              "       [ 2,  8,  3,  2, 27],\n",
              "       [ 2, 12,  7,  2, 34],\n",
              "       [ 2,  8,  7,  2, 23],\n",
              "       [ 2, 15,  1,  2, 66],\n",
              "       [ 2, 23,  3,  2, 12],\n",
              "       [ 2,  2,  9,  2, 29],\n",
              "       [ 2, 15,  1,  2, 19],\n",
              "       [ 2, 20,  2,  2,  3],\n",
              "       [ 2, 13, 14,  2, 17],\n",
              "       [ 2,  9,  6,  2,  7],\n",
              "       [ 1, 10,  3,  2, 21],\n",
              "       [ 2, 14, 15,  2, 36],\n",
              "       [ 1, 13,  1,  2, 54],\n",
              "       [ 1,  8,  3,  2, 29],\n",
              "       [ 2, 20,  2,  2, 45],\n",
              "       [ 2, 22,  1,  2, 11],\n",
              "       [ 2, 18, 12,  2, 16],\n",
              "       [ 2, 20, 15,  2, 18],\n",
              "       [ 1, 17, 18,  2, 44],\n",
              "       [ 2, 14, 23,  2, 17],\n",
              "       [ 2, 24, 26,  2, 21],\n",
              "       [ 2,  9, 24,  2, 20],\n",
              "       [ 2, 12,  8,  2, 24],\n",
              "       [ 2,  9,  6,  2,  5],\n",
              "       [ 2, 22,  1,  2, 42],\n",
              "       [ 2,  7, 11,  2, 30],\n",
              "       [ 2, 10,  3,  2, 19],\n",
              "       [ 2, 23,  3,  2, 11],\n",
              "       [ 2, 17, 18,  2, 29],\n",
              "       [ 2, 16, 20,  2, 15],\n",
              "       [ 2,  3,  2,  2, 37],\n",
              "       [ 2, 19,  4,  2, 10],\n",
              "       [ 2, 23,  3,  2, 24],\n",
              "       [ 2,  3,  2,  2, 26],\n",
              "       [ 2, 10,  3,  2, 12],\n",
              "       [ 1, 18,  7,  2, 48],\n",
              "       [ 2, 22,  1,  2, 51],\n",
              "       [ 2,  2, 10,  2, 27]])"
            ]
          },
          "metadata": {},
          "execution_count": 175
        }
      ]
    },
    {
      "cell_type": "code",
      "source": [
        "y = data[y_varibale].values\n",
        "y"
      ],
      "metadata": {
        "colab": {
          "base_uri": "https://localhost:8080/"
        },
        "id": "1_RDR8J9WRcm",
        "outputId": "4d5d092d-b78f-40e7-c35d-119a09a4ae73"
      },
      "execution_count": 176,
      "outputs": [
        {
          "output_type": "execute_result",
          "data": {
            "text/plain": [
              "array([3, 3, 3, 3, 3, 3, 3, 3, 3, 3, 3, 3, 3, 3, 2, 2, 2, 2, 2, 2, 2, 2,\n",
              "       2, 2, 2, 2, 2, 2, 1, 1, 1, 1, 1, 1, 1, 1, 1, 1, 1, 3, 3, 3, 3, 3,\n",
              "       3, 3, 3, 3, 3, 3, 3, 3, 3, 2, 2, 2, 2, 2, 2, 2, 2, 2, 2, 2, 2, 2,\n",
              "       2, 1, 1, 1, 1, 1, 1, 1, 1, 1, 1, 1, 3, 3, 3, 3, 3, 3, 3, 3, 3, 3,\n",
              "       3, 3, 3, 3, 3, 3, 3, 2, 2, 2, 2, 2, 2, 2, 2, 2, 2, 2, 2, 1, 1, 1,\n",
              "       1, 1, 1, 1, 1, 1, 1, 1, 1, 1, 1, 3, 3, 3, 3, 3, 3, 3, 2, 2, 2, 2,\n",
              "       2, 2, 2, 2, 2, 2, 1, 1, 1, 1, 1, 1, 1, 1, 1, 1, 1, 1, 1])"
            ]
          },
          "metadata": {},
          "execution_count": 176
        }
      ]
    },
    {
      "cell_type": "markdown",
      "source": [
        "Data Pre-processing"
      ],
      "metadata": {
        "id": "-CkAMcpLWhrM"
      }
    },
    {
      "cell_type": "code",
      "source": [
        "def pre_processing(data):    \n",
        "    data['id'] = data.index+1\n",
        "\n",
        "    X_variables = ['English Speaking','Course instructor','Course','Semester','Class size']\n",
        "    \n",
        "    for x in list(set(X_variables) - set(data.columns)):\n",
        "        data[x] = 0\n",
        "        \n",
        "    return data[X_variables]"
      ],
      "metadata": {
        "id": "l3TMzcDGWUzM"
      },
      "execution_count": 177,
      "outputs": []
    },
    {
      "cell_type": "markdown",
      "source": [
        "Train Test Split"
      ],
      "metadata": {
        "id": "kAlBu6cWQ_0V"
      }
    },
    {
      "cell_type": "code",
      "source": [
        "X_train, X_test, y_train, y_test = train_test_split(X, y, test_size=0.3, random_state=42)\n",
        "\n",
        "print(F\"Train sample size = {len(X_train)}\")\n",
        "print(F\"Test sample size  = {len(X_test)}\")"
      ],
      "metadata": {
        "colab": {
          "base_uri": "https://localhost:8080/"
        },
        "id": "rmOmGLtaYpQj",
        "outputId": "f0f2ee25-100d-4e50-b8e8-5c57d7f2698e"
      },
      "execution_count": 178,
      "outputs": [
        {
          "output_type": "stream",
          "name": "stdout",
          "text": [
            "Train sample size = 105\n",
            "Test sample size  = 46\n"
          ]
        }
      ]
    },
    {
      "cell_type": "markdown",
      "source": [
        "Model Training Function"
      ],
      "metadata": {
        "id": "_zgcksnsYyvF"
      }
    },
    {
      "cell_type": "code",
      "source": [
        "def model_train(model, model_name, X_train, y_train, X_test, y_test):\n",
        "    model.fit(X_train, y_train)\n",
        "\n",
        "    y_pred = model.predict(X_test)\n",
        "    y_pred_prob = model.predict_proba(X_test)[:, 1]\n",
        "    test_result = pd.DataFrame(data={'y_act':y_test, 'y_pred':y_pred, 'y_pred_prob':y_pred_prob})\n",
        "\n",
        "    accuracy = metrics.accuracy_score(test_result['y_act'], test_result['y_pred']) \n",
        "    precision = metrics.precision_score(test_result['y_act'], test_result['y_pred'], average='weighted', pos_label=1)\n",
        "    f1_score = metrics.f1_score(test_result['y_act'], test_result['y_pred'], average='weighted') \n",
        "  \n",
        "    return ({'model_name':model_name, \n",
        "                   'model':model, \n",
        "                   'accuracy':accuracy, \n",
        "                   'precision':precision,\n",
        "                  'f1_score':f1_score,\n",
        "                  })"
      ],
      "metadata": {
        "id": "7B2YJYyJY3f6"
      },
      "execution_count": 179,
      "outputs": []
    },
    {
      "cell_type": "code",
      "source": [
        "model0 = model_train(RandomForestClassifier(n_estimators=500, max_depth=10, n_jobs=3, verbose=1), 'rf_new', X_train, y_train, X_test, y_test)"
      ],
      "metadata": {
        "colab": {
          "base_uri": "https://localhost:8080/"
        },
        "id": "j7UzhITRZZvd",
        "outputId": "1c812b61-ed84-47e5-fa2e-1aa8ee203ba1"
      },
      "execution_count": 180,
      "outputs": [
        {
          "output_type": "stream",
          "name": "stderr",
          "text": [
            "[Parallel(n_jobs=3)]: Using backend ThreadingBackend with 3 concurrent workers.\n",
            "[Parallel(n_jobs=3)]: Done  44 tasks      | elapsed:    0.1s\n",
            "[Parallel(n_jobs=3)]: Done 194 tasks      | elapsed:    0.3s\n",
            "[Parallel(n_jobs=3)]: Done 444 tasks      | elapsed:    0.7s\n",
            "[Parallel(n_jobs=3)]: Done 500 out of 500 | elapsed:    0.8s finished\n",
            "[Parallel(n_jobs=3)]: Using backend ThreadingBackend with 3 concurrent workers.\n",
            "[Parallel(n_jobs=3)]: Done  44 tasks      | elapsed:    0.0s\n",
            "[Parallel(n_jobs=3)]: Done 194 tasks      | elapsed:    0.1s\n",
            "[Parallel(n_jobs=3)]: Done 444 tasks      | elapsed:    0.1s\n",
            "[Parallel(n_jobs=3)]: Done 500 out of 500 | elapsed:    0.1s finished\n",
            "[Parallel(n_jobs=3)]: Using backend ThreadingBackend with 3 concurrent workers.\n",
            "[Parallel(n_jobs=3)]: Done  44 tasks      | elapsed:    0.0s\n",
            "[Parallel(n_jobs=3)]: Done 194 tasks      | elapsed:    0.1s\n",
            "[Parallel(n_jobs=3)]: Done 444 tasks      | elapsed:    0.1s\n",
            "[Parallel(n_jobs=3)]: Done 500 out of 500 | elapsed:    0.1s finished\n"
          ]
        }
      ]
    },
    {
      "cell_type": "code",
      "source": [
        "model0"
      ],
      "metadata": {
        "colab": {
          "base_uri": "https://localhost:8080/"
        },
        "id": "M69vTOc7dWmX",
        "outputId": "541d9b59-ee21-449a-8c1b-8a6e1bd616f1"
      },
      "execution_count": 181,
      "outputs": [
        {
          "output_type": "execute_result",
          "data": {
            "text/plain": [
              "{'accuracy': 0.717391304347826,\n",
              " 'f1_score': 0.7130434782608697,\n",
              " 'model': RandomForestClassifier(max_depth=10, n_estimators=500, n_jobs=3, verbose=1),\n",
              " 'model_name': 'rf_new',\n",
              " 'precision': 0.7462827028044419}"
            ]
          },
          "metadata": {},
          "execution_count": 181
        }
      ]
    },
    {
      "cell_type": "code",
      "source": [
        "models = []\n",
        "models.append(model_train(LogisticRegression(n_jobs=3, verbose=1), 'lgr1', X_train, y_train, X_test, y_test))\n",
        "models.append(model_train(RandomForestClassifier(n_estimators=100, max_depth=None, n_jobs=3, verbose=1), 'rf1', X_train, y_train, X_test, y_test))\n",
        "models.append(model_train(RandomForestClassifier(n_estimators=500, max_depth=None, n_jobs=3, verbose=1), 'rf2', X_train, y_train, X_test, y_test))\n",
        "models.append(model_train(RandomForestClassifier(n_estimators=500, max_depth=10, n_jobs=3, verbose=1), 'rf3', X_train, y_train, X_test, y_test))\n",
        "models.append(model_train(RandomForestClassifier(n_estimators=500, max_depth=20, n_jobs=3, verbose=1), 'rf4', X_train, y_train, X_test, y_test))\n",
        "models = pd.DataFrame(models)\n",
        "models"
      ],
      "metadata": {
        "colab": {
          "base_uri": "https://localhost:8080/",
          "height": 1000
        },
        "id": "-s3_Rb_BdhUL",
        "outputId": "c3ff5195-caf0-4933-fe8c-55c4add14494"
      },
      "execution_count": 182,
      "outputs": [
        {
          "output_type": "stream",
          "name": "stderr",
          "text": [
            "[Parallel(n_jobs=3)]: Using backend LokyBackend with 3 concurrent workers.\n",
            "[Parallel(n_jobs=3)]: Done   1 out of   1 | elapsed:    0.1s finished\n",
            "[Parallel(n_jobs=3)]: Using backend ThreadingBackend with 3 concurrent workers.\n",
            "[Parallel(n_jobs=3)]: Done  44 tasks      | elapsed:    0.1s\n",
            "[Parallel(n_jobs=3)]: Done 100 out of 100 | elapsed:    0.2s finished\n",
            "[Parallel(n_jobs=3)]: Using backend ThreadingBackend with 3 concurrent workers.\n",
            "[Parallel(n_jobs=3)]: Done  44 tasks      | elapsed:    0.0s\n",
            "[Parallel(n_jobs=3)]: Done 100 out of 100 | elapsed:    0.0s finished\n",
            "[Parallel(n_jobs=3)]: Using backend ThreadingBackend with 3 concurrent workers.\n",
            "[Parallel(n_jobs=3)]: Done  44 tasks      | elapsed:    0.0s\n",
            "[Parallel(n_jobs=3)]: Done 100 out of 100 | elapsed:    0.0s finished\n",
            "[Parallel(n_jobs=3)]: Using backend ThreadingBackend with 3 concurrent workers.\n",
            "[Parallel(n_jobs=3)]: Done  44 tasks      | elapsed:    0.1s\n",
            "[Parallel(n_jobs=3)]: Done 194 tasks      | elapsed:    0.3s\n",
            "[Parallel(n_jobs=3)]: Done 444 tasks      | elapsed:    0.8s\n",
            "[Parallel(n_jobs=3)]: Done 500 out of 500 | elapsed:    0.8s finished\n",
            "[Parallel(n_jobs=3)]: Using backend ThreadingBackend with 3 concurrent workers.\n",
            "[Parallel(n_jobs=3)]: Done  44 tasks      | elapsed:    0.0s\n",
            "[Parallel(n_jobs=3)]: Done 194 tasks      | elapsed:    0.0s\n",
            "[Parallel(n_jobs=3)]: Done 444 tasks      | elapsed:    0.1s\n",
            "[Parallel(n_jobs=3)]: Done 500 out of 500 | elapsed:    0.1s finished\n",
            "[Parallel(n_jobs=3)]: Using backend ThreadingBackend with 3 concurrent workers.\n",
            "[Parallel(n_jobs=3)]: Done  44 tasks      | elapsed:    0.0s\n",
            "[Parallel(n_jobs=3)]: Done 194 tasks      | elapsed:    0.1s\n",
            "[Parallel(n_jobs=3)]: Done 444 tasks      | elapsed:    0.1s\n",
            "[Parallel(n_jobs=3)]: Done 500 out of 500 | elapsed:    0.1s finished\n",
            "[Parallel(n_jobs=3)]: Using backend ThreadingBackend with 3 concurrent workers.\n",
            "[Parallel(n_jobs=3)]: Done  44 tasks      | elapsed:    0.1s\n",
            "[Parallel(n_jobs=3)]: Done 194 tasks      | elapsed:    0.3s\n",
            "[Parallel(n_jobs=3)]: Done 444 tasks      | elapsed:    0.7s\n",
            "[Parallel(n_jobs=3)]: Done 500 out of 500 | elapsed:    0.8s finished\n",
            "[Parallel(n_jobs=3)]: Using backend ThreadingBackend with 3 concurrent workers.\n",
            "[Parallel(n_jobs=3)]: Done  44 tasks      | elapsed:    0.0s\n",
            "[Parallel(n_jobs=3)]: Done 194 tasks      | elapsed:    0.0s\n",
            "[Parallel(n_jobs=3)]: Done 444 tasks      | elapsed:    0.1s\n",
            "[Parallel(n_jobs=3)]: Done 500 out of 500 | elapsed:    0.1s finished\n",
            "[Parallel(n_jobs=3)]: Using backend ThreadingBackend with 3 concurrent workers.\n",
            "[Parallel(n_jobs=3)]: Done  44 tasks      | elapsed:    0.0s\n",
            "[Parallel(n_jobs=3)]: Done 194 tasks      | elapsed:    0.1s\n",
            "[Parallel(n_jobs=3)]: Done 444 tasks      | elapsed:    0.1s\n",
            "[Parallel(n_jobs=3)]: Done 500 out of 500 | elapsed:    0.1s finished\n",
            "[Parallel(n_jobs=3)]: Using backend ThreadingBackend with 3 concurrent workers.\n",
            "[Parallel(n_jobs=3)]: Done  44 tasks      | elapsed:    0.1s\n",
            "[Parallel(n_jobs=3)]: Done 194 tasks      | elapsed:    0.3s\n",
            "[Parallel(n_jobs=3)]: Done 444 tasks      | elapsed:    0.7s\n",
            "[Parallel(n_jobs=3)]: Done 500 out of 500 | elapsed:    0.8s finished\n",
            "[Parallel(n_jobs=3)]: Using backend ThreadingBackend with 3 concurrent workers.\n",
            "[Parallel(n_jobs=3)]: Done  44 tasks      | elapsed:    0.0s\n",
            "[Parallel(n_jobs=3)]: Done 194 tasks      | elapsed:    0.0s\n",
            "[Parallel(n_jobs=3)]: Done 444 tasks      | elapsed:    0.1s\n",
            "[Parallel(n_jobs=3)]: Done 500 out of 500 | elapsed:    0.1s finished\n",
            "[Parallel(n_jobs=3)]: Using backend ThreadingBackend with 3 concurrent workers.\n",
            "[Parallel(n_jobs=3)]: Done  44 tasks      | elapsed:    0.0s\n",
            "[Parallel(n_jobs=3)]: Done 194 tasks      | elapsed:    0.1s\n",
            "[Parallel(n_jobs=3)]: Done 444 tasks      | elapsed:    0.1s\n",
            "[Parallel(n_jobs=3)]: Done 500 out of 500 | elapsed:    0.1s finished\n"
          ]
        },
        {
          "output_type": "execute_result",
          "data": {
            "text/plain": [
              "  model_name                                              model  accuracy  \\\n",
              "0       lgr1            LogisticRegression(n_jobs=3, verbose=1)  0.543478   \n",
              "1        rf1  (DecisionTreeClassifier(max_features='auto', r...  0.717391   \n",
              "2        rf2  (DecisionTreeClassifier(max_features='auto', r...  0.717391   \n",
              "3        rf3  (DecisionTreeClassifier(max_depth=10, max_feat...  0.717391   \n",
              "4        rf4  (DecisionTreeClassifier(max_depth=20, max_feat...  0.717391   \n",
              "\n",
              "   precision  f1_score  \n",
              "0   0.625000  0.529956  \n",
              "1   0.746283  0.713043  \n",
              "2   0.746283  0.713043  \n",
              "3   0.746283  0.713043  \n",
              "4   0.746283  0.713043  "
            ],
            "text/html": [
              "\n",
              "  <div id=\"df-530c3d64-bf95-407a-ba3b-edf0b559ce96\">\n",
              "    <div class=\"colab-df-container\">\n",
              "      <div>\n",
              "<style scoped>\n",
              "    .dataframe tbody tr th:only-of-type {\n",
              "        vertical-align: middle;\n",
              "    }\n",
              "\n",
              "    .dataframe tbody tr th {\n",
              "        vertical-align: top;\n",
              "    }\n",
              "\n",
              "    .dataframe thead th {\n",
              "        text-align: right;\n",
              "    }\n",
              "</style>\n",
              "<table border=\"1\" class=\"dataframe\">\n",
              "  <thead>\n",
              "    <tr style=\"text-align: right;\">\n",
              "      <th></th>\n",
              "      <th>model_name</th>\n",
              "      <th>model</th>\n",
              "      <th>accuracy</th>\n",
              "      <th>precision</th>\n",
              "      <th>f1_score</th>\n",
              "    </tr>\n",
              "  </thead>\n",
              "  <tbody>\n",
              "    <tr>\n",
              "      <th>0</th>\n",
              "      <td>lgr1</td>\n",
              "      <td>LogisticRegression(n_jobs=3, verbose=1)</td>\n",
              "      <td>0.543478</td>\n",
              "      <td>0.625000</td>\n",
              "      <td>0.529956</td>\n",
              "    </tr>\n",
              "    <tr>\n",
              "      <th>1</th>\n",
              "      <td>rf1</td>\n",
              "      <td>(DecisionTreeClassifier(max_features='auto', r...</td>\n",
              "      <td>0.717391</td>\n",
              "      <td>0.746283</td>\n",
              "      <td>0.713043</td>\n",
              "    </tr>\n",
              "    <tr>\n",
              "      <th>2</th>\n",
              "      <td>rf2</td>\n",
              "      <td>(DecisionTreeClassifier(max_features='auto', r...</td>\n",
              "      <td>0.717391</td>\n",
              "      <td>0.746283</td>\n",
              "      <td>0.713043</td>\n",
              "    </tr>\n",
              "    <tr>\n",
              "      <th>3</th>\n",
              "      <td>rf3</td>\n",
              "      <td>(DecisionTreeClassifier(max_depth=10, max_feat...</td>\n",
              "      <td>0.717391</td>\n",
              "      <td>0.746283</td>\n",
              "      <td>0.713043</td>\n",
              "    </tr>\n",
              "    <tr>\n",
              "      <th>4</th>\n",
              "      <td>rf4</td>\n",
              "      <td>(DecisionTreeClassifier(max_depth=20, max_feat...</td>\n",
              "      <td>0.717391</td>\n",
              "      <td>0.746283</td>\n",
              "      <td>0.713043</td>\n",
              "    </tr>\n",
              "  </tbody>\n",
              "</table>\n",
              "</div>\n",
              "      <button class=\"colab-df-convert\" onclick=\"convertToInteractive('df-530c3d64-bf95-407a-ba3b-edf0b559ce96')\"\n",
              "              title=\"Convert this dataframe to an interactive table.\"\n",
              "              style=\"display:none;\">\n",
              "        \n",
              "  <svg xmlns=\"http://www.w3.org/2000/svg\" height=\"24px\"viewBox=\"0 0 24 24\"\n",
              "       width=\"24px\">\n",
              "    <path d=\"M0 0h24v24H0V0z\" fill=\"none\"/>\n",
              "    <path d=\"M18.56 5.44l.94 2.06.94-2.06 2.06-.94-2.06-.94-.94-2.06-.94 2.06-2.06.94zm-11 1L8.5 8.5l.94-2.06 2.06-.94-2.06-.94L8.5 2.5l-.94 2.06-2.06.94zm10 10l.94 2.06.94-2.06 2.06-.94-2.06-.94-.94-2.06-.94 2.06-2.06.94z\"/><path d=\"M17.41 7.96l-1.37-1.37c-.4-.4-.92-.59-1.43-.59-.52 0-1.04.2-1.43.59L10.3 9.45l-7.72 7.72c-.78.78-.78 2.05 0 2.83L4 21.41c.39.39.9.59 1.41.59.51 0 1.02-.2 1.41-.59l7.78-7.78 2.81-2.81c.8-.78.8-2.07 0-2.86zM5.41 20L4 18.59l7.72-7.72 1.47 1.35L5.41 20z\"/>\n",
              "  </svg>\n",
              "      </button>\n",
              "      \n",
              "  <style>\n",
              "    .colab-df-container {\n",
              "      display:flex;\n",
              "      flex-wrap:wrap;\n",
              "      gap: 12px;\n",
              "    }\n",
              "\n",
              "    .colab-df-convert {\n",
              "      background-color: #E8F0FE;\n",
              "      border: none;\n",
              "      border-radius: 50%;\n",
              "      cursor: pointer;\n",
              "      display: none;\n",
              "      fill: #1967D2;\n",
              "      height: 32px;\n",
              "      padding: 0 0 0 0;\n",
              "      width: 32px;\n",
              "    }\n",
              "\n",
              "    .colab-df-convert:hover {\n",
              "      background-color: #E2EBFA;\n",
              "      box-shadow: 0px 1px 2px rgba(60, 64, 67, 0.3), 0px 1px 3px 1px rgba(60, 64, 67, 0.15);\n",
              "      fill: #174EA6;\n",
              "    }\n",
              "\n",
              "    [theme=dark] .colab-df-convert {\n",
              "      background-color: #3B4455;\n",
              "      fill: #D2E3FC;\n",
              "    }\n",
              "\n",
              "    [theme=dark] .colab-df-convert:hover {\n",
              "      background-color: #434B5C;\n",
              "      box-shadow: 0px 1px 3px 1px rgba(0, 0, 0, 0.15);\n",
              "      filter: drop-shadow(0px 1px 2px rgba(0, 0, 0, 0.3));\n",
              "      fill: #FFFFFF;\n",
              "    }\n",
              "  </style>\n",
              "\n",
              "      <script>\n",
              "        const buttonEl =\n",
              "          document.querySelector('#df-530c3d64-bf95-407a-ba3b-edf0b559ce96 button.colab-df-convert');\n",
              "        buttonEl.style.display =\n",
              "          google.colab.kernel.accessAllowed ? 'block' : 'none';\n",
              "\n",
              "        async function convertToInteractive(key) {\n",
              "          const element = document.querySelector('#df-530c3d64-bf95-407a-ba3b-edf0b559ce96');\n",
              "          const dataTable =\n",
              "            await google.colab.kernel.invokeFunction('convertToInteractive',\n",
              "                                                     [key], {});\n",
              "          if (!dataTable) return;\n",
              "\n",
              "          const docLinkHtml = 'Like what you see? Visit the ' +\n",
              "            '<a target=\"_blank\" href=https://colab.research.google.com/notebooks/data_table.ipynb>data table notebook</a>'\n",
              "            + ' to learn more about interactive tables.';\n",
              "          element.innerHTML = '';\n",
              "          dataTable['output_type'] = 'display_data';\n",
              "          await google.colab.output.renderOutput(dataTable, element);\n",
              "          const docLink = document.createElement('div');\n",
              "          docLink.innerHTML = docLinkHtml;\n",
              "          element.appendChild(docLink);\n",
              "        }\n",
              "      </script>\n",
              "    </div>\n",
              "  </div>\n",
              "  "
            ]
          },
          "metadata": {},
          "execution_count": 182
        }
      ]
    },
    {
      "cell_type": "code",
      "source": [
        "from sklearn.model_selection import GridSearchCV\n",
        "\n",
        "parameters = {'n_estimators': [100,500], 'max_depth': [None, 10, 20]}\n",
        "gs_model = GridSearchCV(RandomForestClassifier(), parameters, n_jobs=2, verbose=3, pre_dispatch=2)\n",
        "gs_model.fit(X_train, y_train) "
      ],
      "metadata": {
        "colab": {
          "base_uri": "https://localhost:8080/"
        },
        "id": "lsCbkTlRdyS7",
        "outputId": "dd16faa0-c4ee-4664-fa05-0ea2a36b3d45"
      },
      "execution_count": 183,
      "outputs": [
        {
          "output_type": "stream",
          "name": "stdout",
          "text": [
            "Fitting 5 folds for each of 6 candidates, totalling 30 fits\n"
          ]
        },
        {
          "output_type": "execute_result",
          "data": {
            "text/plain": [
              "GridSearchCV(estimator=RandomForestClassifier(), n_jobs=2,\n",
              "             param_grid={'max_depth': [None, 10, 20],\n",
              "                         'n_estimators': [100, 500]},\n",
              "             pre_dispatch=2, verbose=3)"
            ]
          },
          "metadata": {},
          "execution_count": 183
        }
      ]
    },
    {
      "cell_type": "code",
      "source": [
        "print(gs_model.best_params_) "
      ],
      "metadata": {
        "colab": {
          "base_uri": "https://localhost:8080/"
        },
        "id": "kXcP280reGTR",
        "outputId": "aa9f09e7-9208-4031-d18a-2c2ae58376f5"
      },
      "execution_count": 184,
      "outputs": [
        {
          "output_type": "stream",
          "name": "stdout",
          "text": [
            "{'max_depth': None, 'n_estimators': 500}\n"
          ]
        }
      ]
    },
    {
      "cell_type": "code",
      "source": [
        "from sklearn.metrics import classification_report, confusion_matrix \n",
        "\n",
        "y_pred = gs_model.predict(X_test) \n",
        "\n",
        "print(classification_report(y_test, y_pred)) \n",
        "print(confusion_matrix(y_test, y_pred)) "
      ],
      "metadata": {
        "colab": {
          "base_uri": "https://localhost:8080/"
        },
        "id": "T9-MM5lfeWCF",
        "outputId": "840f57a8-8d84-4766-e2ca-ba301463519d"
      },
      "execution_count": 185,
      "outputs": [
        {
          "output_type": "stream",
          "name": "stdout",
          "text": [
            "              precision    recall  f1-score   support\n",
            "\n",
            "           1       0.60      0.86      0.71        14\n",
            "           2       0.75      0.56      0.64        16\n",
            "           3       0.79      0.69      0.73        16\n",
            "\n",
            "    accuracy                           0.70        46\n",
            "   macro avg       0.71      0.70      0.69        46\n",
            "weighted avg       0.72      0.70      0.69        46\n",
            "\n",
            "[[12  1  1]\n",
            " [ 5  9  2]\n",
            " [ 3  2 11]]\n"
          ]
        }
      ]
    },
    {
      "cell_type": "code",
      "source": [
        "model = models.query(\"model_name=='rf2'\")\n",
        "model "
      ],
      "metadata": {
        "colab": {
          "base_uri": "https://localhost:8080/",
          "height": 81
        },
        "id": "KrNp5WpvfpDN",
        "outputId": "9a62e926-baa1-4452-ec2d-c09b1582fa4e"
      },
      "execution_count": 186,
      "outputs": [
        {
          "output_type": "execute_result",
          "data": {
            "text/plain": [
              "  model_name                                              model  accuracy  \\\n",
              "2        rf2  (DecisionTreeClassifier(max_features='auto', r...  0.717391   \n",
              "\n",
              "   precision  f1_score  \n",
              "2   0.746283  0.713043  "
            ],
            "text/html": [
              "\n",
              "  <div id=\"df-9e2c9733-5a4d-44ef-a137-42d0c2b6dd96\">\n",
              "    <div class=\"colab-df-container\">\n",
              "      <div>\n",
              "<style scoped>\n",
              "    .dataframe tbody tr th:only-of-type {\n",
              "        vertical-align: middle;\n",
              "    }\n",
              "\n",
              "    .dataframe tbody tr th {\n",
              "        vertical-align: top;\n",
              "    }\n",
              "\n",
              "    .dataframe thead th {\n",
              "        text-align: right;\n",
              "    }\n",
              "</style>\n",
              "<table border=\"1\" class=\"dataframe\">\n",
              "  <thead>\n",
              "    <tr style=\"text-align: right;\">\n",
              "      <th></th>\n",
              "      <th>model_name</th>\n",
              "      <th>model</th>\n",
              "      <th>accuracy</th>\n",
              "      <th>precision</th>\n",
              "      <th>f1_score</th>\n",
              "    </tr>\n",
              "  </thead>\n",
              "  <tbody>\n",
              "    <tr>\n",
              "      <th>2</th>\n",
              "      <td>rf2</td>\n",
              "      <td>(DecisionTreeClassifier(max_features='auto', r...</td>\n",
              "      <td>0.717391</td>\n",
              "      <td>0.746283</td>\n",
              "      <td>0.713043</td>\n",
              "    </tr>\n",
              "  </tbody>\n",
              "</table>\n",
              "</div>\n",
              "      <button class=\"colab-df-convert\" onclick=\"convertToInteractive('df-9e2c9733-5a4d-44ef-a137-42d0c2b6dd96')\"\n",
              "              title=\"Convert this dataframe to an interactive table.\"\n",
              "              style=\"display:none;\">\n",
              "        \n",
              "  <svg xmlns=\"http://www.w3.org/2000/svg\" height=\"24px\"viewBox=\"0 0 24 24\"\n",
              "       width=\"24px\">\n",
              "    <path d=\"M0 0h24v24H0V0z\" fill=\"none\"/>\n",
              "    <path d=\"M18.56 5.44l.94 2.06.94-2.06 2.06-.94-2.06-.94-.94-2.06-.94 2.06-2.06.94zm-11 1L8.5 8.5l.94-2.06 2.06-.94-2.06-.94L8.5 2.5l-.94 2.06-2.06.94zm10 10l.94 2.06.94-2.06 2.06-.94-2.06-.94-.94-2.06-.94 2.06-2.06.94z\"/><path d=\"M17.41 7.96l-1.37-1.37c-.4-.4-.92-.59-1.43-.59-.52 0-1.04.2-1.43.59L10.3 9.45l-7.72 7.72c-.78.78-.78 2.05 0 2.83L4 21.41c.39.39.9.59 1.41.59.51 0 1.02-.2 1.41-.59l7.78-7.78 2.81-2.81c.8-.78.8-2.07 0-2.86zM5.41 20L4 18.59l7.72-7.72 1.47 1.35L5.41 20z\"/>\n",
              "  </svg>\n",
              "      </button>\n",
              "      \n",
              "  <style>\n",
              "    .colab-df-container {\n",
              "      display:flex;\n",
              "      flex-wrap:wrap;\n",
              "      gap: 12px;\n",
              "    }\n",
              "\n",
              "    .colab-df-convert {\n",
              "      background-color: #E8F0FE;\n",
              "      border: none;\n",
              "      border-radius: 50%;\n",
              "      cursor: pointer;\n",
              "      display: none;\n",
              "      fill: #1967D2;\n",
              "      height: 32px;\n",
              "      padding: 0 0 0 0;\n",
              "      width: 32px;\n",
              "    }\n",
              "\n",
              "    .colab-df-convert:hover {\n",
              "      background-color: #E2EBFA;\n",
              "      box-shadow: 0px 1px 2px rgba(60, 64, 67, 0.3), 0px 1px 3px 1px rgba(60, 64, 67, 0.15);\n",
              "      fill: #174EA6;\n",
              "    }\n",
              "\n",
              "    [theme=dark] .colab-df-convert {\n",
              "      background-color: #3B4455;\n",
              "      fill: #D2E3FC;\n",
              "    }\n",
              "\n",
              "    [theme=dark] .colab-df-convert:hover {\n",
              "      background-color: #434B5C;\n",
              "      box-shadow: 0px 1px 3px 1px rgba(0, 0, 0, 0.15);\n",
              "      filter: drop-shadow(0px 1px 2px rgba(0, 0, 0, 0.3));\n",
              "      fill: #FFFFFF;\n",
              "    }\n",
              "  </style>\n",
              "\n",
              "      <script>\n",
              "        const buttonEl =\n",
              "          document.querySelector('#df-9e2c9733-5a4d-44ef-a137-42d0c2b6dd96 button.colab-df-convert');\n",
              "        buttonEl.style.display =\n",
              "          google.colab.kernel.accessAllowed ? 'block' : 'none';\n",
              "\n",
              "        async function convertToInteractive(key) {\n",
              "          const element = document.querySelector('#df-9e2c9733-5a4d-44ef-a137-42d0c2b6dd96');\n",
              "          const dataTable =\n",
              "            await google.colab.kernel.invokeFunction('convertToInteractive',\n",
              "                                                     [key], {});\n",
              "          if (!dataTable) return;\n",
              "\n",
              "          const docLinkHtml = 'Like what you see? Visit the ' +\n",
              "            '<a target=\"_blank\" href=https://colab.research.google.com/notebooks/data_table.ipynb>data table notebook</a>'\n",
              "            + ' to learn more about interactive tables.';\n",
              "          element.innerHTML = '';\n",
              "          dataTable['output_type'] = 'display_data';\n",
              "          await google.colab.output.renderOutput(dataTable, element);\n",
              "          const docLink = document.createElement('div');\n",
              "          docLink.innerHTML = docLinkHtml;\n",
              "          element.appendChild(docLink);\n",
              "        }\n",
              "      </script>\n",
              "    </div>\n",
              "  </div>\n",
              "  "
            ]
          },
          "metadata": {},
          "execution_count": 186
        }
      ]
    },
    {
      "cell_type": "code",
      "source": [
        "model = model['model'].values[0]\n",
        "model"
      ],
      "metadata": {
        "colab": {
          "base_uri": "https://localhost:8080/"
        },
        "id": "BXgl6WCGfw6X",
        "outputId": "4393d2cb-3af7-411f-cecb-998b4c8c33fa"
      },
      "execution_count": 187,
      "outputs": [
        {
          "output_type": "execute_result",
          "data": {
            "text/plain": [
              "RandomForestClassifier(n_estimators=500, n_jobs=3, verbose=1)"
            ]
          },
          "metadata": {},
          "execution_count": 187
        }
      ]
    },
    {
      "cell_type": "markdown",
      "source": [
        "Saving Best Model"
      ],
      "metadata": {
        "id": "t9FlX27vR8V3"
      }
    },
    {
      "cell_type": "code",
      "source": [
        "import pickle\n",
        "\n",
        "save_file = 'model_rf2_test.pickle'\n",
        "pickle.dump(model, open(save_file, 'wb'))"
      ],
      "metadata": {
        "id": "5WmOiHkCf37p"
      },
      "execution_count": 188,
      "outputs": []
    },
    {
      "cell_type": "code",
      "source": [
        "model_ = pickle.load(open(save_file, 'rb'))\n",
        "model_"
      ],
      "metadata": {
        "colab": {
          "base_uri": "https://localhost:8080/"
        },
        "id": "swmXGKbKgBoc",
        "outputId": "b5e1404f-0920-4f5c-9edf-ae831acf02a7"
      },
      "execution_count": 189,
      "outputs": [
        {
          "output_type": "execute_result",
          "data": {
            "text/plain": [
              "RandomForestClassifier(n_estimators=500, n_jobs=3, verbose=1)"
            ]
          },
          "metadata": {},
          "execution_count": 189
        }
      ]
    },
    {
      "cell_type": "code",
      "source": [
        "import joblib\n",
        "\n",
        "save_file = 'model_rf2_test.joblib'\n",
        "joblib.dump(model, open(save_file, 'wb'))"
      ],
      "metadata": {
        "id": "ySu_7TXdgGLy"
      },
      "execution_count": 190,
      "outputs": []
    },
    {
      "cell_type": "code",
      "source": [
        "model_ = joblib.load(save_file)\n",
        "model_"
      ],
      "metadata": {
        "colab": {
          "base_uri": "https://localhost:8080/"
        },
        "id": "rrs0zZm-gMKk",
        "outputId": "5339ca88-34fb-499d-d0db-4cefcda66e77"
      },
      "execution_count": 191,
      "outputs": [
        {
          "output_type": "execute_result",
          "data": {
            "text/plain": [
              "RandomForestClassifier(n_estimators=500, n_jobs=3, verbose=1)"
            ]
          },
          "metadata": {},
          "execution_count": 191
        }
      ]
    },
    {
      "cell_type": "markdown",
      "source": [
        "Predict on a Sample Data"
      ],
      "metadata": {
        "id": "cgrM1ClySGdo"
      }
    },
    {
      "cell_type": "code",
      "source": [
        "sample_input = data[['English Speaking','Course instructor','Course','Semester','Class size']].sample(10)\n",
        "sample_input"
      ],
      "metadata": {
        "colab": {
          "base_uri": "https://localhost:8080/",
          "height": 363
        },
        "id": "a5Ck3eNmgjnn",
        "outputId": "6cff98b0-ef35-456d-aa06-cb51abd9cf44"
      },
      "execution_count": 192,
      "outputs": [
        {
          "output_type": "execute_result",
          "data": {
            "text/plain": [
              "     English Speaking  Course instructor  Course  Semester  Class size\n",
              "91                  2                  9       5         2          24\n",
              "69                  2                 11       1         2          51\n",
              "10                  2                 10      22         2           9\n",
              "137                 2                 22       1         2          42\n",
              "35                  2                 16       8         2          36\n",
              "5                   2                 23       3         1          20\n",
              "92                  2                 18      25         2          25\n",
              "135                 2                 12       8         2          24\n",
              "58                  2                  7      25         2          42\n",
              "100                 1                  6      17         2          35"
            ],
            "text/html": [
              "\n",
              "  <div id=\"df-da1a3356-3634-48aa-b24e-0e576dc29fc0\">\n",
              "    <div class=\"colab-df-container\">\n",
              "      <div>\n",
              "<style scoped>\n",
              "    .dataframe tbody tr th:only-of-type {\n",
              "        vertical-align: middle;\n",
              "    }\n",
              "\n",
              "    .dataframe tbody tr th {\n",
              "        vertical-align: top;\n",
              "    }\n",
              "\n",
              "    .dataframe thead th {\n",
              "        text-align: right;\n",
              "    }\n",
              "</style>\n",
              "<table border=\"1\" class=\"dataframe\">\n",
              "  <thead>\n",
              "    <tr style=\"text-align: right;\">\n",
              "      <th></th>\n",
              "      <th>English Speaking</th>\n",
              "      <th>Course instructor</th>\n",
              "      <th>Course</th>\n",
              "      <th>Semester</th>\n",
              "      <th>Class size</th>\n",
              "    </tr>\n",
              "  </thead>\n",
              "  <tbody>\n",
              "    <tr>\n",
              "      <th>91</th>\n",
              "      <td>2</td>\n",
              "      <td>9</td>\n",
              "      <td>5</td>\n",
              "      <td>2</td>\n",
              "      <td>24</td>\n",
              "    </tr>\n",
              "    <tr>\n",
              "      <th>69</th>\n",
              "      <td>2</td>\n",
              "      <td>11</td>\n",
              "      <td>1</td>\n",
              "      <td>2</td>\n",
              "      <td>51</td>\n",
              "    </tr>\n",
              "    <tr>\n",
              "      <th>10</th>\n",
              "      <td>2</td>\n",
              "      <td>10</td>\n",
              "      <td>22</td>\n",
              "      <td>2</td>\n",
              "      <td>9</td>\n",
              "    </tr>\n",
              "    <tr>\n",
              "      <th>137</th>\n",
              "      <td>2</td>\n",
              "      <td>22</td>\n",
              "      <td>1</td>\n",
              "      <td>2</td>\n",
              "      <td>42</td>\n",
              "    </tr>\n",
              "    <tr>\n",
              "      <th>35</th>\n",
              "      <td>2</td>\n",
              "      <td>16</td>\n",
              "      <td>8</td>\n",
              "      <td>2</td>\n",
              "      <td>36</td>\n",
              "    </tr>\n",
              "    <tr>\n",
              "      <th>5</th>\n",
              "      <td>2</td>\n",
              "      <td>23</td>\n",
              "      <td>3</td>\n",
              "      <td>1</td>\n",
              "      <td>20</td>\n",
              "    </tr>\n",
              "    <tr>\n",
              "      <th>92</th>\n",
              "      <td>2</td>\n",
              "      <td>18</td>\n",
              "      <td>25</td>\n",
              "      <td>2</td>\n",
              "      <td>25</td>\n",
              "    </tr>\n",
              "    <tr>\n",
              "      <th>135</th>\n",
              "      <td>2</td>\n",
              "      <td>12</td>\n",
              "      <td>8</td>\n",
              "      <td>2</td>\n",
              "      <td>24</td>\n",
              "    </tr>\n",
              "    <tr>\n",
              "      <th>58</th>\n",
              "      <td>2</td>\n",
              "      <td>7</td>\n",
              "      <td>25</td>\n",
              "      <td>2</td>\n",
              "      <td>42</td>\n",
              "    </tr>\n",
              "    <tr>\n",
              "      <th>100</th>\n",
              "      <td>1</td>\n",
              "      <td>6</td>\n",
              "      <td>17</td>\n",
              "      <td>2</td>\n",
              "      <td>35</td>\n",
              "    </tr>\n",
              "  </tbody>\n",
              "</table>\n",
              "</div>\n",
              "      <button class=\"colab-df-convert\" onclick=\"convertToInteractive('df-da1a3356-3634-48aa-b24e-0e576dc29fc0')\"\n",
              "              title=\"Convert this dataframe to an interactive table.\"\n",
              "              style=\"display:none;\">\n",
              "        \n",
              "  <svg xmlns=\"http://www.w3.org/2000/svg\" height=\"24px\"viewBox=\"0 0 24 24\"\n",
              "       width=\"24px\">\n",
              "    <path d=\"M0 0h24v24H0V0z\" fill=\"none\"/>\n",
              "    <path d=\"M18.56 5.44l.94 2.06.94-2.06 2.06-.94-2.06-.94-.94-2.06-.94 2.06-2.06.94zm-11 1L8.5 8.5l.94-2.06 2.06-.94-2.06-.94L8.5 2.5l-.94 2.06-2.06.94zm10 10l.94 2.06.94-2.06 2.06-.94-2.06-.94-.94-2.06-.94 2.06-2.06.94z\"/><path d=\"M17.41 7.96l-1.37-1.37c-.4-.4-.92-.59-1.43-.59-.52 0-1.04.2-1.43.59L10.3 9.45l-7.72 7.72c-.78.78-.78 2.05 0 2.83L4 21.41c.39.39.9.59 1.41.59.51 0 1.02-.2 1.41-.59l7.78-7.78 2.81-2.81c.8-.78.8-2.07 0-2.86zM5.41 20L4 18.59l7.72-7.72 1.47 1.35L5.41 20z\"/>\n",
              "  </svg>\n",
              "      </button>\n",
              "      \n",
              "  <style>\n",
              "    .colab-df-container {\n",
              "      display:flex;\n",
              "      flex-wrap:wrap;\n",
              "      gap: 12px;\n",
              "    }\n",
              "\n",
              "    .colab-df-convert {\n",
              "      background-color: #E8F0FE;\n",
              "      border: none;\n",
              "      border-radius: 50%;\n",
              "      cursor: pointer;\n",
              "      display: none;\n",
              "      fill: #1967D2;\n",
              "      height: 32px;\n",
              "      padding: 0 0 0 0;\n",
              "      width: 32px;\n",
              "    }\n",
              "\n",
              "    .colab-df-convert:hover {\n",
              "      background-color: #E2EBFA;\n",
              "      box-shadow: 0px 1px 2px rgba(60, 64, 67, 0.3), 0px 1px 3px 1px rgba(60, 64, 67, 0.15);\n",
              "      fill: #174EA6;\n",
              "    }\n",
              "\n",
              "    [theme=dark] .colab-df-convert {\n",
              "      background-color: #3B4455;\n",
              "      fill: #D2E3FC;\n",
              "    }\n",
              "\n",
              "    [theme=dark] .colab-df-convert:hover {\n",
              "      background-color: #434B5C;\n",
              "      box-shadow: 0px 1px 3px 1px rgba(0, 0, 0, 0.15);\n",
              "      filter: drop-shadow(0px 1px 2px rgba(0, 0, 0, 0.3));\n",
              "      fill: #FFFFFF;\n",
              "    }\n",
              "  </style>\n",
              "\n",
              "      <script>\n",
              "        const buttonEl =\n",
              "          document.querySelector('#df-da1a3356-3634-48aa-b24e-0e576dc29fc0 button.colab-df-convert');\n",
              "        buttonEl.style.display =\n",
              "          google.colab.kernel.accessAllowed ? 'block' : 'none';\n",
              "\n",
              "        async function convertToInteractive(key) {\n",
              "          const element = document.querySelector('#df-da1a3356-3634-48aa-b24e-0e576dc29fc0');\n",
              "          const dataTable =\n",
              "            await google.colab.kernel.invokeFunction('convertToInteractive',\n",
              "                                                     [key], {});\n",
              "          if (!dataTable) return;\n",
              "\n",
              "          const docLinkHtml = 'Like what you see? Visit the ' +\n",
              "            '<a target=\"_blank\" href=https://colab.research.google.com/notebooks/data_table.ipynb>data table notebook</a>'\n",
              "            + ' to learn more about interactive tables.';\n",
              "          element.innerHTML = '';\n",
              "          dataTable['output_type'] = 'display_data';\n",
              "          await google.colab.output.renderOutput(dataTable, element);\n",
              "          const docLink = document.createElement('div');\n",
              "          docLink.innerHTML = docLinkHtml;\n",
              "          element.appendChild(docLink);\n",
              "        }\n",
              "      </script>\n",
              "    </div>\n",
              "  </div>\n",
              "  "
            ]
          },
          "metadata": {},
          "execution_count": 192
        }
      ]
    },
    {
      "cell_type": "code",
      "source": [
        "pre_processing(sample_input)"
      ],
      "metadata": {
        "colab": {
          "base_uri": "https://localhost:8080/",
          "height": 363
        },
        "id": "9jOfbkicgwU-",
        "outputId": "12a293a1-f929-4a73-ad2f-f01f4ab95a48"
      },
      "execution_count": 193,
      "outputs": [
        {
          "output_type": "execute_result",
          "data": {
            "text/plain": [
              "     English Speaking  Course instructor  Course  Semester  Class size\n",
              "91                  2                  9       5         2          24\n",
              "69                  2                 11       1         2          51\n",
              "10                  2                 10      22         2           9\n",
              "137                 2                 22       1         2          42\n",
              "35                  2                 16       8         2          36\n",
              "5                   2                 23       3         1          20\n",
              "92                  2                 18      25         2          25\n",
              "135                 2                 12       8         2          24\n",
              "58                  2                  7      25         2          42\n",
              "100                 1                  6      17         2          35"
            ],
            "text/html": [
              "\n",
              "  <div id=\"df-8142b92a-7ab7-4496-a0e6-214f773025e5\">\n",
              "    <div class=\"colab-df-container\">\n",
              "      <div>\n",
              "<style scoped>\n",
              "    .dataframe tbody tr th:only-of-type {\n",
              "        vertical-align: middle;\n",
              "    }\n",
              "\n",
              "    .dataframe tbody tr th {\n",
              "        vertical-align: top;\n",
              "    }\n",
              "\n",
              "    .dataframe thead th {\n",
              "        text-align: right;\n",
              "    }\n",
              "</style>\n",
              "<table border=\"1\" class=\"dataframe\">\n",
              "  <thead>\n",
              "    <tr style=\"text-align: right;\">\n",
              "      <th></th>\n",
              "      <th>English Speaking</th>\n",
              "      <th>Course instructor</th>\n",
              "      <th>Course</th>\n",
              "      <th>Semester</th>\n",
              "      <th>Class size</th>\n",
              "    </tr>\n",
              "  </thead>\n",
              "  <tbody>\n",
              "    <tr>\n",
              "      <th>91</th>\n",
              "      <td>2</td>\n",
              "      <td>9</td>\n",
              "      <td>5</td>\n",
              "      <td>2</td>\n",
              "      <td>24</td>\n",
              "    </tr>\n",
              "    <tr>\n",
              "      <th>69</th>\n",
              "      <td>2</td>\n",
              "      <td>11</td>\n",
              "      <td>1</td>\n",
              "      <td>2</td>\n",
              "      <td>51</td>\n",
              "    </tr>\n",
              "    <tr>\n",
              "      <th>10</th>\n",
              "      <td>2</td>\n",
              "      <td>10</td>\n",
              "      <td>22</td>\n",
              "      <td>2</td>\n",
              "      <td>9</td>\n",
              "    </tr>\n",
              "    <tr>\n",
              "      <th>137</th>\n",
              "      <td>2</td>\n",
              "      <td>22</td>\n",
              "      <td>1</td>\n",
              "      <td>2</td>\n",
              "      <td>42</td>\n",
              "    </tr>\n",
              "    <tr>\n",
              "      <th>35</th>\n",
              "      <td>2</td>\n",
              "      <td>16</td>\n",
              "      <td>8</td>\n",
              "      <td>2</td>\n",
              "      <td>36</td>\n",
              "    </tr>\n",
              "    <tr>\n",
              "      <th>5</th>\n",
              "      <td>2</td>\n",
              "      <td>23</td>\n",
              "      <td>3</td>\n",
              "      <td>1</td>\n",
              "      <td>20</td>\n",
              "    </tr>\n",
              "    <tr>\n",
              "      <th>92</th>\n",
              "      <td>2</td>\n",
              "      <td>18</td>\n",
              "      <td>25</td>\n",
              "      <td>2</td>\n",
              "      <td>25</td>\n",
              "    </tr>\n",
              "    <tr>\n",
              "      <th>135</th>\n",
              "      <td>2</td>\n",
              "      <td>12</td>\n",
              "      <td>8</td>\n",
              "      <td>2</td>\n",
              "      <td>24</td>\n",
              "    </tr>\n",
              "    <tr>\n",
              "      <th>58</th>\n",
              "      <td>2</td>\n",
              "      <td>7</td>\n",
              "      <td>25</td>\n",
              "      <td>2</td>\n",
              "      <td>42</td>\n",
              "    </tr>\n",
              "    <tr>\n",
              "      <th>100</th>\n",
              "      <td>1</td>\n",
              "      <td>6</td>\n",
              "      <td>17</td>\n",
              "      <td>2</td>\n",
              "      <td>35</td>\n",
              "    </tr>\n",
              "  </tbody>\n",
              "</table>\n",
              "</div>\n",
              "      <button class=\"colab-df-convert\" onclick=\"convertToInteractive('df-8142b92a-7ab7-4496-a0e6-214f773025e5')\"\n",
              "              title=\"Convert this dataframe to an interactive table.\"\n",
              "              style=\"display:none;\">\n",
              "        \n",
              "  <svg xmlns=\"http://www.w3.org/2000/svg\" height=\"24px\"viewBox=\"0 0 24 24\"\n",
              "       width=\"24px\">\n",
              "    <path d=\"M0 0h24v24H0V0z\" fill=\"none\"/>\n",
              "    <path d=\"M18.56 5.44l.94 2.06.94-2.06 2.06-.94-2.06-.94-.94-2.06-.94 2.06-2.06.94zm-11 1L8.5 8.5l.94-2.06 2.06-.94-2.06-.94L8.5 2.5l-.94 2.06-2.06.94zm10 10l.94 2.06.94-2.06 2.06-.94-2.06-.94-.94-2.06-.94 2.06-2.06.94z\"/><path d=\"M17.41 7.96l-1.37-1.37c-.4-.4-.92-.59-1.43-.59-.52 0-1.04.2-1.43.59L10.3 9.45l-7.72 7.72c-.78.78-.78 2.05 0 2.83L4 21.41c.39.39.9.59 1.41.59.51 0 1.02-.2 1.41-.59l7.78-7.78 2.81-2.81c.8-.78.8-2.07 0-2.86zM5.41 20L4 18.59l7.72-7.72 1.47 1.35L5.41 20z\"/>\n",
              "  </svg>\n",
              "      </button>\n",
              "      \n",
              "  <style>\n",
              "    .colab-df-container {\n",
              "      display:flex;\n",
              "      flex-wrap:wrap;\n",
              "      gap: 12px;\n",
              "    }\n",
              "\n",
              "    .colab-df-convert {\n",
              "      background-color: #E8F0FE;\n",
              "      border: none;\n",
              "      border-radius: 50%;\n",
              "      cursor: pointer;\n",
              "      display: none;\n",
              "      fill: #1967D2;\n",
              "      height: 32px;\n",
              "      padding: 0 0 0 0;\n",
              "      width: 32px;\n",
              "    }\n",
              "\n",
              "    .colab-df-convert:hover {\n",
              "      background-color: #E2EBFA;\n",
              "      box-shadow: 0px 1px 2px rgba(60, 64, 67, 0.3), 0px 1px 3px 1px rgba(60, 64, 67, 0.15);\n",
              "      fill: #174EA6;\n",
              "    }\n",
              "\n",
              "    [theme=dark] .colab-df-convert {\n",
              "      background-color: #3B4455;\n",
              "      fill: #D2E3FC;\n",
              "    }\n",
              "\n",
              "    [theme=dark] .colab-df-convert:hover {\n",
              "      background-color: #434B5C;\n",
              "      box-shadow: 0px 1px 3px 1px rgba(0, 0, 0, 0.15);\n",
              "      filter: drop-shadow(0px 1px 2px rgba(0, 0, 0, 0.3));\n",
              "      fill: #FFFFFF;\n",
              "    }\n",
              "  </style>\n",
              "\n",
              "      <script>\n",
              "        const buttonEl =\n",
              "          document.querySelector('#df-8142b92a-7ab7-4496-a0e6-214f773025e5 button.colab-df-convert');\n",
              "        buttonEl.style.display =\n",
              "          google.colab.kernel.accessAllowed ? 'block' : 'none';\n",
              "\n",
              "        async function convertToInteractive(key) {\n",
              "          const element = document.querySelector('#df-8142b92a-7ab7-4496-a0e6-214f773025e5');\n",
              "          const dataTable =\n",
              "            await google.colab.kernel.invokeFunction('convertToInteractive',\n",
              "                                                     [key], {});\n",
              "          if (!dataTable) return;\n",
              "\n",
              "          const docLinkHtml = 'Like what you see? Visit the ' +\n",
              "            '<a target=\"_blank\" href=https://colab.research.google.com/notebooks/data_table.ipynb>data table notebook</a>'\n",
              "            + ' to learn more about interactive tables.';\n",
              "          element.innerHTML = '';\n",
              "          dataTable['output_type'] = 'display_data';\n",
              "          await google.colab.output.renderOutput(dataTable, element);\n",
              "          const docLink = document.createElement('div');\n",
              "          docLink.innerHTML = docLinkHtml;\n",
              "          element.appendChild(docLink);\n",
              "        }\n",
              "      </script>\n",
              "    </div>\n",
              "  </div>\n",
              "  "
            ]
          },
          "metadata": {},
          "execution_count": 193
        }
      ]
    },
    {
      "cell_type": "code",
      "source": [
        "model.predict_proba(pre_processing(sample_input))"
      ],
      "metadata": {
        "colab": {
          "base_uri": "https://localhost:8080/"
        },
        "id": "KR2Xaa9Eg8G2",
        "outputId": "bea1fab2-a519-4ee4-8247-9a61f05b6f88"
      },
      "execution_count": 194,
      "outputs": [
        {
          "output_type": "stream",
          "name": "stderr",
          "text": [
            "/usr/local/lib/python3.7/dist-packages/sklearn/base.py:444: UserWarning: X has feature names, but RandomForestClassifier was fitted without feature names\n",
            "  f\"X has feature names, but {self.__class__.__name__} was fitted without\"\n",
            "[Parallel(n_jobs=3)]: Using backend ThreadingBackend with 3 concurrent workers.\n",
            "[Parallel(n_jobs=3)]: Done  44 tasks      | elapsed:    0.0s\n",
            "[Parallel(n_jobs=3)]: Done 194 tasks      | elapsed:    0.1s\n",
            "[Parallel(n_jobs=3)]: Done 444 tasks      | elapsed:    0.1s\n",
            "[Parallel(n_jobs=3)]: Done 500 out of 500 | elapsed:    0.1s finished\n"
          ]
        },
        {
          "output_type": "execute_result",
          "data": {
            "text/plain": [
              "array([[0.062     , 0.146     , 0.792     ],\n",
              "       [0.862     , 0.02      , 0.118     ],\n",
              "       [0.014     , 0.138     , 0.848     ],\n",
              "       [0.64433333, 0.32      , 0.03566667],\n",
              "       [0.882     , 0.112     , 0.006     ],\n",
              "       [0.004     , 0.23594848, 0.76005152],\n",
              "       [0.094     , 0.156     , 0.75      ],\n",
              "       [0.186     , 0.72      , 0.094     ],\n",
              "       [0.032     , 0.902     , 0.066     ],\n",
              "       [0.044     , 0.788     , 0.168     ]])"
            ]
          },
          "metadata": {},
          "execution_count": 194
        }
      ]
    },
    {
      "cell_type": "markdown",
      "source": [
        "Score Function"
      ],
      "metadata": {
        "id": "f-7XKMatSMlF"
      }
    },
    {
      "cell_type": "code",
      "source": [
        "def score(input_data, model):\n",
        "    return model.predict_proba(input_data)"
      ],
      "metadata": {
        "id": "NbAVyzv6hNHc"
      },
      "execution_count": 195,
      "outputs": []
    },
    {
      "cell_type": "code",
      "source": [
        "prediction = score(input_data=pre_processing(sample_input), model=model)\n",
        "prediction"
      ],
      "metadata": {
        "colab": {
          "base_uri": "https://localhost:8080/"
        },
        "id": "rkGsI0yZhQQF",
        "outputId": "ebd6cb43-b848-46f0-d47b-8b9228e11514"
      },
      "execution_count": 196,
      "outputs": [
        {
          "output_type": "stream",
          "name": "stderr",
          "text": [
            "/usr/local/lib/python3.7/dist-packages/sklearn/base.py:444: UserWarning: X has feature names, but RandomForestClassifier was fitted without feature names\n",
            "  f\"X has feature names, but {self.__class__.__name__} was fitted without\"\n",
            "[Parallel(n_jobs=3)]: Using backend ThreadingBackend with 3 concurrent workers.\n",
            "[Parallel(n_jobs=3)]: Done  44 tasks      | elapsed:    0.0s\n",
            "[Parallel(n_jobs=3)]: Done 194 tasks      | elapsed:    0.0s\n",
            "[Parallel(n_jobs=3)]: Done 444 tasks      | elapsed:    0.1s\n",
            "[Parallel(n_jobs=3)]: Done 500 out of 500 | elapsed:    0.1s finished\n"
          ]
        },
        {
          "output_type": "execute_result",
          "data": {
            "text/plain": [
              "array([[0.062     , 0.146     , 0.792     ],\n",
              "       [0.862     , 0.02      , 0.118     ],\n",
              "       [0.014     , 0.138     , 0.848     ],\n",
              "       [0.64433333, 0.32      , 0.03566667],\n",
              "       [0.882     , 0.112     , 0.006     ],\n",
              "       [0.004     , 0.23594848, 0.76005152],\n",
              "       [0.094     , 0.156     , 0.75      ],\n",
              "       [0.186     , 0.72      , 0.094     ],\n",
              "       [0.032     , 0.902     , 0.066     ],\n",
              "       [0.044     , 0.788     , 0.168     ]])"
            ]
          },
          "metadata": {},
          "execution_count": 196
        }
      ]
    },
    {
      "cell_type": "markdown",
      "source": [
        "Post-processing"
      ],
      "metadata": {
        "id": "DQmzlx6wSRNH"
      }
    },
    {
      "cell_type": "code",
      "source": [
        "def post_processing(prediction):\n",
        "    if len(prediction)==1:\n",
        "        return prediction[:, 1][0]\n",
        "    else:\n",
        "        return prediction[:, 1]"
      ],
      "metadata": {
        "id": "6m0hFWRlhXEo"
      },
      "execution_count": 197,
      "outputs": []
    },
    {
      "cell_type": "code",
      "source": [
        "output = post_processing(score(input_data=pre_processing(sample_input), model=model))\n",
        "output"
      ],
      "metadata": {
        "colab": {
          "base_uri": "https://localhost:8080/"
        },
        "id": "9si0NfHJhasE",
        "outputId": "3721abfb-7f03-4094-9d76-51f1e2ffc458"
      },
      "execution_count": 198,
      "outputs": [
        {
          "output_type": "stream",
          "name": "stderr",
          "text": [
            "/usr/local/lib/python3.7/dist-packages/sklearn/base.py:444: UserWarning: X has feature names, but RandomForestClassifier was fitted without feature names\n",
            "  f\"X has feature names, but {self.__class__.__name__} was fitted without\"\n",
            "[Parallel(n_jobs=3)]: Using backend ThreadingBackend with 3 concurrent workers.\n",
            "[Parallel(n_jobs=3)]: Done  44 tasks      | elapsed:    0.0s\n",
            "[Parallel(n_jobs=3)]: Done 194 tasks      | elapsed:    0.0s\n",
            "[Parallel(n_jobs=3)]: Done 444 tasks      | elapsed:    0.1s\n",
            "[Parallel(n_jobs=3)]: Done 500 out of 500 | elapsed:    0.1s finished\n"
          ]
        },
        {
          "output_type": "execute_result",
          "data": {
            "text/plain": [
              "array([0.146     , 0.02      , 0.138     , 0.32      , 0.112     ,\n",
              "       0.23594848, 0.156     , 0.72      , 0.902     , 0.788     ])"
            ]
          },
          "metadata": {},
          "execution_count": 198
        }
      ]
    },
    {
      "cell_type": "code",
      "source": [
        "sample_input['prediction'] = post_processing(model.predict_proba(pre_processing(sample_input)))\n",
        "sample_input"
      ],
      "metadata": {
        "colab": {
          "base_uri": "https://localhost:8080/",
          "height": 488
        },
        "id": "Z9wX_WMkhma4",
        "outputId": "d7d3fdb1-b618-4f37-b1d6-efc8ea53bd0c"
      },
      "execution_count": 199,
      "outputs": [
        {
          "output_type": "stream",
          "name": "stderr",
          "text": [
            "/usr/local/lib/python3.7/dist-packages/sklearn/base.py:444: UserWarning: X has feature names, but RandomForestClassifier was fitted without feature names\n",
            "  f\"X has feature names, but {self.__class__.__name__} was fitted without\"\n",
            "[Parallel(n_jobs=3)]: Using backend ThreadingBackend with 3 concurrent workers.\n",
            "[Parallel(n_jobs=3)]: Done  44 tasks      | elapsed:    0.0s\n",
            "[Parallel(n_jobs=3)]: Done 194 tasks      | elapsed:    0.1s\n",
            "[Parallel(n_jobs=3)]: Done 444 tasks      | elapsed:    0.1s\n",
            "[Parallel(n_jobs=3)]: Done 500 out of 500 | elapsed:    0.1s finished\n"
          ]
        },
        {
          "output_type": "execute_result",
          "data": {
            "text/plain": [
              "     English Speaking  Course instructor  Course  Semester  Class size   id  \\\n",
              "91                  2                  9       5         2          24   92   \n",
              "69                  2                 11       1         2          51   70   \n",
              "10                  2                 10      22         2           9   11   \n",
              "137                 2                 22       1         2          42  138   \n",
              "35                  2                 16       8         2          36   36   \n",
              "5                   2                 23       3         1          20    6   \n",
              "92                  2                 18      25         2          25   93   \n",
              "135                 2                 12       8         2          24  136   \n",
              "58                  2                  7      25         2          42   59   \n",
              "100                 1                  6      17         2          35  101   \n",
              "\n",
              "     prediction  \n",
              "91     0.146000  \n",
              "69     0.020000  \n",
              "10     0.138000  \n",
              "137    0.320000  \n",
              "35     0.112000  \n",
              "5      0.235948  \n",
              "92     0.156000  \n",
              "135    0.720000  \n",
              "58     0.902000  \n",
              "100    0.788000  "
            ],
            "text/html": [
              "\n",
              "  <div id=\"df-791227a4-c88f-4b3d-88bc-a99d05649218\">\n",
              "    <div class=\"colab-df-container\">\n",
              "      <div>\n",
              "<style scoped>\n",
              "    .dataframe tbody tr th:only-of-type {\n",
              "        vertical-align: middle;\n",
              "    }\n",
              "\n",
              "    .dataframe tbody tr th {\n",
              "        vertical-align: top;\n",
              "    }\n",
              "\n",
              "    .dataframe thead th {\n",
              "        text-align: right;\n",
              "    }\n",
              "</style>\n",
              "<table border=\"1\" class=\"dataframe\">\n",
              "  <thead>\n",
              "    <tr style=\"text-align: right;\">\n",
              "      <th></th>\n",
              "      <th>English Speaking</th>\n",
              "      <th>Course instructor</th>\n",
              "      <th>Course</th>\n",
              "      <th>Semester</th>\n",
              "      <th>Class size</th>\n",
              "      <th>id</th>\n",
              "      <th>prediction</th>\n",
              "    </tr>\n",
              "  </thead>\n",
              "  <tbody>\n",
              "    <tr>\n",
              "      <th>91</th>\n",
              "      <td>2</td>\n",
              "      <td>9</td>\n",
              "      <td>5</td>\n",
              "      <td>2</td>\n",
              "      <td>24</td>\n",
              "      <td>92</td>\n",
              "      <td>0.146000</td>\n",
              "    </tr>\n",
              "    <tr>\n",
              "      <th>69</th>\n",
              "      <td>2</td>\n",
              "      <td>11</td>\n",
              "      <td>1</td>\n",
              "      <td>2</td>\n",
              "      <td>51</td>\n",
              "      <td>70</td>\n",
              "      <td>0.020000</td>\n",
              "    </tr>\n",
              "    <tr>\n",
              "      <th>10</th>\n",
              "      <td>2</td>\n",
              "      <td>10</td>\n",
              "      <td>22</td>\n",
              "      <td>2</td>\n",
              "      <td>9</td>\n",
              "      <td>11</td>\n",
              "      <td>0.138000</td>\n",
              "    </tr>\n",
              "    <tr>\n",
              "      <th>137</th>\n",
              "      <td>2</td>\n",
              "      <td>22</td>\n",
              "      <td>1</td>\n",
              "      <td>2</td>\n",
              "      <td>42</td>\n",
              "      <td>138</td>\n",
              "      <td>0.320000</td>\n",
              "    </tr>\n",
              "    <tr>\n",
              "      <th>35</th>\n",
              "      <td>2</td>\n",
              "      <td>16</td>\n",
              "      <td>8</td>\n",
              "      <td>2</td>\n",
              "      <td>36</td>\n",
              "      <td>36</td>\n",
              "      <td>0.112000</td>\n",
              "    </tr>\n",
              "    <tr>\n",
              "      <th>5</th>\n",
              "      <td>2</td>\n",
              "      <td>23</td>\n",
              "      <td>3</td>\n",
              "      <td>1</td>\n",
              "      <td>20</td>\n",
              "      <td>6</td>\n",
              "      <td>0.235948</td>\n",
              "    </tr>\n",
              "    <tr>\n",
              "      <th>92</th>\n",
              "      <td>2</td>\n",
              "      <td>18</td>\n",
              "      <td>25</td>\n",
              "      <td>2</td>\n",
              "      <td>25</td>\n",
              "      <td>93</td>\n",
              "      <td>0.156000</td>\n",
              "    </tr>\n",
              "    <tr>\n",
              "      <th>135</th>\n",
              "      <td>2</td>\n",
              "      <td>12</td>\n",
              "      <td>8</td>\n",
              "      <td>2</td>\n",
              "      <td>24</td>\n",
              "      <td>136</td>\n",
              "      <td>0.720000</td>\n",
              "    </tr>\n",
              "    <tr>\n",
              "      <th>58</th>\n",
              "      <td>2</td>\n",
              "      <td>7</td>\n",
              "      <td>25</td>\n",
              "      <td>2</td>\n",
              "      <td>42</td>\n",
              "      <td>59</td>\n",
              "      <td>0.902000</td>\n",
              "    </tr>\n",
              "    <tr>\n",
              "      <th>100</th>\n",
              "      <td>1</td>\n",
              "      <td>6</td>\n",
              "      <td>17</td>\n",
              "      <td>2</td>\n",
              "      <td>35</td>\n",
              "      <td>101</td>\n",
              "      <td>0.788000</td>\n",
              "    </tr>\n",
              "  </tbody>\n",
              "</table>\n",
              "</div>\n",
              "      <button class=\"colab-df-convert\" onclick=\"convertToInteractive('df-791227a4-c88f-4b3d-88bc-a99d05649218')\"\n",
              "              title=\"Convert this dataframe to an interactive table.\"\n",
              "              style=\"display:none;\">\n",
              "        \n",
              "  <svg xmlns=\"http://www.w3.org/2000/svg\" height=\"24px\"viewBox=\"0 0 24 24\"\n",
              "       width=\"24px\">\n",
              "    <path d=\"M0 0h24v24H0V0z\" fill=\"none\"/>\n",
              "    <path d=\"M18.56 5.44l.94 2.06.94-2.06 2.06-.94-2.06-.94-.94-2.06-.94 2.06-2.06.94zm-11 1L8.5 8.5l.94-2.06 2.06-.94-2.06-.94L8.5 2.5l-.94 2.06-2.06.94zm10 10l.94 2.06.94-2.06 2.06-.94-2.06-.94-.94-2.06-.94 2.06-2.06.94z\"/><path d=\"M17.41 7.96l-1.37-1.37c-.4-.4-.92-.59-1.43-.59-.52 0-1.04.2-1.43.59L10.3 9.45l-7.72 7.72c-.78.78-.78 2.05 0 2.83L4 21.41c.39.39.9.59 1.41.59.51 0 1.02-.2 1.41-.59l7.78-7.78 2.81-2.81c.8-.78.8-2.07 0-2.86zM5.41 20L4 18.59l7.72-7.72 1.47 1.35L5.41 20z\"/>\n",
              "  </svg>\n",
              "      </button>\n",
              "      \n",
              "  <style>\n",
              "    .colab-df-container {\n",
              "      display:flex;\n",
              "      flex-wrap:wrap;\n",
              "      gap: 12px;\n",
              "    }\n",
              "\n",
              "    .colab-df-convert {\n",
              "      background-color: #E8F0FE;\n",
              "      border: none;\n",
              "      border-radius: 50%;\n",
              "      cursor: pointer;\n",
              "      display: none;\n",
              "      fill: #1967D2;\n",
              "      height: 32px;\n",
              "      padding: 0 0 0 0;\n",
              "      width: 32px;\n",
              "    }\n",
              "\n",
              "    .colab-df-convert:hover {\n",
              "      background-color: #E2EBFA;\n",
              "      box-shadow: 0px 1px 2px rgba(60, 64, 67, 0.3), 0px 1px 3px 1px rgba(60, 64, 67, 0.15);\n",
              "      fill: #174EA6;\n",
              "    }\n",
              "\n",
              "    [theme=dark] .colab-df-convert {\n",
              "      background-color: #3B4455;\n",
              "      fill: #D2E3FC;\n",
              "    }\n",
              "\n",
              "    [theme=dark] .colab-df-convert:hover {\n",
              "      background-color: #434B5C;\n",
              "      box-shadow: 0px 1px 3px 1px rgba(0, 0, 0, 0.15);\n",
              "      filter: drop-shadow(0px 1px 2px rgba(0, 0, 0, 0.3));\n",
              "      fill: #FFFFFF;\n",
              "    }\n",
              "  </style>\n",
              "\n",
              "      <script>\n",
              "        const buttonEl =\n",
              "          document.querySelector('#df-791227a4-c88f-4b3d-88bc-a99d05649218 button.colab-df-convert');\n",
              "        buttonEl.style.display =\n",
              "          google.colab.kernel.accessAllowed ? 'block' : 'none';\n",
              "\n",
              "        async function convertToInteractive(key) {\n",
              "          const element = document.querySelector('#df-791227a4-c88f-4b3d-88bc-a99d05649218');\n",
              "          const dataTable =\n",
              "            await google.colab.kernel.invokeFunction('convertToInteractive',\n",
              "                                                     [key], {});\n",
              "          if (!dataTable) return;\n",
              "\n",
              "          const docLinkHtml = 'Like what you see? Visit the ' +\n",
              "            '<a target=\"_blank\" href=https://colab.research.google.com/notebooks/data_table.ipynb>data table notebook</a>'\n",
              "            + ' to learn more about interactive tables.';\n",
              "          element.innerHTML = '';\n",
              "          dataTable['output_type'] = 'display_data';\n",
              "          await google.colab.output.renderOutput(dataTable, element);\n",
              "          const docLink = document.createElement('div');\n",
              "          docLink.innerHTML = docLinkHtml;\n",
              "          element.appendChild(docLink);\n",
              "        }\n",
              "      </script>\n",
              "    </div>\n",
              "  </div>\n",
              "  "
            ]
          },
          "metadata": {},
          "execution_count": 199
        }
      ]
    },
    {
      "cell_type": "code",
      "source": [
        "sample_output = post_processing(score(input_data=pre_processing(sample_input), model=model))\n",
        "sample_output"
      ],
      "metadata": {
        "colab": {
          "base_uri": "https://localhost:8080/"
        },
        "id": "spm-znGChroQ",
        "outputId": "bbfa2c28-bf5e-42fa-ea36-ecf77d227479"
      },
      "execution_count": 200,
      "outputs": [
        {
          "output_type": "stream",
          "name": "stderr",
          "text": [
            "/usr/local/lib/python3.7/dist-packages/sklearn/base.py:444: UserWarning: X has feature names, but RandomForestClassifier was fitted without feature names\n",
            "  f\"X has feature names, but {self.__class__.__name__} was fitted without\"\n",
            "[Parallel(n_jobs=3)]: Using backend ThreadingBackend with 3 concurrent workers.\n",
            "[Parallel(n_jobs=3)]: Done  44 tasks      | elapsed:    0.0s\n",
            "[Parallel(n_jobs=3)]: Done 194 tasks      | elapsed:    0.1s\n",
            "[Parallel(n_jobs=3)]: Done 444 tasks      | elapsed:    0.1s\n",
            "[Parallel(n_jobs=3)]: Done 500 out of 500 | elapsed:    0.1s finished\n"
          ]
        },
        {
          "output_type": "execute_result",
          "data": {
            "text/plain": [
              "array([0.146     , 0.02      , 0.138     , 0.32      , 0.112     ,\n",
              "       0.23594848, 0.156     , 0.72      , 0.902     , 0.788     ])"
            ]
          },
          "metadata": {},
          "execution_count": 200
        }
      ]
    },
    {
      "cell_type": "markdown",
      "source": [
        "Inference Pipeline"
      ],
      "metadata": {
        "id": "Iy09VMPoSa1t"
      }
    },
    {
      "cell_type": "code",
      "source": [
        "def app_prediction_function(input_data, model):\n",
        "    return post_processing(score(input_data=pre_processing(input_data), model=model))"
      ],
      "metadata": {
        "id": "Bv_Gkaffh0aj"
      },
      "execution_count": 201,
      "outputs": []
    },
    {
      "cell_type": "code",
      "source": [
        "input_data = data[['English Speaking','Course instructor','Course','Semester','Class size']].sample(1)\n",
        "print(input_data)\n",
        "app_prediction_function(input_data, model)"
      ],
      "metadata": {
        "colab": {
          "base_uri": "https://localhost:8080/"
        },
        "id": "uVxibv3Xh5qc",
        "outputId": "cf274bed-6e8e-4e87-a81e-f94a6c6a7cb4"
      },
      "execution_count": 202,
      "outputs": [
        {
          "output_type": "stream",
          "name": "stderr",
          "text": [
            "/usr/local/lib/python3.7/dist-packages/sklearn/base.py:444: UserWarning: X has feature names, but RandomForestClassifier was fitted without feature names\n",
            "  f\"X has feature names, but {self.__class__.__name__} was fitted without\"\n",
            "[Parallel(n_jobs=3)]: Using backend ThreadingBackend with 3 concurrent workers.\n",
            "[Parallel(n_jobs=3)]: Done  44 tasks      | elapsed:    0.0s\n"
          ]
        },
        {
          "output_type": "stream",
          "name": "stdout",
          "text": [
            "    English Speaking  Course instructor  Course  Semester  Class size\n",
            "12                 2                 18      21         2          29\n"
          ]
        },
        {
          "output_type": "stream",
          "name": "stderr",
          "text": [
            "[Parallel(n_jobs=3)]: Done 194 tasks      | elapsed:    0.0s\n",
            "[Parallel(n_jobs=3)]: Done 444 tasks      | elapsed:    0.1s\n",
            "[Parallel(n_jobs=3)]: Done 500 out of 500 | elapsed:    0.1s finished\n"
          ]
        },
        {
          "output_type": "execute_result",
          "data": {
            "text/plain": [
              "0.084"
            ]
          },
          "metadata": {},
          "execution_count": 202
        }
      ]
    },
    {
      "cell_type": "code",
      "source": [
        "input_data = input_data.to_dict(orient='records')[0]\n",
        "input_data"
      ],
      "metadata": {
        "colab": {
          "base_uri": "https://localhost:8080/"
        },
        "id": "3yMqg9dgiEPi",
        "outputId": "c14aa943-3fd9-4091-cac3-d5217a5b34e9"
      },
      "execution_count": 203,
      "outputs": [
        {
          "output_type": "execute_result",
          "data": {
            "text/plain": [
              "{'Class size': 29,\n",
              " 'Course': 21,\n",
              " 'Course instructor': 18,\n",
              " 'English Speaking': 2,\n",
              " 'Semester': 2,\n",
              " 'id': 13}"
            ]
          },
          "metadata": {},
          "execution_count": 203
        }
      ]
    },
    {
      "cell_type": "code",
      "source": [
        "input_data = pd.DataFrame([input_data])\n",
        "input_data"
      ],
      "metadata": {
        "colab": {
          "base_uri": "https://localhost:8080/",
          "height": 81
        },
        "id": "xRSw347qiHuv",
        "outputId": "81c57665-059d-49d3-de0f-057206607a50"
      },
      "execution_count": 204,
      "outputs": [
        {
          "output_type": "execute_result",
          "data": {
            "text/plain": [
              "   English Speaking  Course instructor  Course  Semester  Class size  id\n",
              "0                 2                 18      21         2          29  13"
            ],
            "text/html": [
              "\n",
              "  <div id=\"df-a81bef93-e1f8-496f-be96-c3c97b3e2b14\">\n",
              "    <div class=\"colab-df-container\">\n",
              "      <div>\n",
              "<style scoped>\n",
              "    .dataframe tbody tr th:only-of-type {\n",
              "        vertical-align: middle;\n",
              "    }\n",
              "\n",
              "    .dataframe tbody tr th {\n",
              "        vertical-align: top;\n",
              "    }\n",
              "\n",
              "    .dataframe thead th {\n",
              "        text-align: right;\n",
              "    }\n",
              "</style>\n",
              "<table border=\"1\" class=\"dataframe\">\n",
              "  <thead>\n",
              "    <tr style=\"text-align: right;\">\n",
              "      <th></th>\n",
              "      <th>English Speaking</th>\n",
              "      <th>Course instructor</th>\n",
              "      <th>Course</th>\n",
              "      <th>Semester</th>\n",
              "      <th>Class size</th>\n",
              "      <th>id</th>\n",
              "    </tr>\n",
              "  </thead>\n",
              "  <tbody>\n",
              "    <tr>\n",
              "      <th>0</th>\n",
              "      <td>2</td>\n",
              "      <td>18</td>\n",
              "      <td>21</td>\n",
              "      <td>2</td>\n",
              "      <td>29</td>\n",
              "      <td>13</td>\n",
              "    </tr>\n",
              "  </tbody>\n",
              "</table>\n",
              "</div>\n",
              "      <button class=\"colab-df-convert\" onclick=\"convertToInteractive('df-a81bef93-e1f8-496f-be96-c3c97b3e2b14')\"\n",
              "              title=\"Convert this dataframe to an interactive table.\"\n",
              "              style=\"display:none;\">\n",
              "        \n",
              "  <svg xmlns=\"http://www.w3.org/2000/svg\" height=\"24px\"viewBox=\"0 0 24 24\"\n",
              "       width=\"24px\">\n",
              "    <path d=\"M0 0h24v24H0V0z\" fill=\"none\"/>\n",
              "    <path d=\"M18.56 5.44l.94 2.06.94-2.06 2.06-.94-2.06-.94-.94-2.06-.94 2.06-2.06.94zm-11 1L8.5 8.5l.94-2.06 2.06-.94-2.06-.94L8.5 2.5l-.94 2.06-2.06.94zm10 10l.94 2.06.94-2.06 2.06-.94-2.06-.94-.94-2.06-.94 2.06-2.06.94z\"/><path d=\"M17.41 7.96l-1.37-1.37c-.4-.4-.92-.59-1.43-.59-.52 0-1.04.2-1.43.59L10.3 9.45l-7.72 7.72c-.78.78-.78 2.05 0 2.83L4 21.41c.39.39.9.59 1.41.59.51 0 1.02-.2 1.41-.59l7.78-7.78 2.81-2.81c.8-.78.8-2.07 0-2.86zM5.41 20L4 18.59l7.72-7.72 1.47 1.35L5.41 20z\"/>\n",
              "  </svg>\n",
              "      </button>\n",
              "      \n",
              "  <style>\n",
              "    .colab-df-container {\n",
              "      display:flex;\n",
              "      flex-wrap:wrap;\n",
              "      gap: 12px;\n",
              "    }\n",
              "\n",
              "    .colab-df-convert {\n",
              "      background-color: #E8F0FE;\n",
              "      border: none;\n",
              "      border-radius: 50%;\n",
              "      cursor: pointer;\n",
              "      display: none;\n",
              "      fill: #1967D2;\n",
              "      height: 32px;\n",
              "      padding: 0 0 0 0;\n",
              "      width: 32px;\n",
              "    }\n",
              "\n",
              "    .colab-df-convert:hover {\n",
              "      background-color: #E2EBFA;\n",
              "      box-shadow: 0px 1px 2px rgba(60, 64, 67, 0.3), 0px 1px 3px 1px rgba(60, 64, 67, 0.15);\n",
              "      fill: #174EA6;\n",
              "    }\n",
              "\n",
              "    [theme=dark] .colab-df-convert {\n",
              "      background-color: #3B4455;\n",
              "      fill: #D2E3FC;\n",
              "    }\n",
              "\n",
              "    [theme=dark] .colab-df-convert:hover {\n",
              "      background-color: #434B5C;\n",
              "      box-shadow: 0px 1px 3px 1px rgba(0, 0, 0, 0.15);\n",
              "      filter: drop-shadow(0px 1px 2px rgba(0, 0, 0, 0.3));\n",
              "      fill: #FFFFFF;\n",
              "    }\n",
              "  </style>\n",
              "\n",
              "      <script>\n",
              "        const buttonEl =\n",
              "          document.querySelector('#df-a81bef93-e1f8-496f-be96-c3c97b3e2b14 button.colab-df-convert');\n",
              "        buttonEl.style.display =\n",
              "          google.colab.kernel.accessAllowed ? 'block' : 'none';\n",
              "\n",
              "        async function convertToInteractive(key) {\n",
              "          const element = document.querySelector('#df-a81bef93-e1f8-496f-be96-c3c97b3e2b14');\n",
              "          const dataTable =\n",
              "            await google.colab.kernel.invokeFunction('convertToInteractive',\n",
              "                                                     [key], {});\n",
              "          if (!dataTable) return;\n",
              "\n",
              "          const docLinkHtml = 'Like what you see? Visit the ' +\n",
              "            '<a target=\"_blank\" href=https://colab.research.google.com/notebooks/data_table.ipynb>data table notebook</a>'\n",
              "            + ' to learn more about interactive tables.';\n",
              "          element.innerHTML = '';\n",
              "          dataTable['output_type'] = 'display_data';\n",
              "          await google.colab.output.renderOutput(dataTable, element);\n",
              "          const docLink = document.createElement('div');\n",
              "          docLink.innerHTML = docLinkHtml;\n",
              "          element.appendChild(docLink);\n",
              "        }\n",
              "      </script>\n",
              "    </div>\n",
              "  </div>\n",
              "  "
            ]
          },
          "metadata": {},
          "execution_count": 204
        }
      ]
    },
    {
      "cell_type": "markdown",
      "source": [
        "Get Prediction"
      ],
      "metadata": {
        "id": "quml5BZISg-p"
      }
    },
    {
      "cell_type": "code",
      "source": [
        "app_prediction_function(input_data, model)"
      ],
      "metadata": {
        "colab": {
          "base_uri": "https://localhost:8080/"
        },
        "id": "j2X5gONYiKxd",
        "outputId": "077668f0-42b0-419f-98f8-26f9109270a2"
      },
      "execution_count": 205,
      "outputs": [
        {
          "output_type": "stream",
          "name": "stderr",
          "text": [
            "/usr/local/lib/python3.7/dist-packages/sklearn/base.py:444: UserWarning: X has feature names, but RandomForestClassifier was fitted without feature names\n",
            "  f\"X has feature names, but {self.__class__.__name__} was fitted without\"\n",
            "[Parallel(n_jobs=3)]: Using backend ThreadingBackend with 3 concurrent workers.\n",
            "[Parallel(n_jobs=3)]: Done  44 tasks      | elapsed:    0.0s\n",
            "[Parallel(n_jobs=3)]: Done 194 tasks      | elapsed:    0.0s\n",
            "[Parallel(n_jobs=3)]: Done 444 tasks      | elapsed:    0.1s\n",
            "[Parallel(n_jobs=3)]: Done 500 out of 500 | elapsed:    0.1s finished\n"
          ]
        },
        {
          "output_type": "execute_result",
          "data": {
            "text/plain": [
              "0.084"
            ]
          },
          "metadata": {},
          "execution_count": 205
        }
      ]
    }
  ]
}